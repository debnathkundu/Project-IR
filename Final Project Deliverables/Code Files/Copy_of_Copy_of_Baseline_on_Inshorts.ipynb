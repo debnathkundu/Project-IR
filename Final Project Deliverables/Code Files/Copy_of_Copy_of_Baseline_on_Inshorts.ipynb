{
  "metadata": {
    "kernelspec": {
      "language": "python",
      "display_name": "Python 3",
      "name": "python3"
    },
    "language_info": {
      "pygments_lexer": "ipython3",
      "nbconvert_exporter": "python",
      "version": "3.6.4",
      "file_extension": ".py",
      "codemirror_mode": {
        "name": "ipython",
        "version": 3
      },
      "name": "python",
      "mimetype": "text/x-python"
    },
    "colab": {
      "provenance": []
    }
  },
  "nbformat_minor": 0,
  "nbformat": 4,
  "cells": [
    {
      "cell_type": "markdown",
      "source": [
        "## 1. Importing necessary Libraries"
      ],
      "metadata": {
        "id": "A1XGOo8D3yTu"
      }
    },
    {
      "cell_type": "code",
      "source": [
        "from google.colab import drive\n",
        "drive.mount('/content/drive')"
      ],
      "metadata": {
        "colab": {
          "base_uri": "https://localhost:8080/"
        },
        "id": "xWs_22V6EPCS",
        "outputId": "062a9b61-b8a6-43aa-91fe-52be8bec23ba"
      },
      "execution_count": null,
      "outputs": [
        {
          "output_type": "stream",
          "name": "stdout",
          "text": [
            "Mounted at /content/drive\n"
          ]
        }
      ]
    },
    {
      "cell_type": "code",
      "source": [
        "import numpy as np\n",
        "import pandas as pd\n",
        "\n",
        "import os\n",
        "import math\n",
        "import time\n",
        "\n",
        "import matplotlib.pyplot as plt\n",
        "import seaborn as sns\n",
        "import plotly.figure_factory as ff\n",
        "import plotly.graph_objects as go\n",
        "import plotly.express as px\n",
        "\n",
        "#for storing the model\n",
        "import pickle\n",
        "\n",
        "# Below libraries are for text processing using NLTK\n",
        "import nltk\n",
        "from nltk.corpus import stopwords\n",
        "from nltk.tokenize import word_tokenize\n",
        "from nltk.stem import WordNetLemmatizer\n",
        "from nltk.corpus import stopwords\n",
        "from nltk.tokenize import word_tokenize\n",
        "nltk.download('stopwords')\n",
        "nltk.download('punkt')\n",
        "nltk.download('wordnet')\n",
        "\n",
        "# Below libraries are for feature representation using sklearn\n",
        "from sklearn.feature_extraction.text import CountVectorizer\n",
        "from sklearn.feature_extraction.text import TfidfVectorizer\n",
        "\n",
        "# Below libraries are for similarity matrices using sklearn\n",
        "from sklearn.metrics.pairwise import cosine_similarity  \n",
        "from sklearn.metrics import pairwise_distances\n"
      ],
      "metadata": {
        "execution": {
          "iopub.status.busy": "2022-10-11T11:04:03.355241Z",
          "iopub.execute_input": "2022-10-11T11:04:03.355664Z",
          "iopub.status.idle": "2022-10-11T11:04:05.531203Z",
          "shell.execute_reply.started": "2022-10-11T11:04:03.355601Z",
          "shell.execute_reply": "2022-10-11T11:04:05.529706Z"
        },
        "trusted": true,
        "id": "3lq265gw3yTu",
        "colab": {
          "base_uri": "https://localhost:8080/"
        },
        "outputId": "58c0cf42-4177-455c-e371-6b8af9774fd9"
      },
      "execution_count": null,
      "outputs": [
        {
          "output_type": "stream",
          "name": "stderr",
          "text": [
            "[nltk_data] Downloading package stopwords to /root/nltk_data...\n",
            "[nltk_data]   Unzipping corpora/stopwords.zip.\n",
            "[nltk_data] Downloading package punkt to /root/nltk_data...\n",
            "[nltk_data]   Unzipping tokenizers/punkt.zip.\n",
            "[nltk_data] Downloading package wordnet to /root/nltk_data...\n"
          ]
        }
      ]
    },
    {
      "cell_type": "markdown",
      "source": [
        "## 2. Loading Data"
      ],
      "metadata": {
        "id": "SxK5gt5s3yTw"
      }
    },
    {
      "cell_type": "code",
      "source": [
        "# Shamba code \n",
        "\n",
        "\n",
        "\n",
        "\n",
        "# #news_articles = pd.read_json(\"/content/News_Category_Dataset_v2.json\", lines = True)\n",
        "# news_articles = pd.read_json(\"/content/drive/MyDrive/News_Category_Dataset_v2.json\", lines = True)\n",
        "# df=news_articles\n",
        "db ={}\n",
        "folder = '/content/drive/MyDrive/NewsData/'\n",
        "for filename in os.listdir(folder):  \n",
        "  myfile = open(folder+filename,\"rb\")\n",
        "  db[os.path.splitext(filename)[0]]= pickle.load(myfile)\n",
        "  #os.path.splitext(filename)[0] = pd.dataframe(db[os.path.splitext(filename)[0]])\n",
        "  myfile.close()\n",
        "  # print(db[os.path.splitext(filename)[0]])\n",
        "db"
      ],
      "metadata": {
        "execution": {
          "iopub.status.busy": "2022-10-11T11:04:05.533798Z",
          "iopub.execute_input": "2022-10-11T11:04:05.534205Z",
          "iopub.status.idle": "2022-10-11T11:04:10.855675Z",
          "shell.execute_reply.started": "2022-10-11T11:04:05.534132Z",
          "shell.execute_reply": "2022-10-11T11:04:10.854449Z"
        },
        "trusted": true,
        "id": "RIDCggpk3yTw"
      },
      "execution_count": null,
      "outputs": []
    },
    {
      "cell_type": "code",
      "source": [],
      "metadata": {
        "id": "KrvihpvZV2Ee"
      },
      "execution_count": null,
      "outputs": []
    },
    {
      "cell_type": "code",
      "source": [
        "res = pd.DataFrame(columns=['short_description', 'link', 'headlines', 'category'])\n",
        "for keys, values in db.items():\n",
        "  #print(values)\n",
        "  keys = pd.DataFrame.from_dict(values) \n",
        "  #print(keys)\n",
        "  frames = [res, keys]\n",
        "  res = pd.concat(frames, ignore_index = True)\n",
        "#news_articles_temp"
      ],
      "metadata": {
        "id": "Lvpf6FbgiFBs"
      },
      "execution_count": null,
      "outputs": []
    },
    {
      "cell_type": "markdown",
      "source": [
        "## 5. Text Preprocessing"
      ],
      "metadata": {
        "id": "4qIABbgr3yT1"
      }
    },
    {
      "cell_type": "markdown",
      "source": [
        "### 5.a Stopwords removal"
      ],
      "metadata": {
        "id": "SNKUpclh3yT1"
      }
    },
    {
      "cell_type": "markdown",
      "source": [
        "Stop words are not much helpful in analyis and also their inclusion consumes much time during processing so let's remove these. "
      ],
      "metadata": {
        "id": "0tin2Djz3yT1"
      }
    },
    {
      "cell_type": "code",
      "source": [
        "nltk.download('stopwords')\n",
        "stop_words = set(stopwords.words('english'))\n",
        "w_tokenizer = nltk.tokenize.WhitespaceTokenizer()\n",
        "lemmatizer = nltk.stem.WordNetLemmatizer()"
      ],
      "metadata": {
        "execution": {
          "iopub.status.busy": "2022-10-11T11:04:12.696026Z",
          "iopub.execute_input": "2022-10-11T11:04:12.696473Z",
          "iopub.status.idle": "2022-10-11T11:04:12.709675Z",
          "shell.execute_reply.started": "2022-10-11T11:04:12.696385Z",
          "shell.execute_reply": "2022-10-11T11:04:12.708325Z"
        },
        "trusted": true,
        "colab": {
          "base_uri": "https://localhost:8080/"
        },
        "id": "XH7qO_fW3yT1",
        "outputId": "acf6c9a3-faa6-4df5-b15a-af3151b7565a"
      },
      "execution_count": null,
      "outputs": [
        {
          "output_type": "stream",
          "name": "stderr",
          "text": [
            "[nltk_data] Downloading package stopwords to /root/nltk_data...\n",
            "[nltk_data]   Package stopwords is already up-to-date!\n"
          ]
        }
      ]
    },
    {
      "cell_type": "code",
      "source": [
        "res"
      ],
      "metadata": {
        "colab": {
          "base_uri": "https://localhost:8080/",
          "height": 589
        },
        "id": "d0NfR7XkGBm3",
        "outputId": "e29eea52-f8fa-48fa-a73a-5be0805c5399"
      },
      "execution_count": null,
      "outputs": [
        {
          "output_type": "execute_result",
          "data": {
            "text/plain": [
              "                                      short_description  \\\n",
              "0     Filmmaker Ramesh Talwar said that actress Jaya...   \n",
              "1     Actress Juhi Chawla, who signed a ₹1 lakh bond...   \n",
              "2     Actress Shehnaaz Gill said she cried a lot aft...   \n",
              "3     Actor Zeeshan Khan reacted to an Instagram use...   \n",
              "4     Salman Khan shared that Bhumika Chawla was pro...   \n",
              "...                                                 ...   \n",
              "1165  Chinese Foreign Ministry said the US has made ...   \n",
              "1166  Chinese search giant Baidu on Monday cancelled...   \n",
              "1167  Twitter CEO Elon Musk responded after Canadian...   \n",
              "1168  Parts of Twitter's source code, the computer c...   \n",
              "1169  The ICMR has released the country's first ethi...   \n",
              "\n",
              "                                                   link  \\\n",
              "0     https://www.hindustantimes.com/entertainment/b...   \n",
              "1     https://www.news18.com/amp/movies/ipl-rinku-si...   \n",
              "2     https://www.hindustantimes.com/entertainment/b...   \n",
              "3     https://www.hindustantimes.com/entertainment/t...   \n",
              "4     https://indianexpress.com/article/entertainmen...   \n",
              "...                                                 ...   \n",
              "1165  https://www.moneycontrol.com/news/world/china-...   \n",
              "1166  https://www.reuters.com/technology/chinas-baid...   \n",
              "1167  https://twitter.com/elonmusk/status/1640188239...   \n",
              "1168  https://apnews.com/article/twitter-source-code...   \n",
              "1169  https://www.moneycontrol.com/news/business/icm...   \n",
              "\n",
              "                                              headlines       category  \n",
              "0     Jaya said 'I shouldn't flop in play': Ramesh o...  ENTERTAINMENT  \n",
              "1     Thought it was right thing to do: Juhi on help...  ENTERTAINMENT  \n",
              "2     Got rejected for my 1st music video, working w...  ENTERTAINMENT  \n",
              "3     Instagram user calls Zeeshan Khan a 'terrorist...  ENTERTAINMENT  \n",
              "4     Bhumika was scared, thought I'd run after her:...  ENTERTAINMENT  \n",
              "...                                                 ...            ...  \n",
              "1165  US presumption of guilt against TikTok is base...     TECHNOLOGY  \n",
              "1166  China's Baidu cancels public launch of its Cha...     TECHNOLOGY  \n",
              "1167  No different standard for celebs: Musk to acto...     TECHNOLOGY  \n",
              "1168    Computer code used to run Twitter leaked online     TECHNOLOGY  \n",
              "1169  India's first ethical guidelines for AI usage ...     TECHNOLOGY  \n",
              "\n",
              "[1170 rows x 4 columns]"
            ],
            "text/html": [
              "\n",
              "  <div id=\"df-a7d49915-458b-43d3-b222-0fc17dca0664\">\n",
              "    <div class=\"colab-df-container\">\n",
              "      <div>\n",
              "<style scoped>\n",
              "    .dataframe tbody tr th:only-of-type {\n",
              "        vertical-align: middle;\n",
              "    }\n",
              "\n",
              "    .dataframe tbody tr th {\n",
              "        vertical-align: top;\n",
              "    }\n",
              "\n",
              "    .dataframe thead th {\n",
              "        text-align: right;\n",
              "    }\n",
              "</style>\n",
              "<table border=\"1\" class=\"dataframe\">\n",
              "  <thead>\n",
              "    <tr style=\"text-align: right;\">\n",
              "      <th></th>\n",
              "      <th>short_description</th>\n",
              "      <th>link</th>\n",
              "      <th>headlines</th>\n",
              "      <th>category</th>\n",
              "    </tr>\n",
              "  </thead>\n",
              "  <tbody>\n",
              "    <tr>\n",
              "      <th>0</th>\n",
              "      <td>Filmmaker Ramesh Talwar said that actress Jaya...</td>\n",
              "      <td>https://www.hindustantimes.com/entertainment/b...</td>\n",
              "      <td>Jaya said 'I shouldn't flop in play': Ramesh o...</td>\n",
              "      <td>ENTERTAINMENT</td>\n",
              "    </tr>\n",
              "    <tr>\n",
              "      <th>1</th>\n",
              "      <td>Actress Juhi Chawla, who signed a ₹1 lakh bond...</td>\n",
              "      <td>https://www.news18.com/amp/movies/ipl-rinku-si...</td>\n",
              "      <td>Thought it was right thing to do: Juhi on help...</td>\n",
              "      <td>ENTERTAINMENT</td>\n",
              "    </tr>\n",
              "    <tr>\n",
              "      <th>2</th>\n",
              "      <td>Actress Shehnaaz Gill said she cried a lot aft...</td>\n",
              "      <td>https://www.hindustantimes.com/entertainment/b...</td>\n",
              "      <td>Got rejected for my 1st music video, working w...</td>\n",
              "      <td>ENTERTAINMENT</td>\n",
              "    </tr>\n",
              "    <tr>\n",
              "      <th>3</th>\n",
              "      <td>Actor Zeeshan Khan reacted to an Instagram use...</td>\n",
              "      <td>https://www.hindustantimes.com/entertainment/t...</td>\n",
              "      <td>Instagram user calls Zeeshan Khan a 'terrorist...</td>\n",
              "      <td>ENTERTAINMENT</td>\n",
              "    </tr>\n",
              "    <tr>\n",
              "      <th>4</th>\n",
              "      <td>Salman Khan shared that Bhumika Chawla was pro...</td>\n",
              "      <td>https://indianexpress.com/article/entertainmen...</td>\n",
              "      <td>Bhumika was scared, thought I'd run after her:...</td>\n",
              "      <td>ENTERTAINMENT</td>\n",
              "    </tr>\n",
              "    <tr>\n",
              "      <th>...</th>\n",
              "      <td>...</td>\n",
              "      <td>...</td>\n",
              "      <td>...</td>\n",
              "      <td>...</td>\n",
              "    </tr>\n",
              "    <tr>\n",
              "      <th>1165</th>\n",
              "      <td>Chinese Foreign Ministry said the US has made ...</td>\n",
              "      <td>https://www.moneycontrol.com/news/world/china-...</td>\n",
              "      <td>US presumption of guilt against TikTok is base...</td>\n",
              "      <td>TECHNOLOGY</td>\n",
              "    </tr>\n",
              "    <tr>\n",
              "      <th>1166</th>\n",
              "      <td>Chinese search giant Baidu on Monday cancelled...</td>\n",
              "      <td>https://www.reuters.com/technology/chinas-baid...</td>\n",
              "      <td>China's Baidu cancels public launch of its Cha...</td>\n",
              "      <td>TECHNOLOGY</td>\n",
              "    </tr>\n",
              "    <tr>\n",
              "      <th>1167</th>\n",
              "      <td>Twitter CEO Elon Musk responded after Canadian...</td>\n",
              "      <td>https://twitter.com/elonmusk/status/1640188239...</td>\n",
              "      <td>No different standard for celebs: Musk to acto...</td>\n",
              "      <td>TECHNOLOGY</td>\n",
              "    </tr>\n",
              "    <tr>\n",
              "      <th>1168</th>\n",
              "      <td>Parts of Twitter's source code, the computer c...</td>\n",
              "      <td>https://apnews.com/article/twitter-source-code...</td>\n",
              "      <td>Computer code used to run Twitter leaked online</td>\n",
              "      <td>TECHNOLOGY</td>\n",
              "    </tr>\n",
              "    <tr>\n",
              "      <th>1169</th>\n",
              "      <td>The ICMR has released the country's first ethi...</td>\n",
              "      <td>https://www.moneycontrol.com/news/business/icm...</td>\n",
              "      <td>India's first ethical guidelines for AI usage ...</td>\n",
              "      <td>TECHNOLOGY</td>\n",
              "    </tr>\n",
              "  </tbody>\n",
              "</table>\n",
              "<p>1170 rows × 4 columns</p>\n",
              "</div>\n",
              "      <button class=\"colab-df-convert\" onclick=\"convertToInteractive('df-a7d49915-458b-43d3-b222-0fc17dca0664')\"\n",
              "              title=\"Convert this dataframe to an interactive table.\"\n",
              "              style=\"display:none;\">\n",
              "        \n",
              "  <svg xmlns=\"http://www.w3.org/2000/svg\" height=\"24px\"viewBox=\"0 0 24 24\"\n",
              "       width=\"24px\">\n",
              "    <path d=\"M0 0h24v24H0V0z\" fill=\"none\"/>\n",
              "    <path d=\"M18.56 5.44l.94 2.06.94-2.06 2.06-.94-2.06-.94-.94-2.06-.94 2.06-2.06.94zm-11 1L8.5 8.5l.94-2.06 2.06-.94-2.06-.94L8.5 2.5l-.94 2.06-2.06.94zm10 10l.94 2.06.94-2.06 2.06-.94-2.06-.94-.94-2.06-.94 2.06-2.06.94z\"/><path d=\"M17.41 7.96l-1.37-1.37c-.4-.4-.92-.59-1.43-.59-.52 0-1.04.2-1.43.59L10.3 9.45l-7.72 7.72c-.78.78-.78 2.05 0 2.83L4 21.41c.39.39.9.59 1.41.59.51 0 1.02-.2 1.41-.59l7.78-7.78 2.81-2.81c.8-.78.8-2.07 0-2.86zM5.41 20L4 18.59l7.72-7.72 1.47 1.35L5.41 20z\"/>\n",
              "  </svg>\n",
              "      </button>\n",
              "      \n",
              "  <style>\n",
              "    .colab-df-container {\n",
              "      display:flex;\n",
              "      flex-wrap:wrap;\n",
              "      gap: 12px;\n",
              "    }\n",
              "\n",
              "    .colab-df-convert {\n",
              "      background-color: #E8F0FE;\n",
              "      border: none;\n",
              "      border-radius: 50%;\n",
              "      cursor: pointer;\n",
              "      display: none;\n",
              "      fill: #1967D2;\n",
              "      height: 32px;\n",
              "      padding: 0 0 0 0;\n",
              "      width: 32px;\n",
              "    }\n",
              "\n",
              "    .colab-df-convert:hover {\n",
              "      background-color: #E2EBFA;\n",
              "      box-shadow: 0px 1px 2px rgba(60, 64, 67, 0.3), 0px 1px 3px 1px rgba(60, 64, 67, 0.15);\n",
              "      fill: #174EA6;\n",
              "    }\n",
              "\n",
              "    [theme=dark] .colab-df-convert {\n",
              "      background-color: #3B4455;\n",
              "      fill: #D2E3FC;\n",
              "    }\n",
              "\n",
              "    [theme=dark] .colab-df-convert:hover {\n",
              "      background-color: #434B5C;\n",
              "      box-shadow: 0px 1px 3px 1px rgba(0, 0, 0, 0.15);\n",
              "      filter: drop-shadow(0px 1px 2px rgba(0, 0, 0, 0.3));\n",
              "      fill: #FFFFFF;\n",
              "    }\n",
              "  </style>\n",
              "\n",
              "      <script>\n",
              "        const buttonEl =\n",
              "          document.querySelector('#df-a7d49915-458b-43d3-b222-0fc17dca0664 button.colab-df-convert');\n",
              "        buttonEl.style.display =\n",
              "          google.colab.kernel.accessAllowed ? 'block' : 'none';\n",
              "\n",
              "        async function convertToInteractive(key) {\n",
              "          const element = document.querySelector('#df-a7d49915-458b-43d3-b222-0fc17dca0664');\n",
              "          const dataTable =\n",
              "            await google.colab.kernel.invokeFunction('convertToInteractive',\n",
              "                                                     [key], {});\n",
              "          if (!dataTable) return;\n",
              "\n",
              "          const docLinkHtml = 'Like what you see? Visit the ' +\n",
              "            '<a target=\"_blank\" href=https://colab.research.google.com/notebooks/data_table.ipynb>data table notebook</a>'\n",
              "            + ' to learn more about interactive tables.';\n",
              "          element.innerHTML = '';\n",
              "          dataTable['output_type'] = 'display_data';\n",
              "          await google.colab.output.renderOutput(dataTable, element);\n",
              "          const docLink = document.createElement('div');\n",
              "          docLink.innerHTML = docLinkHtml;\n",
              "          element.appendChild(docLink);\n",
              "        }\n",
              "      </script>\n",
              "    </div>\n",
              "  </div>\n",
              "  "
            ]
          },
          "metadata": {},
          "execution_count": 6
        }
      ]
    },
    {
      "cell_type": "code",
      "source": [
        "def clean_text(headline):\n",
        "      le=WordNetLemmatizer()\n",
        "      word_tokens=word_tokenize(headline)\n",
        "      tokens=[le.lemmatize(w) for w in word_tokens if w not in stop_words and len(w)>3]\n",
        "      cleaned_text=\" \".join(tokens)\n",
        "      return cleaned_text\n",
        "\n",
        "\n",
        "rev={}\n",
        "res['cleaned_text']=res['short_description'].apply(clean_text)\n",
        "res['clean_headlines']=res['headlines'].apply(clean_text)\n"
      ],
      "metadata": {
        "execution": {
          "iopub.status.busy": "2022-10-11T11:04:12.711804Z",
          "iopub.execute_input": "2022-10-11T11:04:12.712187Z",
          "iopub.status.idle": "2022-10-11T11:04:13.189068Z",
          "shell.execute_reply.started": "2022-10-11T11:04:12.712126Z",
          "shell.execute_reply": "2022-10-11T11:04:13.18787Z"
        },
        "trusted": true,
        "id": "sLgX6PAr3yT2"
      },
      "execution_count": null,
      "outputs": []
    },
    {
      "cell_type": "code",
      "source": [
        "res.head"
      ],
      "metadata": {
        "colab": {
          "base_uri": "https://localhost:8080/"
        },
        "id": "v_gCVu7XAK0d",
        "outputId": "cf630259-fab0-4f8d-bacc-9be8a3978314"
      },
      "execution_count": null,
      "outputs": [
        {
          "output_type": "execute_result",
          "data": {
            "text/plain": [
              "<bound method NDFrame.head of                                                                                                                                                                                                                                                                                                                                                                                                   short_description  \\\n",
              "245   Stylist Law Roach, who has styled several celebrities including Megan Thee Stallion, Priyanka Chopra and Zendaya, has announced his retirement on Instagram. \"If this business was just about the clothes, I'd do it for...rest of my life but unfortunately it's not! The politics...lies...false narratives finally got me! You win. I'm out,\" he captioned the post.                                         \n",
              "1149  Stylist Law Roach, who has styled several celebrities including Megan Thee Stallion, Priyanka Chopra and Zendaya, has announced his retirement on Instagram. \"If this business was just about the clothes, I'd do it for...rest of my life but unfortunately it's not! The politics...lies...false narratives finally got me! You win. I'm out,\" he captioned the post.                                         \n",
              "1056  Stylist Law Roach, who has styled several celebrities including Megan Thee Stallion, Priyanka Chopra and Zendaya, has announced his retirement on Instagram. \"If this business was just about the clothes, I'd do it for...rest of my life but unfortunately it's not! The politics...lies...false narratives finally got me! You win. I'm out,\" he captioned the post.                                         \n",
              "786   Stylist Law Roach, who has styled several celebrities including Megan Thee Stallion, Priyanka Chopra and Zendaya, has announced his retirement on Instagram. \"If this business was just about the clothes, I'd do it for...rest of my life but unfortunately it's not! The politics...lies...false narratives finally got me! You win. I'm out,\" he captioned the post.                                         \n",
              "336   Stylist Law Roach, who has styled several celebrities including Megan Thee Stallion, Priyanka Chopra and Zendaya, has announced his retirement on Instagram. \"If this business was just about the clothes, I'd do it for...rest of my life but unfortunately it's not! The politics...lies...false narratives finally got me! You win. I'm out,\" he captioned the post.                                         \n",
              "...                                                                                                                                                                                                                                                                                                                                                                       ...                                         \n",
              "630   'Basic Instinct' actress Sharon Stone urged people to donate more amid a banking crisis in the US and said, \"I just lost half my money to this banking thing...that doesn't mean I'm not here.\" A video from the charity event showed her breaking down while she was speaking. \"This is not an easy time for any of us,\" she added.                                                                            \n",
              "566   Senior BJP leader Kailash Vijayvargiya has said girls in \"bad dresses\" look like Shurpanakha from the Ramayana. \"God has given you a good and beautiful body...dress well, friends,\" he said. He also added, \"When I leave for home at night, I see educated young people and children under the influence of drugs...I feel like getting down...and slapping them five-seven times.\"\\n                         \n",
              "556   Senior BJP leader Kailash Vijayvargiya has said girls in \"bad dresses\" look like Shurpanakha from the Ramayana. \"God has given you a good and beautiful body...dress well, friends,\" he said. He also added, \"When I leave for home at night, I see educated young people and children under the influence of drugs...I feel like getting down...and slapping them five-seven times.\"\\n                         \n",
              "862   The announcement of $30 billion deposits for First Republic Bank (FRB) will cause the bank's default risk to spread to US' largest banks, billionaire investor Bill Ackman said. He mentioned that the decision raises more questions than it answers. \"We need a temporary systemwide deposit guarantee immediately until expanded and modernised FDIC insurance system is made widely available,\" he added.   \n",
              "719   TikTok may get removed from the phones and devices of the Scottish Parliament amid security concerns, Sky News reported. In an email, the members of the Parliament have been \"strongly\" advised to remove TikTok, including from personal devices used to access its IT systems. The email said the advice was based on a \"precautionary approach\" and the \"best information available\".                       \n",
              "\n",
              "                                                                                                                                                                                                                                  link  \\\n",
              "245   https://www.instagram.com/p/CpxyUz-OqpK/?utm_campaign=fullarticle&utm_medium=referral&utm_source=inshorts                                                                                                                          \n",
              "1149  https://www.instagram.com/p/CpxyUz-OqpK/?utm_campaign=fullarticle&utm_medium=referral&utm_source=inshorts                                                                                                                          \n",
              "1056  https://www.instagram.com/p/CpxyUz-OqpK/?utm_campaign=fullarticle&utm_medium=referral&utm_source=inshorts                                                                                                                          \n",
              "786   https://www.instagram.com/p/CpxyUz-OqpK/?utm_campaign=fullarticle&utm_medium=referral&utm_source=inshorts                                                                                                                          \n",
              "336   https://www.instagram.com/p/CpxyUz-OqpK/?utm_campaign=fullarticle&utm_medium=referral&utm_source=inshorts                                                                                                                          \n",
              "...                                                                                                         ...                                                                                                                          \n",
              "630   https://www.mirror.co.uk/3am/us-celebrity-news/sharon-stone-says-lost-half-29496294.amp?utm_campaign=fullarticle&utm_medium=referral&utm_source=inshorts                                                                           \n",
              "566   https://www.timesnownews.com/india/ladkiya-itne-gande-kapde-bjps-kailash-vijayvargiya-says-badly-dressed-girls-look-like-shurpanakha-video-article-99329329/amp?utm_campaign=fullarticle&utm_medium=referral&utm_source=inshorts   \n",
              "556   https://www.timesnownews.com/india/ladkiya-itne-gande-kapde-bjps-kailash-vijayvargiya-says-badly-dressed-girls-look-like-shurpanakha-video-article-99329329/amp?utm_campaign=fullarticle&utm_medium=referral&utm_source=inshorts   \n",
              "862   https://twitter.com/BillAckman/status/1636569513469652993?utm_campaign=fullarticle&utm_medium=referral&utm_source=inshorts                                                                                                         \n",
              "719   https://www.reuters.com/technology/tiktok-be-removed-scottish-parliament-phones-devices-sky-news-2023-03-17/?utm_campaign=fullarticle&utm_medium=referral&utm_source=inshorts                                                      \n",
              "\n",
              "                                                                                     headlines  \\\n",
              "245   Zendaya's stylist Law Roach retires, says 'Politics, lies got me'                          \n",
              "1149  Zendaya's stylist Law Roach retires, says 'Politics, lies got me'                          \n",
              "1056  Zendaya's stylist Law Roach retires, says 'Politics, lies got me'                          \n",
              "786   Zendaya's stylist Law Roach retires, says 'Politics, lies got me'                          \n",
              "336   Zendaya's stylist Law Roach retires, says 'Politics, lies got me'                          \n",
              "...                                                                 ...                          \n",
              "630   'Lost half my money in banking crisis,' says Sharon Stone; video shows her breaking down   \n",
              "566   'Badly dressed' girls look like Shurpanakha: BJP's Vijayvargiya                            \n",
              "556   'Badly dressed' girls look like Shurpanakha: BJP's Vijayvargiya                            \n",
              "862   $30 bn deposits for FRB raises more questions than answers: Ackman                         \n",
              "719    TikTok may get removed from Scottish Parliament devices: Report                           \n",
              "\n",
              "           category  \\\n",
              "245   FASHION         \n",
              "1149  FASHION         \n",
              "1056  FASHION         \n",
              "786   FASHION         \n",
              "336   FASHION         \n",
              "...       ...         \n",
              "630   ENTERTAINMENT   \n",
              "566   POLITICS        \n",
              "556   POLITICS        \n",
              "862   BUSINESS        \n",
              "719   TECHNOLOGY      \n",
              "\n",
              "                                                                                                                                                                                                                                                                                                   cleaned_text  \\\n",
              "245   Stylist Roach styled several celebrity including Megan Thee Stallion Priyanka Chopra Zendaya announced retirement Instagram business clothes rest life unfortunately politics lie false narrative finally captioned post                                                                                    \n",
              "1149  Stylist Roach styled several celebrity including Megan Thee Stallion Priyanka Chopra Zendaya announced retirement Instagram business clothes rest life unfortunately politics lie false narrative finally captioned post                                                                                    \n",
              "1056  Stylist Roach styled several celebrity including Megan Thee Stallion Priyanka Chopra Zendaya announced retirement Instagram business clothes rest life unfortunately politics lie false narrative finally captioned post                                                                                    \n",
              "786   Stylist Roach styled several celebrity including Megan Thee Stallion Priyanka Chopra Zendaya announced retirement Instagram business clothes rest life unfortunately politics lie false narrative finally captioned post                                                                                    \n",
              "336   Stylist Roach styled several celebrity including Megan Thee Stallion Priyanka Chopra Zendaya announced retirement Instagram business clothes rest life unfortunately politics lie false narrative finally captioned post                                                                                    \n",
              "...                                                                                                                                                                                                                        ...                                                                                    \n",
              "630   'Basic Instinct actress Sharon Stone urged people donate amid banking crisis said lost half money banking thing mean video charity event showed breaking speaking This easy time added                                                                                                                      \n",
              "566   Senior leader Kailash Vijayvargiya said girl dress look like Shurpanakha Ramayana given good beautiful body dress well friend said also added When leave home night educated young people child influence drug feel like getting slapping five-seven time                                                   \n",
              "556   Senior leader Kailash Vijayvargiya said girl dress look like Shurpanakha Ramayana given good beautiful body dress well friend said also added When leave home night educated young people child influence drug feel like getting slapping five-seven time                                                   \n",
              "862   announcement billion deposit First Republic Bank cause bank default risk spread largest bank billionaire investor Bill Ackman said mentioned decision raise question answer need temporary systemwide deposit guarantee immediately expanded modernised FDIC insurance system made widely available added   \n",
              "719   TikTok removed phone device Scottish Parliament amid security concern News reported email member Parliament strongly advised remove TikTok including personal device used access system email said advice based precautionary approach best information available                                           \n",
              "\n",
              "                                                           clean_headlines  \n",
              "245   Zendaya stylist Roach retires say 'Politics lie                       \n",
              "1149  Zendaya stylist Roach retires say 'Politics lie                       \n",
              "1056  Zendaya stylist Roach retires say 'Politics lie                       \n",
              "786   Zendaya stylist Roach retires say 'Politics lie                       \n",
              "336   Zendaya stylist Roach retires say 'Politics lie                       \n",
              "...                                               ...                       \n",
              "630   'Lost half money banking crisis say Sharon Stone video show breaking  \n",
              "566   'Badly dressed girl look like Shurpanakha Vijayvargiya                \n",
              "556   'Badly dressed girl look like Shurpanakha Vijayvargiya                \n",
              "862   deposit raise question answer Ackman                                  \n",
              "719   TikTok removed Scottish Parliament device Report                      \n",
              "\n",
              "[1170 rows x 6 columns]>"
            ]
          },
          "metadata": {},
          "execution_count": 53
        }
      ]
    },
    {
      "cell_type": "code",
      "source": [
        "#removing duplicates\n",
        "res.drop_duplicates(inplace = True)"
      ],
      "metadata": {
        "id": "yp54gD4W3mSQ"
      },
      "execution_count": null,
      "outputs": []
    },
    {
      "cell_type": "code",
      "source": [
        "print(\"value counts:\", res.category.value_counts())"
      ],
      "metadata": {
        "colab": {
          "base_uri": "https://localhost:8080/"
        },
        "id": "Q3c3tq0q4byR",
        "outputId": "329117de-3c1d-4728-ce33-6c2ada9ac4dc"
      },
      "execution_count": null,
      "outputs": [
        {
          "output_type": "stream",
          "name": "stdout",
          "text": [
            "value counts: EDUCATION        170\n",
            "BUSINESS         130\n",
            "ENTERTAINMENT    127\n",
            "SPORTS           126\n",
            "POLITICS         122\n",
            "TECHNOLOGY       112\n",
            "FASHION          29 \n",
            "Name: category, dtype: int64\n"
          ]
        }
      ]
    },
    {
      "cell_type": "code",
      "source": [
        "res = res.reset_index()"
      ],
      "metadata": {
        "id": "KUuyzH286Owo"
      },
      "execution_count": null,
      "outputs": []
    },
    {
      "cell_type": "markdown",
      "source": [
        "## 6. Headline based similarity on new articles"
      ],
      "metadata": {
        "id": "EWXlw3353yT2"
      }
    },
    {
      "cell_type": "markdown",
      "source": [
        "Generally, we assess **similarity** based on **distance**. If the **distance** is minimum then high **similarity** and if it is maximum then low **similarity**.\n",
        "To calculate the **distance**, we need to represent the headline as a **d-dimensional** vector. Then we can find out the **similarity** based on the **distance** between vectors.\n",
        "\n",
        "There are multiple methods to represent a **text** as **d-dimensional** vector like **Bag of words**, **TF-IDF method**, **Word2Vec embedding** etc. Each method has its own advantages and disadvantages. \n",
        "\n",
        "Let's see the feature representation of headline through all the methods one by one."
      ],
      "metadata": {
        "id": "MagH3ipJ3yT2"
      }
    },
    {
      "cell_type": "markdown",
      "source": [
        "### 6.a Using Bag of Words method"
      ],
      "metadata": {
        "id": "r6EvmRSO3yT2"
      }
    },
    {
      "cell_type": "markdown",
      "source": [
        "A **Bag of Words(BoW)** method represents the occurence of words within a **document**. Here, each headline can be considered as a **document** and set of all headlines form a **corpus**.\n",
        "\n",
        "Using **BoW** approach, each **document** is represented by a **d-dimensional** vector, where **d** is total number of **unique words** in the corpus. The set of such unique words forms the **Vocabulary**."
      ],
      "metadata": {
        "id": "3gKFupC03yT2"
      }
    },
    {
      "cell_type": "code",
      "source": [
        "headline_vectorizer = CountVectorizer()\n",
        "headline_features   = headline_vectorizer.fit_transform(res['cleaned_text'])"
      ],
      "metadata": {
        "execution": {
          "iopub.status.busy": "2022-10-11T11:04:17.901854Z",
          "iopub.execute_input": "2022-10-11T11:04:17.902304Z",
          "iopub.status.idle": "2022-10-11T11:04:18.044682Z",
          "shell.execute_reply.started": "2022-10-11T11:04:17.902224Z",
          "shell.execute_reply": "2022-10-11T11:04:18.043698Z"
        },
        "trusted": true,
        "id": "9ALVJlYp3yT2"
      },
      "execution_count": null,
      "outputs": []
    },
    {
      "cell_type": "markdown",
      "source": [
        "#### Saving the model"
      ],
      "metadata": {
        "id": "5V1NptJBT1Tw"
      }
    },
    {
      "cell_type": "code",
      "source": [
        "# # save the model to disk\n",
        "# filename = 'Count-Vectorizer features.sav'\n",
        "# pickle.dump(headline_features, open(filename, 'wb'))"
      ],
      "metadata": {
        "id": "i3xhXx32T1Tx"
      },
      "execution_count": null,
      "outputs": []
    },
    {
      "cell_type": "code",
      "source": [
        "headline_features"
      ],
      "metadata": {
        "execution": {
          "iopub.status.busy": "2022-10-11T11:04:18.046419Z",
          "iopub.execute_input": "2022-10-11T11:04:18.046733Z",
          "iopub.status.idle": "2022-10-11T11:04:18.05363Z",
          "shell.execute_reply.started": "2022-10-11T11:04:18.046681Z",
          "shell.execute_reply": "2022-10-11T11:04:18.052602Z"
        },
        "trusted": true,
        "colab": {
          "base_uri": "https://localhost:8080/"
        },
        "id": "4IchPsul3yT2",
        "outputId": "25896460-b770-4277-8fbe-8511d6d416e9"
      },
      "execution_count": null,
      "outputs": [
        {
          "output_type": "execute_result",
          "data": {
            "text/plain": [
              "<816x6692 sparse matrix of type '<class 'numpy.int64'>'\n",
              "\twith 23961 stored elements in Compressed Sparse Row format>"
            ]
          },
          "metadata": {},
          "execution_count": 73
        }
      ]
    },
    {
      "cell_type": "markdown",
      "source": [
        "The output **BoW matrix**(headline_features) is a sparse matrix."
      ],
      "metadata": {
        "id": "jARRKpT33yT3"
      }
    },
    {
      "cell_type": "code",
      "source": [
        "pd.set_option('display.max_colwidth', -1)  # To display a very long headline completely"
      ],
      "metadata": {
        "execution": {
          "iopub.status.busy": "2022-10-11T11:04:18.055792Z",
          "iopub.execute_input": "2022-10-11T11:04:18.05616Z",
          "iopub.status.idle": "2022-10-11T11:04:18.066335Z",
          "shell.execute_reply.started": "2022-10-11T11:04:18.056089Z",
          "shell.execute_reply": "2022-10-11T11:04:18.064723Z"
        },
        "trusted": true,
        "colab": {
          "base_uri": "https://localhost:8080/"
        },
        "id": "OmhsRUee3yT3",
        "outputId": "9563b6c6-db37-418b-ef03-6657a354b172"
      },
      "execution_count": null,
      "outputs": [
        {
          "output_type": "stream",
          "name": "stderr",
          "text": [
            "<ipython-input-74-bc6d054540ec>:1: FutureWarning: Passing a negative integer is deprecated in version 1.0 and will not be supported in future version. Instead, use None to not limit the column width.\n",
            "  pd.set_option('display.max_colwidth', -1)  # To display a very long headline completely\n"
          ]
        }
      ]
    },
    {
      "cell_type": "code",
      "source": [
        "def bag_of_words_based_model(row_index, num_similar_items):\n",
        "    couple_dist = pairwise_distances(headline_features,headline_features[row_index])\n",
        "    indices = np.argsort(couple_dist.ravel())[0:num_similar_items]\n",
        "    df = pd.DataFrame({'headline':res['headlines'][indices].values,\n",
        "                'Euclidean similarity with the queried article': couple_dist[indices].ravel()})\n",
        "    print(\"=\"*30,\"Queried article details\",\"=\"*30)\n",
        "    print('headline : ',res['headlines'][indices[0]])\n",
        "    print(\"\\n\",\"=\"*25,\"Recommended articles : \",\"=\"*23)\n",
        "    #return df.iloc[1:,1]\n",
        "    return df.iloc[1:,]\n",
        "\n",
        "bag_of_words_based_model(100, 11) # Change the row index for any other queried article"
      ],
      "metadata": {
        "execution": {
          "iopub.status.busy": "2022-10-11T11:04:18.068041Z",
          "iopub.execute_input": "2022-10-11T11:04:18.068408Z",
          "iopub.status.idle": "2022-10-11T11:04:18.101326Z",
          "shell.execute_reply.started": "2022-10-11T11:04:18.068335Z",
          "shell.execute_reply": "2022-10-11T11:04:18.100463Z"
        },
        "trusted": true,
        "colab": {
          "base_uri": "https://localhost:8080/",
          "height": 432
        },
        "id": "mPLMacB23yT3",
        "outputId": "7d9d6344-705c-4c73-99ec-c37f190a1e1b"
      },
      "execution_count": null,
      "outputs": [
        {
          "output_type": "stream",
          "name": "stdout",
          "text": [
            "============================== Queried article details ==============================\n",
            "headline :  Took a break, now I'm in a good headspace: Krunal on 3/18 vs SRH\n",
            "\n",
            " ========================= Recommended articles :  =======================\n"
          ]
        },
        {
          "output_type": "execute_result",
          "data": {
            "text/plain": [
              "                                                                                    headline  \\\n",
              "1   SRH record lowest total of IPL 2023 as LSG register their 2nd win                          \n",
              "2   It's like Manchester United vs Liverpool: Moeen Ali on CSK-MI game                         \n",
              "3   Don't know how to exaggerate about my work: Yami Gautam on PR                              \n",
              "4   Senior guys need to step up, starting with me: Rohit Sharma                                \n",
              "5   I don't care: Sara on being trolled for visiting Shiva temples                             \n",
              "6   'Lost half my money in banking crisis,' says Sharon Stone; video shows her breaking down   \n",
              "7   Playing the way I used to now, still room to get to my best: Kohli                         \n",
              "8   When I fell in love, I couldn't see the red flags: Dhawan on divorce with Aesha Mukerji    \n",
              "9   India-Australia ODI series is not going to be a 3-0 series: Aakash                         \n",
              "10  Don't think Tottenham Hotspur are going to sack me: Manager Conte                          \n",
              "\n",
              "    Euclidean similarity with the queried article  \n",
              "1   6.480741                                       \n",
              "2   6.855655                                       \n",
              "3   6.855655                                       \n",
              "4   6.855655                                       \n",
              "5   6.928203                                       \n",
              "6   7.000000                                       \n",
              "7   7.071068                                       \n",
              "8   7.071068                                       \n",
              "9   7.071068                                       \n",
              "10  7.071068                                       "
            ],
            "text/html": [
              "\n",
              "  <div id=\"df-2352aff0-83f4-42de-8154-d130826e86e0\">\n",
              "    <div class=\"colab-df-container\">\n",
              "      <div>\n",
              "<style scoped>\n",
              "    .dataframe tbody tr th:only-of-type {\n",
              "        vertical-align: middle;\n",
              "    }\n",
              "\n",
              "    .dataframe tbody tr th {\n",
              "        vertical-align: top;\n",
              "    }\n",
              "\n",
              "    .dataframe thead th {\n",
              "        text-align: right;\n",
              "    }\n",
              "</style>\n",
              "<table border=\"1\" class=\"dataframe\">\n",
              "  <thead>\n",
              "    <tr style=\"text-align: right;\">\n",
              "      <th></th>\n",
              "      <th>headline</th>\n",
              "      <th>Euclidean similarity with the queried article</th>\n",
              "    </tr>\n",
              "  </thead>\n",
              "  <tbody>\n",
              "    <tr>\n",
              "      <th>1</th>\n",
              "      <td>SRH record lowest total of IPL 2023 as LSG register their 2nd win</td>\n",
              "      <td>6.480741</td>\n",
              "    </tr>\n",
              "    <tr>\n",
              "      <th>2</th>\n",
              "      <td>It's like Manchester United vs Liverpool: Moeen Ali on CSK-MI game</td>\n",
              "      <td>6.855655</td>\n",
              "    </tr>\n",
              "    <tr>\n",
              "      <th>3</th>\n",
              "      <td>Don't know how to exaggerate about my work: Yami Gautam on PR</td>\n",
              "      <td>6.855655</td>\n",
              "    </tr>\n",
              "    <tr>\n",
              "      <th>4</th>\n",
              "      <td>Senior guys need to step up, starting with me: Rohit Sharma</td>\n",
              "      <td>6.855655</td>\n",
              "    </tr>\n",
              "    <tr>\n",
              "      <th>5</th>\n",
              "      <td>I don't care: Sara on being trolled for visiting Shiva temples</td>\n",
              "      <td>6.928203</td>\n",
              "    </tr>\n",
              "    <tr>\n",
              "      <th>6</th>\n",
              "      <td>'Lost half my money in banking crisis,' says Sharon Stone; video shows her breaking down</td>\n",
              "      <td>7.000000</td>\n",
              "    </tr>\n",
              "    <tr>\n",
              "      <th>7</th>\n",
              "      <td>Playing the way I used to now, still room to get to my best: Kohli</td>\n",
              "      <td>7.071068</td>\n",
              "    </tr>\n",
              "    <tr>\n",
              "      <th>8</th>\n",
              "      <td>When I fell in love, I couldn't see the red flags: Dhawan on divorce with Aesha Mukerji</td>\n",
              "      <td>7.071068</td>\n",
              "    </tr>\n",
              "    <tr>\n",
              "      <th>9</th>\n",
              "      <td>India-Australia ODI series is not going to be a 3-0 series: Aakash</td>\n",
              "      <td>7.071068</td>\n",
              "    </tr>\n",
              "    <tr>\n",
              "      <th>10</th>\n",
              "      <td>Don't think Tottenham Hotspur are going to sack me: Manager Conte</td>\n",
              "      <td>7.071068</td>\n",
              "    </tr>\n",
              "  </tbody>\n",
              "</table>\n",
              "</div>\n",
              "      <button class=\"colab-df-convert\" onclick=\"convertToInteractive('df-2352aff0-83f4-42de-8154-d130826e86e0')\"\n",
              "              title=\"Convert this dataframe to an interactive table.\"\n",
              "              style=\"display:none;\">\n",
              "        \n",
              "  <svg xmlns=\"http://www.w3.org/2000/svg\" height=\"24px\"viewBox=\"0 0 24 24\"\n",
              "       width=\"24px\">\n",
              "    <path d=\"M0 0h24v24H0V0z\" fill=\"none\"/>\n",
              "    <path d=\"M18.56 5.44l.94 2.06.94-2.06 2.06-.94-2.06-.94-.94-2.06-.94 2.06-2.06.94zm-11 1L8.5 8.5l.94-2.06 2.06-.94-2.06-.94L8.5 2.5l-.94 2.06-2.06.94zm10 10l.94 2.06.94-2.06 2.06-.94-2.06-.94-.94-2.06-.94 2.06-2.06.94z\"/><path d=\"M17.41 7.96l-1.37-1.37c-.4-.4-.92-.59-1.43-.59-.52 0-1.04.2-1.43.59L10.3 9.45l-7.72 7.72c-.78.78-.78 2.05 0 2.83L4 21.41c.39.39.9.59 1.41.59.51 0 1.02-.2 1.41-.59l7.78-7.78 2.81-2.81c.8-.78.8-2.07 0-2.86zM5.41 20L4 18.59l7.72-7.72 1.47 1.35L5.41 20z\"/>\n",
              "  </svg>\n",
              "      </button>\n",
              "      \n",
              "  <style>\n",
              "    .colab-df-container {\n",
              "      display:flex;\n",
              "      flex-wrap:wrap;\n",
              "      gap: 12px;\n",
              "    }\n",
              "\n",
              "    .colab-df-convert {\n",
              "      background-color: #E8F0FE;\n",
              "      border: none;\n",
              "      border-radius: 50%;\n",
              "      cursor: pointer;\n",
              "      display: none;\n",
              "      fill: #1967D2;\n",
              "      height: 32px;\n",
              "      padding: 0 0 0 0;\n",
              "      width: 32px;\n",
              "    }\n",
              "\n",
              "    .colab-df-convert:hover {\n",
              "      background-color: #E2EBFA;\n",
              "      box-shadow: 0px 1px 2px rgba(60, 64, 67, 0.3), 0px 1px 3px 1px rgba(60, 64, 67, 0.15);\n",
              "      fill: #174EA6;\n",
              "    }\n",
              "\n",
              "    [theme=dark] .colab-df-convert {\n",
              "      background-color: #3B4455;\n",
              "      fill: #D2E3FC;\n",
              "    }\n",
              "\n",
              "    [theme=dark] .colab-df-convert:hover {\n",
              "      background-color: #434B5C;\n",
              "      box-shadow: 0px 1px 3px 1px rgba(0, 0, 0, 0.15);\n",
              "      filter: drop-shadow(0px 1px 2px rgba(0, 0, 0, 0.3));\n",
              "      fill: #FFFFFF;\n",
              "    }\n",
              "  </style>\n",
              "\n",
              "      <script>\n",
              "        const buttonEl =\n",
              "          document.querySelector('#df-2352aff0-83f4-42de-8154-d130826e86e0 button.colab-df-convert');\n",
              "        buttonEl.style.display =\n",
              "          google.colab.kernel.accessAllowed ? 'block' : 'none';\n",
              "\n",
              "        async function convertToInteractive(key) {\n",
              "          const element = document.querySelector('#df-2352aff0-83f4-42de-8154-d130826e86e0');\n",
              "          const dataTable =\n",
              "            await google.colab.kernel.invokeFunction('convertToInteractive',\n",
              "                                                     [key], {});\n",
              "          if (!dataTable) return;\n",
              "\n",
              "          const docLinkHtml = 'Like what you see? Visit the ' +\n",
              "            '<a target=\"_blank\" href=https://colab.research.google.com/notebooks/data_table.ipynb>data table notebook</a>'\n",
              "            + ' to learn more about interactive tables.';\n",
              "          element.innerHTML = '';\n",
              "          dataTable['output_type'] = 'display_data';\n",
              "          await google.colab.output.renderOutput(dataTable, element);\n",
              "          const docLink = document.createElement('div');\n",
              "          docLink.innerHTML = docLinkHtml;\n",
              "          element.appendChild(docLink);\n",
              "        }\n",
              "      </script>\n",
              "    </div>\n",
              "  </div>\n",
              "  "
            ]
          },
          "metadata": {},
          "execution_count": 75
        }
      ]
    },
    {
      "cell_type": "code",
      "source": [
        "bag_of_words_based_model(10, 11)"
      ],
      "metadata": {
        "colab": {
          "base_uri": "https://localhost:8080/",
          "height": 432
        },
        "id": "A21ioPajJUcR",
        "outputId": "0eecc8f9-d6a5-47f2-aec2-9d9edb9b563f"
      },
      "execution_count": null,
      "outputs": [
        {
          "output_type": "stream",
          "name": "stdout",
          "text": [
            "============================== Queried article details ==============================\n",
            "headline :  World food prices decline for 12th straight month in March: FAO\n",
            "\n",
            " ========================= Recommended articles :  =======================\n"
          ]
        },
        {
          "output_type": "execute_result",
          "data": {
            "text/plain": [
              "                                                                                   headline  \\\n",
              "1   Bonuses will be paid, offices remain open: Credit Suisse to staff                         \n",
              "2   When I fell in love, I couldn't see the red flags: Dhawan on divorce with Aesha Mukerji   \n",
              "3   I don't care: Sara on being trolled for visiting Shiva temples                            \n",
              "4   Took a break, now I'm in a good headspace: Krunal on 3/18 vs SRH                          \n",
              "5   Adani Total Gas cuts CNG price by ₹8.13/kg, PNG rates by ₹5.06/SCM                        \n",
              "6   I've no regrets about marrying Reena Roy: Ex-Pak cricketer Mohsin Khan on divorce         \n",
              "7   Rainfall to continue in Mumbai till March 23; AQI 'satisfactory'                          \n",
              "8   Indian Health Ministry's site targeted by Russian hackers: Report                         \n",
              "9   I'll stop doing films: Jr NTR on being asked about his next film                          \n",
              "10  It's like Manchester United vs Liverpool: Moeen Ali on CSK-MI game                        \n",
              "\n",
              "    Euclidean similarity with the queried article  \n",
              "1   8.306624                                       \n",
              "2   8.485281                                       \n",
              "3   8.485281                                       \n",
              "4   8.485281                                       \n",
              "5   8.544004                                       \n",
              "6   8.544004                                       \n",
              "7   8.602325                                       \n",
              "8   8.602325                                       \n",
              "9   8.602325                                       \n",
              "10  8.660254                                       "
            ],
            "text/html": [
              "\n",
              "  <div id=\"df-a4483782-7e44-4e1b-a38f-ab7646dfea08\">\n",
              "    <div class=\"colab-df-container\">\n",
              "      <div>\n",
              "<style scoped>\n",
              "    .dataframe tbody tr th:only-of-type {\n",
              "        vertical-align: middle;\n",
              "    }\n",
              "\n",
              "    .dataframe tbody tr th {\n",
              "        vertical-align: top;\n",
              "    }\n",
              "\n",
              "    .dataframe thead th {\n",
              "        text-align: right;\n",
              "    }\n",
              "</style>\n",
              "<table border=\"1\" class=\"dataframe\">\n",
              "  <thead>\n",
              "    <tr style=\"text-align: right;\">\n",
              "      <th></th>\n",
              "      <th>headline</th>\n",
              "      <th>Euclidean similarity with the queried article</th>\n",
              "    </tr>\n",
              "  </thead>\n",
              "  <tbody>\n",
              "    <tr>\n",
              "      <th>1</th>\n",
              "      <td>Bonuses will be paid, offices remain open: Credit Suisse to staff</td>\n",
              "      <td>8.306624</td>\n",
              "    </tr>\n",
              "    <tr>\n",
              "      <th>2</th>\n",
              "      <td>When I fell in love, I couldn't see the red flags: Dhawan on divorce with Aesha Mukerji</td>\n",
              "      <td>8.485281</td>\n",
              "    </tr>\n",
              "    <tr>\n",
              "      <th>3</th>\n",
              "      <td>I don't care: Sara on being trolled for visiting Shiva temples</td>\n",
              "      <td>8.485281</td>\n",
              "    </tr>\n",
              "    <tr>\n",
              "      <th>4</th>\n",
              "      <td>Took a break, now I'm in a good headspace: Krunal on 3/18 vs SRH</td>\n",
              "      <td>8.485281</td>\n",
              "    </tr>\n",
              "    <tr>\n",
              "      <th>5</th>\n",
              "      <td>Adani Total Gas cuts CNG price by ₹8.13/kg, PNG rates by ₹5.06/SCM</td>\n",
              "      <td>8.544004</td>\n",
              "    </tr>\n",
              "    <tr>\n",
              "      <th>6</th>\n",
              "      <td>I've no regrets about marrying Reena Roy: Ex-Pak cricketer Mohsin Khan on divorce</td>\n",
              "      <td>8.544004</td>\n",
              "    </tr>\n",
              "    <tr>\n",
              "      <th>7</th>\n",
              "      <td>Rainfall to continue in Mumbai till March 23; AQI 'satisfactory'</td>\n",
              "      <td>8.602325</td>\n",
              "    </tr>\n",
              "    <tr>\n",
              "      <th>8</th>\n",
              "      <td>Indian Health Ministry's site targeted by Russian hackers: Report</td>\n",
              "      <td>8.602325</td>\n",
              "    </tr>\n",
              "    <tr>\n",
              "      <th>9</th>\n",
              "      <td>I'll stop doing films: Jr NTR on being asked about his next film</td>\n",
              "      <td>8.602325</td>\n",
              "    </tr>\n",
              "    <tr>\n",
              "      <th>10</th>\n",
              "      <td>It's like Manchester United vs Liverpool: Moeen Ali on CSK-MI game</td>\n",
              "      <td>8.660254</td>\n",
              "    </tr>\n",
              "  </tbody>\n",
              "</table>\n",
              "</div>\n",
              "      <button class=\"colab-df-convert\" onclick=\"convertToInteractive('df-a4483782-7e44-4e1b-a38f-ab7646dfea08')\"\n",
              "              title=\"Convert this dataframe to an interactive table.\"\n",
              "              style=\"display:none;\">\n",
              "        \n",
              "  <svg xmlns=\"http://www.w3.org/2000/svg\" height=\"24px\"viewBox=\"0 0 24 24\"\n",
              "       width=\"24px\">\n",
              "    <path d=\"M0 0h24v24H0V0z\" fill=\"none\"/>\n",
              "    <path d=\"M18.56 5.44l.94 2.06.94-2.06 2.06-.94-2.06-.94-.94-2.06-.94 2.06-2.06.94zm-11 1L8.5 8.5l.94-2.06 2.06-.94-2.06-.94L8.5 2.5l-.94 2.06-2.06.94zm10 10l.94 2.06.94-2.06 2.06-.94-2.06-.94-.94-2.06-.94 2.06-2.06.94z\"/><path d=\"M17.41 7.96l-1.37-1.37c-.4-.4-.92-.59-1.43-.59-.52 0-1.04.2-1.43.59L10.3 9.45l-7.72 7.72c-.78.78-.78 2.05 0 2.83L4 21.41c.39.39.9.59 1.41.59.51 0 1.02-.2 1.41-.59l7.78-7.78 2.81-2.81c.8-.78.8-2.07 0-2.86zM5.41 20L4 18.59l7.72-7.72 1.47 1.35L5.41 20z\"/>\n",
              "  </svg>\n",
              "      </button>\n",
              "      \n",
              "  <style>\n",
              "    .colab-df-container {\n",
              "      display:flex;\n",
              "      flex-wrap:wrap;\n",
              "      gap: 12px;\n",
              "    }\n",
              "\n",
              "    .colab-df-convert {\n",
              "      background-color: #E8F0FE;\n",
              "      border: none;\n",
              "      border-radius: 50%;\n",
              "      cursor: pointer;\n",
              "      display: none;\n",
              "      fill: #1967D2;\n",
              "      height: 32px;\n",
              "      padding: 0 0 0 0;\n",
              "      width: 32px;\n",
              "    }\n",
              "\n",
              "    .colab-df-convert:hover {\n",
              "      background-color: #E2EBFA;\n",
              "      box-shadow: 0px 1px 2px rgba(60, 64, 67, 0.3), 0px 1px 3px 1px rgba(60, 64, 67, 0.15);\n",
              "      fill: #174EA6;\n",
              "    }\n",
              "\n",
              "    [theme=dark] .colab-df-convert {\n",
              "      background-color: #3B4455;\n",
              "      fill: #D2E3FC;\n",
              "    }\n",
              "\n",
              "    [theme=dark] .colab-df-convert:hover {\n",
              "      background-color: #434B5C;\n",
              "      box-shadow: 0px 1px 3px 1px rgba(0, 0, 0, 0.15);\n",
              "      filter: drop-shadow(0px 1px 2px rgba(0, 0, 0, 0.3));\n",
              "      fill: #FFFFFF;\n",
              "    }\n",
              "  </style>\n",
              "\n",
              "      <script>\n",
              "        const buttonEl =\n",
              "          document.querySelector('#df-a4483782-7e44-4e1b-a38f-ab7646dfea08 button.colab-df-convert');\n",
              "        buttonEl.style.display =\n",
              "          google.colab.kernel.accessAllowed ? 'block' : 'none';\n",
              "\n",
              "        async function convertToInteractive(key) {\n",
              "          const element = document.querySelector('#df-a4483782-7e44-4e1b-a38f-ab7646dfea08');\n",
              "          const dataTable =\n",
              "            await google.colab.kernel.invokeFunction('convertToInteractive',\n",
              "                                                     [key], {});\n",
              "          if (!dataTable) return;\n",
              "\n",
              "          const docLinkHtml = 'Like what you see? Visit the ' +\n",
              "            '<a target=\"_blank\" href=https://colab.research.google.com/notebooks/data_table.ipynb>data table notebook</a>'\n",
              "            + ' to learn more about interactive tables.';\n",
              "          element.innerHTML = '';\n",
              "          dataTable['output_type'] = 'display_data';\n",
              "          await google.colab.output.renderOutput(dataTable, element);\n",
              "          const docLink = document.createElement('div');\n",
              "          docLink.innerHTML = docLinkHtml;\n",
              "          element.appendChild(docLink);\n",
              "        }\n",
              "      </script>\n",
              "    </div>\n",
              "  </div>\n",
              "  "
            ]
          },
          "metadata": {},
          "execution_count": 76
        }
      ]
    },
    {
      "cell_type": "markdown",
      "source": [
        "#### Load the saved data"
      ],
      "metadata": {
        "id": "kyuJ9YN0UIX9"
      }
    },
    {
      "cell_type": "code",
      "source": [
        "# To LOAD THE SAVED MODEL\n",
        "filename = 'Count-Vectorizer features.sav'\n",
        "BoW_vectorizer_features = pickle.load(open(filename,'rb'))\n",
        "\n",
        "def bag_of_words_based_model(row_index, num_similar_items):\n",
        "    couple_dist = pairwise_distances(BoW_vectorizer_features,BoW_vectorizer_features[row_index])\n",
        "    indices = np.argsort(couple_dist.ravel())[0:num_similar_items]\n",
        "    df = pd.DataFrame({'headline': res['headlines'][indices].values,\n",
        "                'Euclidean similarity with the queried article': couple_dist[indices].ravel()})\n",
        "    print(\"=\"*30,\"Queried article details\",\"=\"*30)\n",
        "    print('headline : ',res['headlines'][indices[0]])\n",
        "    print(\"\\n\",\"=\"*25,\"Recommended articles : \",\"=\"*23)\n",
        "    #return df.iloc[1:,1]\n",
        "    return df.iloc[1:,]\n",
        "\n",
        "bag_of_words_based_model(500, 11)"
      ],
      "metadata": {
        "colab": {
          "base_uri": "https://localhost:8080/",
          "height": 244
        },
        "outputId": "3a9927b8-e060-4fb9-8140-467d88b266d0",
        "id": "b-gPM8gYUIX-"
      },
      "execution_count": null,
      "outputs": [
        {
          "output_type": "error",
          "ename": "FileNotFoundError",
          "evalue": "ignored",
          "traceback": [
            "\u001b[0;31m---------------------------------------------------------------------------\u001b[0m",
            "\u001b[0;31mFileNotFoundError\u001b[0m                         Traceback (most recent call last)",
            "\u001b[0;32m<ipython-input-3-7e53aaa26c4b>\u001b[0m in \u001b[0;36m<cell line: 3>\u001b[0;34m()\u001b[0m\n\u001b[1;32m      1\u001b[0m \u001b[0;31m# To LOAD THE SAVED MODEL\u001b[0m\u001b[0;34m\u001b[0m\u001b[0;34m\u001b[0m\u001b[0m\n\u001b[1;32m      2\u001b[0m \u001b[0mfilename\u001b[0m \u001b[0;34m=\u001b[0m \u001b[0;34m'Count-Vectorizer features.sav'\u001b[0m\u001b[0;34m\u001b[0m\u001b[0;34m\u001b[0m\u001b[0m\n\u001b[0;32m----> 3\u001b[0;31m \u001b[0mBoW_vectorizer_features\u001b[0m \u001b[0;34m=\u001b[0m \u001b[0mpickle\u001b[0m\u001b[0;34m.\u001b[0m\u001b[0mload\u001b[0m\u001b[0;34m(\u001b[0m\u001b[0mopen\u001b[0m\u001b[0;34m(\u001b[0m\u001b[0mfilename\u001b[0m\u001b[0;34m,\u001b[0m\u001b[0;34m'rb'\u001b[0m\u001b[0;34m)\u001b[0m\u001b[0;34m)\u001b[0m\u001b[0;34m\u001b[0m\u001b[0;34m\u001b[0m\u001b[0m\n\u001b[0m\u001b[1;32m      4\u001b[0m \u001b[0;34m\u001b[0m\u001b[0m\n\u001b[1;32m      5\u001b[0m \u001b[0;32mdef\u001b[0m \u001b[0mbag_of_words_based_model\u001b[0m\u001b[0;34m(\u001b[0m\u001b[0mrow_index\u001b[0m\u001b[0;34m,\u001b[0m \u001b[0mnum_similar_items\u001b[0m\u001b[0;34m)\u001b[0m\u001b[0;34m:\u001b[0m\u001b[0;34m\u001b[0m\u001b[0;34m\u001b[0m\u001b[0m\n",
            "\u001b[0;31mFileNotFoundError\u001b[0m: [Errno 2] No such file or directory: 'Count-Vectorizer features.sav'"
          ]
        }
      ]
    },
    {
      "cell_type": "markdown",
      "source": [
        "Above function recommends **10 similar** articles to the **queried**(read) article based on the headline. It accepts two arguments - index of already read artile and the total number of articles to be recommended.\n",
        "\n",
        "Based on the **Euclidean distance** it finds out 10 nearest neighbors and recommends. \n",
        "\n",
        "**Disadvantages**\n",
        "1. It gives very low **importance** to less frequently observed words in the corpus. Few words from the queried article like \"employer\", \"flip\", \"fire\" appear less frequently in the entire corpus so **BoW** method does not recommend any article whose headline contains these words. Since **trump** is commonly observed word in the corpus so it is recommending the articles with headline containing \"trump\".   \n",
        "2. **BoW** method doesn't preserve the order of words.\n",
        "\n",
        "To overcome the first disadvantage we use **TF-IDF** method for feature representation. \n"
      ],
      "metadata": {
        "id": "XbNoZ9Vo3yT3"
      }
    },
    {
      "cell_type": "markdown",
      "source": [
        "### 6.b Using TF-IDF method"
      ],
      "metadata": {
        "id": "K7-yInm73yT3"
      }
    },
    {
      "cell_type": "markdown",
      "source": [
        "**TF-IDF** method is a weighted measure which gives more importance to less frequent words in a corpus. It assigns a weight to each term(word) in a document based on **Term frequency(TF)** and **inverse document frequency(IDF)**.\n",
        "\n",
        "**TF(i,j)** = (# times word i appears in document j) / (# words in document j)\n",
        "\n",
        "**IDF(i,D)** = log_e(#documents in the corpus D) / (#documents containing word i)\n",
        "\n",
        "weight(i,j) = **TF(i,j)** x **IDF(i,D)**\n",
        "\n",
        "So if a word occurs more number of times in a document but less number of times in all other documents then its **TF-IDF** value will be high.\n"
      ],
      "metadata": {
        "id": "W6sDiDUc3yT3"
      }
    },
    {
      "cell_type": "code",
      "source": [
        "tfidf_headline_vectorizer = TfidfVectorizer(min_df = 0)\n",
        "tfidf_headline_features = tfidf_headline_vectorizer.fit_transform(res['cleaned_text'])"
      ],
      "metadata": {
        "execution": {
          "iopub.status.busy": "2022-10-11T11:04:18.10255Z",
          "iopub.execute_input": "2022-10-11T11:04:18.103061Z",
          "iopub.status.idle": "2022-10-11T11:04:18.244956Z",
          "shell.execute_reply.started": "2022-10-11T11:04:18.103007Z",
          "shell.execute_reply": "2022-10-11T11:04:18.243794Z"
        },
        "trusted": true,
        "id": "UY37smn43yT3"
      },
      "execution_count": null,
      "outputs": []
    },
    {
      "cell_type": "markdown",
      "source": [
        "#### Saving the model"
      ],
      "metadata": {
        "id": "g6gYjnZ_Sk2r"
      }
    },
    {
      "cell_type": "code",
      "source": [
        "# # save the model to disk\n",
        "# filename = 'tf-idf_vectorizer features.sav'\n",
        "# pickle.dump(tfidf_headline_features, open(filename, 'wb'))"
      ],
      "metadata": {
        "id": "OLDllf0lJjuY"
      },
      "execution_count": null,
      "outputs": []
    },
    {
      "cell_type": "code",
      "source": [
        "def tfidf_based_model(row_index, num_similar_items):\n",
        "    couple_dist = pairwise_distances(tfidf_headline_features,tfidf_headline_features[row_index])\n",
        "    indices = np.argsort(couple_dist.ravel())[0:num_similar_items]\n",
        "    df = pd.DataFrame({'headline':res['headlines'][indices].values,\n",
        "                'Euclidean similarity with the queried article': couple_dist[indices].ravel()})\n",
        "    print(\"=\"*30,\"Queried article details\",\"=\"*30)\n",
        "    print('headline : ',res['headlines'][indices[0]])\n",
        "    print(\"\\n\",\"=\"*25,\"Recommended articles : \",\"=\"*23)\n",
        "    \n",
        "    #return df.iloc[1:,1]\n",
        "    return df.iloc[1:,]\n",
        "tfidf_based_model(133, 11)"
      ],
      "metadata": {
        "execution": {
          "iopub.status.busy": "2022-10-11T11:04:18.246865Z",
          "iopub.execute_input": "2022-10-11T11:04:18.247643Z",
          "iopub.status.idle": "2022-10-11T11:04:18.277066Z",
          "shell.execute_reply.started": "2022-10-11T11:04:18.24756Z",
          "shell.execute_reply": "2022-10-11T11:04:18.275681Z"
        },
        "trusted": true,
        "colab": {
          "base_uri": "https://localhost:8080/",
          "height": 432
        },
        "id": "WC31hcM23yT3",
        "outputId": "3f33c35f-5e86-443d-be85-afa490ab67cb"
      },
      "execution_count": null,
      "outputs": [
        {
          "output_type": "stream",
          "name": "stdout",
          "text": [
            "============================== Queried article details ==============================\n",
            "headline :  Take it down immediately: Adani to FT on story questioning its funding\n",
            "\n",
            " ========================= Recommended articles :  =======================\n"
          ]
        },
        {
          "output_type": "execute_result",
          "data": {
            "text/plain": [
              "                                                                         headline  \\\n",
              "1   Investments in Adani firms comply with Indian laws: TotalEnergies               \n",
              "2   Should consider Ambani-Adani's contribution to country: Pawar                   \n",
              "3   Govt hasn't intervened anywhere: EAC-PM member Sanjeev Sanyal on Adani crisis   \n",
              "4   Rahul, Pawar's different views on Adani don't show Opp'n disunity: Sibal        \n",
              "5   I try to take stories of Indian women to global platform: Rani                  \n",
              "6   LIC to cap investment exposures after Adani firms' stock rout: Report           \n",
              "7   Adani Group suspends work on ₹34,900 crore petchem project in Gujarat: Report   \n",
              "8   Which countries have the highest number of billionaires?                        \n",
              "9   Lok Sabha & Rajya Sabha adjourned again amid ruckus                             \n",
              "10  Sensex down over 800 points, Nifty below 16,900; Adani stocks fall              \n",
              "\n",
              "    Euclidean similarity with the queried article  \n",
              "1   1.249276                                       \n",
              "2   1.283818                                       \n",
              "3   1.293161                                       \n",
              "4   1.315812                                       \n",
              "5   1.316096                                       \n",
              "6   1.318122                                       \n",
              "7   1.318949                                       \n",
              "8   1.333649                                       \n",
              "9   1.336169                                       \n",
              "10  1.341726                                       "
            ],
            "text/html": [
              "\n",
              "  <div id=\"df-4675843a-c1a0-46d6-83fd-8441086f22ec\">\n",
              "    <div class=\"colab-df-container\">\n",
              "      <div>\n",
              "<style scoped>\n",
              "    .dataframe tbody tr th:only-of-type {\n",
              "        vertical-align: middle;\n",
              "    }\n",
              "\n",
              "    .dataframe tbody tr th {\n",
              "        vertical-align: top;\n",
              "    }\n",
              "\n",
              "    .dataframe thead th {\n",
              "        text-align: right;\n",
              "    }\n",
              "</style>\n",
              "<table border=\"1\" class=\"dataframe\">\n",
              "  <thead>\n",
              "    <tr style=\"text-align: right;\">\n",
              "      <th></th>\n",
              "      <th>headline</th>\n",
              "      <th>Euclidean similarity with the queried article</th>\n",
              "    </tr>\n",
              "  </thead>\n",
              "  <tbody>\n",
              "    <tr>\n",
              "      <th>1</th>\n",
              "      <td>Investments in Adani firms comply with Indian laws: TotalEnergies</td>\n",
              "      <td>1.249276</td>\n",
              "    </tr>\n",
              "    <tr>\n",
              "      <th>2</th>\n",
              "      <td>Should consider Ambani-Adani's contribution to country: Pawar</td>\n",
              "      <td>1.283818</td>\n",
              "    </tr>\n",
              "    <tr>\n",
              "      <th>3</th>\n",
              "      <td>Govt hasn't intervened anywhere: EAC-PM member Sanjeev Sanyal on Adani crisis</td>\n",
              "      <td>1.293161</td>\n",
              "    </tr>\n",
              "    <tr>\n",
              "      <th>4</th>\n",
              "      <td>Rahul, Pawar's different views on Adani don't show Opp'n disunity: Sibal</td>\n",
              "      <td>1.315812</td>\n",
              "    </tr>\n",
              "    <tr>\n",
              "      <th>5</th>\n",
              "      <td>I try to take stories of Indian women to global platform: Rani</td>\n",
              "      <td>1.316096</td>\n",
              "    </tr>\n",
              "    <tr>\n",
              "      <th>6</th>\n",
              "      <td>LIC to cap investment exposures after Adani firms' stock rout: Report</td>\n",
              "      <td>1.318122</td>\n",
              "    </tr>\n",
              "    <tr>\n",
              "      <th>7</th>\n",
              "      <td>Adani Group suspends work on ₹34,900 crore petchem project in Gujarat: Report</td>\n",
              "      <td>1.318949</td>\n",
              "    </tr>\n",
              "    <tr>\n",
              "      <th>8</th>\n",
              "      <td>Which countries have the highest number of billionaires?</td>\n",
              "      <td>1.333649</td>\n",
              "    </tr>\n",
              "    <tr>\n",
              "      <th>9</th>\n",
              "      <td>Lok Sabha &amp; Rajya Sabha adjourned again amid ruckus</td>\n",
              "      <td>1.336169</td>\n",
              "    </tr>\n",
              "    <tr>\n",
              "      <th>10</th>\n",
              "      <td>Sensex down over 800 points, Nifty below 16,900; Adani stocks fall</td>\n",
              "      <td>1.341726</td>\n",
              "    </tr>\n",
              "  </tbody>\n",
              "</table>\n",
              "</div>\n",
              "      <button class=\"colab-df-convert\" onclick=\"convertToInteractive('df-4675843a-c1a0-46d6-83fd-8441086f22ec')\"\n",
              "              title=\"Convert this dataframe to an interactive table.\"\n",
              "              style=\"display:none;\">\n",
              "        \n",
              "  <svg xmlns=\"http://www.w3.org/2000/svg\" height=\"24px\"viewBox=\"0 0 24 24\"\n",
              "       width=\"24px\">\n",
              "    <path d=\"M0 0h24v24H0V0z\" fill=\"none\"/>\n",
              "    <path d=\"M18.56 5.44l.94 2.06.94-2.06 2.06-.94-2.06-.94-.94-2.06-.94 2.06-2.06.94zm-11 1L8.5 8.5l.94-2.06 2.06-.94-2.06-.94L8.5 2.5l-.94 2.06-2.06.94zm10 10l.94 2.06.94-2.06 2.06-.94-2.06-.94-.94-2.06-.94 2.06-2.06.94z\"/><path d=\"M17.41 7.96l-1.37-1.37c-.4-.4-.92-.59-1.43-.59-.52 0-1.04.2-1.43.59L10.3 9.45l-7.72 7.72c-.78.78-.78 2.05 0 2.83L4 21.41c.39.39.9.59 1.41.59.51 0 1.02-.2 1.41-.59l7.78-7.78 2.81-2.81c.8-.78.8-2.07 0-2.86zM5.41 20L4 18.59l7.72-7.72 1.47 1.35L5.41 20z\"/>\n",
              "  </svg>\n",
              "      </button>\n",
              "      \n",
              "  <style>\n",
              "    .colab-df-container {\n",
              "      display:flex;\n",
              "      flex-wrap:wrap;\n",
              "      gap: 12px;\n",
              "    }\n",
              "\n",
              "    .colab-df-convert {\n",
              "      background-color: #E8F0FE;\n",
              "      border: none;\n",
              "      border-radius: 50%;\n",
              "      cursor: pointer;\n",
              "      display: none;\n",
              "      fill: #1967D2;\n",
              "      height: 32px;\n",
              "      padding: 0 0 0 0;\n",
              "      width: 32px;\n",
              "    }\n",
              "\n",
              "    .colab-df-convert:hover {\n",
              "      background-color: #E2EBFA;\n",
              "      box-shadow: 0px 1px 2px rgba(60, 64, 67, 0.3), 0px 1px 3px 1px rgba(60, 64, 67, 0.15);\n",
              "      fill: #174EA6;\n",
              "    }\n",
              "\n",
              "    [theme=dark] .colab-df-convert {\n",
              "      background-color: #3B4455;\n",
              "      fill: #D2E3FC;\n",
              "    }\n",
              "\n",
              "    [theme=dark] .colab-df-convert:hover {\n",
              "      background-color: #434B5C;\n",
              "      box-shadow: 0px 1px 3px 1px rgba(0, 0, 0, 0.15);\n",
              "      filter: drop-shadow(0px 1px 2px rgba(0, 0, 0, 0.3));\n",
              "      fill: #FFFFFF;\n",
              "    }\n",
              "  </style>\n",
              "\n",
              "      <script>\n",
              "        const buttonEl =\n",
              "          document.querySelector('#df-4675843a-c1a0-46d6-83fd-8441086f22ec button.colab-df-convert');\n",
              "        buttonEl.style.display =\n",
              "          google.colab.kernel.accessAllowed ? 'block' : 'none';\n",
              "\n",
              "        async function convertToInteractive(key) {\n",
              "          const element = document.querySelector('#df-4675843a-c1a0-46d6-83fd-8441086f22ec');\n",
              "          const dataTable =\n",
              "            await google.colab.kernel.invokeFunction('convertToInteractive',\n",
              "                                                     [key], {});\n",
              "          if (!dataTable) return;\n",
              "\n",
              "          const docLinkHtml = 'Like what you see? Visit the ' +\n",
              "            '<a target=\"_blank\" href=https://colab.research.google.com/notebooks/data_table.ipynb>data table notebook</a>'\n",
              "            + ' to learn more about interactive tables.';\n",
              "          element.innerHTML = '';\n",
              "          dataTable['output_type'] = 'display_data';\n",
              "          await google.colab.output.renderOutput(dataTable, element);\n",
              "          const docLink = document.createElement('div');\n",
              "          docLink.innerHTML = docLinkHtml;\n",
              "          element.appendChild(docLink);\n",
              "        }\n",
              "      </script>\n",
              "    </div>\n",
              "  </div>\n",
              "  "
            ]
          },
          "metadata": {},
          "execution_count": 83
        }
      ]
    },
    {
      "cell_type": "code",
      "source": [
        "tfidf_based_model(235, 11)"
      ],
      "metadata": {
        "colab": {
          "base_uri": "https://localhost:8080/",
          "height": 432
        },
        "id": "QVnX7zVkJaxe",
        "outputId": "407df8b8-0a67-414f-e9e3-51f7cb2863c2"
      },
      "execution_count": null,
      "outputs": [
        {
          "output_type": "stream",
          "name": "stdout",
          "text": [
            "============================== Queried article details ==============================\n",
            "headline :  Rahul paying price for speaking fearlessly, govt rattled: Singhvi\n",
            "\n",
            " ========================= Recommended articles :  =======================\n"
          ]
        },
        {
          "output_type": "execute_result",
          "data": {
            "text/plain": [
              "                                                              headline  \\\n",
              "1   Rahul paying price for speaking fearlessly, govt rattled: Singhvi    \n",
              "2   Congress to launch Jan-Andolan across India as Rahul disqualified    \n",
              "3   Sonia reaches Rahul's home after he is disqualified from Lok Sabha   \n",
              "4   Rahul Gandhi's Kolar rally postponed again                           \n",
              "5   Indira was disqualified too, then she got massive majority: Gehlot   \n",
              "6   Indira was disqualified too, then she got massive majority: Gehlot   \n",
              "7   He's not Gandhi but 'Rahul gandagi': BJP MP over Savarkar remark     \n",
              "8   He's not Gandhi but 'Rahul gandagi': BJP MP over Savarkar remark     \n",
              "9   Rahul never demanded foreign forces to save our democracy: Tharoor   \n",
              "10  It will take many lives for Rahul to be like Savarkar: Giriraj       \n",
              "\n",
              "    Euclidean similarity with the queried article  \n",
              "1   0.000000                                       \n",
              "2   1.210548                                       \n",
              "3   1.213935                                       \n",
              "4   1.222595                                       \n",
              "5   1.222849                                       \n",
              "6   1.222849                                       \n",
              "7   1.229784                                       \n",
              "8   1.229784                                       \n",
              "9   1.232257                                       \n",
              "10  1.235115                                       "
            ],
            "text/html": [
              "\n",
              "  <div id=\"df-aaa8f25a-3e9c-4ca9-b422-46a887f7dc80\">\n",
              "    <div class=\"colab-df-container\">\n",
              "      <div>\n",
              "<style scoped>\n",
              "    .dataframe tbody tr th:only-of-type {\n",
              "        vertical-align: middle;\n",
              "    }\n",
              "\n",
              "    .dataframe tbody tr th {\n",
              "        vertical-align: top;\n",
              "    }\n",
              "\n",
              "    .dataframe thead th {\n",
              "        text-align: right;\n",
              "    }\n",
              "</style>\n",
              "<table border=\"1\" class=\"dataframe\">\n",
              "  <thead>\n",
              "    <tr style=\"text-align: right;\">\n",
              "      <th></th>\n",
              "      <th>headline</th>\n",
              "      <th>Euclidean similarity with the queried article</th>\n",
              "    </tr>\n",
              "  </thead>\n",
              "  <tbody>\n",
              "    <tr>\n",
              "      <th>1</th>\n",
              "      <td>Rahul paying price for speaking fearlessly, govt rattled: Singhvi</td>\n",
              "      <td>0.000000</td>\n",
              "    </tr>\n",
              "    <tr>\n",
              "      <th>2</th>\n",
              "      <td>Congress to launch Jan-Andolan across India as Rahul disqualified</td>\n",
              "      <td>1.210548</td>\n",
              "    </tr>\n",
              "    <tr>\n",
              "      <th>3</th>\n",
              "      <td>Sonia reaches Rahul's home after he is disqualified from Lok Sabha</td>\n",
              "      <td>1.213935</td>\n",
              "    </tr>\n",
              "    <tr>\n",
              "      <th>4</th>\n",
              "      <td>Rahul Gandhi's Kolar rally postponed again</td>\n",
              "      <td>1.222595</td>\n",
              "    </tr>\n",
              "    <tr>\n",
              "      <th>5</th>\n",
              "      <td>Indira was disqualified too, then she got massive majority: Gehlot</td>\n",
              "      <td>1.222849</td>\n",
              "    </tr>\n",
              "    <tr>\n",
              "      <th>6</th>\n",
              "      <td>Indira was disqualified too, then she got massive majority: Gehlot</td>\n",
              "      <td>1.222849</td>\n",
              "    </tr>\n",
              "    <tr>\n",
              "      <th>7</th>\n",
              "      <td>He's not Gandhi but 'Rahul gandagi': BJP MP over Savarkar remark</td>\n",
              "      <td>1.229784</td>\n",
              "    </tr>\n",
              "    <tr>\n",
              "      <th>8</th>\n",
              "      <td>He's not Gandhi but 'Rahul gandagi': BJP MP over Savarkar remark</td>\n",
              "      <td>1.229784</td>\n",
              "    </tr>\n",
              "    <tr>\n",
              "      <th>9</th>\n",
              "      <td>Rahul never demanded foreign forces to save our democracy: Tharoor</td>\n",
              "      <td>1.232257</td>\n",
              "    </tr>\n",
              "    <tr>\n",
              "      <th>10</th>\n",
              "      <td>It will take many lives for Rahul to be like Savarkar: Giriraj</td>\n",
              "      <td>1.235115</td>\n",
              "    </tr>\n",
              "  </tbody>\n",
              "</table>\n",
              "</div>\n",
              "      <button class=\"colab-df-convert\" onclick=\"convertToInteractive('df-aaa8f25a-3e9c-4ca9-b422-46a887f7dc80')\"\n",
              "              title=\"Convert this dataframe to an interactive table.\"\n",
              "              style=\"display:none;\">\n",
              "        \n",
              "  <svg xmlns=\"http://www.w3.org/2000/svg\" height=\"24px\"viewBox=\"0 0 24 24\"\n",
              "       width=\"24px\">\n",
              "    <path d=\"M0 0h24v24H0V0z\" fill=\"none\"/>\n",
              "    <path d=\"M18.56 5.44l.94 2.06.94-2.06 2.06-.94-2.06-.94-.94-2.06-.94 2.06-2.06.94zm-11 1L8.5 8.5l.94-2.06 2.06-.94-2.06-.94L8.5 2.5l-.94 2.06-2.06.94zm10 10l.94 2.06.94-2.06 2.06-.94-2.06-.94-.94-2.06-.94 2.06-2.06.94z\"/><path d=\"M17.41 7.96l-1.37-1.37c-.4-.4-.92-.59-1.43-.59-.52 0-1.04.2-1.43.59L10.3 9.45l-7.72 7.72c-.78.78-.78 2.05 0 2.83L4 21.41c.39.39.9.59 1.41.59.51 0 1.02-.2 1.41-.59l7.78-7.78 2.81-2.81c.8-.78.8-2.07 0-2.86zM5.41 20L4 18.59l7.72-7.72 1.47 1.35L5.41 20z\"/>\n",
              "  </svg>\n",
              "      </button>\n",
              "      \n",
              "  <style>\n",
              "    .colab-df-container {\n",
              "      display:flex;\n",
              "      flex-wrap:wrap;\n",
              "      gap: 12px;\n",
              "    }\n",
              "\n",
              "    .colab-df-convert {\n",
              "      background-color: #E8F0FE;\n",
              "      border: none;\n",
              "      border-radius: 50%;\n",
              "      cursor: pointer;\n",
              "      display: none;\n",
              "      fill: #1967D2;\n",
              "      height: 32px;\n",
              "      padding: 0 0 0 0;\n",
              "      width: 32px;\n",
              "    }\n",
              "\n",
              "    .colab-df-convert:hover {\n",
              "      background-color: #E2EBFA;\n",
              "      box-shadow: 0px 1px 2px rgba(60, 64, 67, 0.3), 0px 1px 3px 1px rgba(60, 64, 67, 0.15);\n",
              "      fill: #174EA6;\n",
              "    }\n",
              "\n",
              "    [theme=dark] .colab-df-convert {\n",
              "      background-color: #3B4455;\n",
              "      fill: #D2E3FC;\n",
              "    }\n",
              "\n",
              "    [theme=dark] .colab-df-convert:hover {\n",
              "      background-color: #434B5C;\n",
              "      box-shadow: 0px 1px 3px 1px rgba(0, 0, 0, 0.15);\n",
              "      filter: drop-shadow(0px 1px 2px rgba(0, 0, 0, 0.3));\n",
              "      fill: #FFFFFF;\n",
              "    }\n",
              "  </style>\n",
              "\n",
              "      <script>\n",
              "        const buttonEl =\n",
              "          document.querySelector('#df-aaa8f25a-3e9c-4ca9-b422-46a887f7dc80 button.colab-df-convert');\n",
              "        buttonEl.style.display =\n",
              "          google.colab.kernel.accessAllowed ? 'block' : 'none';\n",
              "\n",
              "        async function convertToInteractive(key) {\n",
              "          const element = document.querySelector('#df-aaa8f25a-3e9c-4ca9-b422-46a887f7dc80');\n",
              "          const dataTable =\n",
              "            await google.colab.kernel.invokeFunction('convertToInteractive',\n",
              "                                                     [key], {});\n",
              "          if (!dataTable) return;\n",
              "\n",
              "          const docLinkHtml = 'Like what you see? Visit the ' +\n",
              "            '<a target=\"_blank\" href=https://colab.research.google.com/notebooks/data_table.ipynb>data table notebook</a>'\n",
              "            + ' to learn more about interactive tables.';\n",
              "          element.innerHTML = '';\n",
              "          dataTable['output_type'] = 'display_data';\n",
              "          await google.colab.output.renderOutput(dataTable, element);\n",
              "          const docLink = document.createElement('div');\n",
              "          docLink.innerHTML = docLinkHtml;\n",
              "          element.appendChild(docLink);\n",
              "        }\n",
              "      </script>\n",
              "    </div>\n",
              "  </div>\n",
              "  "
            ]
          },
          "metadata": {},
          "execution_count": 84
        }
      ]
    },
    {
      "cell_type": "markdown",
      "source": [
        "#### Load the saved data"
      ],
      "metadata": {
        "id": "5R8zyFu6TfFv"
      }
    },
    {
      "cell_type": "code",
      "source": [
        "# To LOAD THE SAVED MODEL\n",
        "filename = 'tf-idf_vectorizer features.sav'\n",
        "vectorizer_features = pickle.load(open(filename,'rb'))\n",
        "\n",
        "def tfidf_based_model(row_index, num_similar_items):\n",
        "    couple_dist = pairwise_distances(vectorizer_features,vectorizer_features[row_index])\n",
        "    indices = np.argsort(couple_dist.ravel())[0:num_similar_items]\n",
        "    df = pd.DataFrame({'headline':res['headlines'][indices].values,\n",
        "                'Euclidean similarity with the queried article': couple_dist[indices].ravel()})\n",
        "    print(\"=\"*30,\"Queried article details\",\"=\"*30)\n",
        "    print('headline : ',res['headlines'][indices[0]])\n",
        "    print(\"\\n\",\"=\"*25,\"Recommended articles : \",\"=\"*23)\n",
        "    \n",
        "    #return df.iloc[1:,1]\n",
        "    return df.iloc[1:,]\n",
        "tfidf_based_model(133, 11)"
      ],
      "metadata": {
        "colab": {
          "base_uri": "https://localhost:8080/",
          "height": 432
        },
        "id": "K3rcGhisJv9_",
        "outputId": "afe85fd6-0d1c-4795-e3c4-666ba9b0d2b0"
      },
      "execution_count": null,
      "outputs": [
        {
          "output_type": "stream",
          "name": "stdout",
          "text": [
            "============================== Queried article details ==============================\n",
            "headline :  Take it down immediately: Adani to FT on story questioning its funding\n",
            "\n",
            " ========================= Recommended articles :  =======================\n"
          ]
        },
        {
          "output_type": "execute_result",
          "data": {
            "text/plain": [
              "                                                                         headline  \\\n",
              "1   Investments in Adani firms comply with Indian laws: TotalEnergies               \n",
              "2   Should consider Ambani-Adani's contribution to country: Pawar                   \n",
              "3   Govt hasn't intervened anywhere: EAC-PM member Sanjeev Sanyal on Adani crisis   \n",
              "4   Rahul, Pawar's different views on Adani don't show Opp'n disunity: Sibal        \n",
              "5   I try to take stories of Indian women to global platform: Rani                  \n",
              "6   LIC to cap investment exposures after Adani firms' stock rout: Report           \n",
              "7   Adani Group suspends work on ₹34,900 crore petchem project in Gujarat: Report   \n",
              "8   Which countries have the highest number of billionaires?                        \n",
              "9   Lok Sabha & Rajya Sabha adjourned again amid ruckus                             \n",
              "10  Sensex down over 800 points, Nifty below 16,900; Adani stocks fall              \n",
              "\n",
              "    Euclidean similarity with the queried article  \n",
              "1   1.249276                                       \n",
              "2   1.283818                                       \n",
              "3   1.293161                                       \n",
              "4   1.315812                                       \n",
              "5   1.316096                                       \n",
              "6   1.318122                                       \n",
              "7   1.318949                                       \n",
              "8   1.333649                                       \n",
              "9   1.336169                                       \n",
              "10  1.341726                                       "
            ],
            "text/html": [
              "\n",
              "  <div id=\"df-7a733ac5-54b6-4596-825d-98cfd473ae6a\">\n",
              "    <div class=\"colab-df-container\">\n",
              "      <div>\n",
              "<style scoped>\n",
              "    .dataframe tbody tr th:only-of-type {\n",
              "        vertical-align: middle;\n",
              "    }\n",
              "\n",
              "    .dataframe tbody tr th {\n",
              "        vertical-align: top;\n",
              "    }\n",
              "\n",
              "    .dataframe thead th {\n",
              "        text-align: right;\n",
              "    }\n",
              "</style>\n",
              "<table border=\"1\" class=\"dataframe\">\n",
              "  <thead>\n",
              "    <tr style=\"text-align: right;\">\n",
              "      <th></th>\n",
              "      <th>headline</th>\n",
              "      <th>Euclidean similarity with the queried article</th>\n",
              "    </tr>\n",
              "  </thead>\n",
              "  <tbody>\n",
              "    <tr>\n",
              "      <th>1</th>\n",
              "      <td>Investments in Adani firms comply with Indian laws: TotalEnergies</td>\n",
              "      <td>1.249276</td>\n",
              "    </tr>\n",
              "    <tr>\n",
              "      <th>2</th>\n",
              "      <td>Should consider Ambani-Adani's contribution to country: Pawar</td>\n",
              "      <td>1.283818</td>\n",
              "    </tr>\n",
              "    <tr>\n",
              "      <th>3</th>\n",
              "      <td>Govt hasn't intervened anywhere: EAC-PM member Sanjeev Sanyal on Adani crisis</td>\n",
              "      <td>1.293161</td>\n",
              "    </tr>\n",
              "    <tr>\n",
              "      <th>4</th>\n",
              "      <td>Rahul, Pawar's different views on Adani don't show Opp'n disunity: Sibal</td>\n",
              "      <td>1.315812</td>\n",
              "    </tr>\n",
              "    <tr>\n",
              "      <th>5</th>\n",
              "      <td>I try to take stories of Indian women to global platform: Rani</td>\n",
              "      <td>1.316096</td>\n",
              "    </tr>\n",
              "    <tr>\n",
              "      <th>6</th>\n",
              "      <td>LIC to cap investment exposures after Adani firms' stock rout: Report</td>\n",
              "      <td>1.318122</td>\n",
              "    </tr>\n",
              "    <tr>\n",
              "      <th>7</th>\n",
              "      <td>Adani Group suspends work on ₹34,900 crore petchem project in Gujarat: Report</td>\n",
              "      <td>1.318949</td>\n",
              "    </tr>\n",
              "    <tr>\n",
              "      <th>8</th>\n",
              "      <td>Which countries have the highest number of billionaires?</td>\n",
              "      <td>1.333649</td>\n",
              "    </tr>\n",
              "    <tr>\n",
              "      <th>9</th>\n",
              "      <td>Lok Sabha &amp; Rajya Sabha adjourned again amid ruckus</td>\n",
              "      <td>1.336169</td>\n",
              "    </tr>\n",
              "    <tr>\n",
              "      <th>10</th>\n",
              "      <td>Sensex down over 800 points, Nifty below 16,900; Adani stocks fall</td>\n",
              "      <td>1.341726</td>\n",
              "    </tr>\n",
              "  </tbody>\n",
              "</table>\n",
              "</div>\n",
              "      <button class=\"colab-df-convert\" onclick=\"convertToInteractive('df-7a733ac5-54b6-4596-825d-98cfd473ae6a')\"\n",
              "              title=\"Convert this dataframe to an interactive table.\"\n",
              "              style=\"display:none;\">\n",
              "        \n",
              "  <svg xmlns=\"http://www.w3.org/2000/svg\" height=\"24px\"viewBox=\"0 0 24 24\"\n",
              "       width=\"24px\">\n",
              "    <path d=\"M0 0h24v24H0V0z\" fill=\"none\"/>\n",
              "    <path d=\"M18.56 5.44l.94 2.06.94-2.06 2.06-.94-2.06-.94-.94-2.06-.94 2.06-2.06.94zm-11 1L8.5 8.5l.94-2.06 2.06-.94-2.06-.94L8.5 2.5l-.94 2.06-2.06.94zm10 10l.94 2.06.94-2.06 2.06-.94-2.06-.94-.94-2.06-.94 2.06-2.06.94z\"/><path d=\"M17.41 7.96l-1.37-1.37c-.4-.4-.92-.59-1.43-.59-.52 0-1.04.2-1.43.59L10.3 9.45l-7.72 7.72c-.78.78-.78 2.05 0 2.83L4 21.41c.39.39.9.59 1.41.59.51 0 1.02-.2 1.41-.59l7.78-7.78 2.81-2.81c.8-.78.8-2.07 0-2.86zM5.41 20L4 18.59l7.72-7.72 1.47 1.35L5.41 20z\"/>\n",
              "  </svg>\n",
              "      </button>\n",
              "      \n",
              "  <style>\n",
              "    .colab-df-container {\n",
              "      display:flex;\n",
              "      flex-wrap:wrap;\n",
              "      gap: 12px;\n",
              "    }\n",
              "\n",
              "    .colab-df-convert {\n",
              "      background-color: #E8F0FE;\n",
              "      border: none;\n",
              "      border-radius: 50%;\n",
              "      cursor: pointer;\n",
              "      display: none;\n",
              "      fill: #1967D2;\n",
              "      height: 32px;\n",
              "      padding: 0 0 0 0;\n",
              "      width: 32px;\n",
              "    }\n",
              "\n",
              "    .colab-df-convert:hover {\n",
              "      background-color: #E2EBFA;\n",
              "      box-shadow: 0px 1px 2px rgba(60, 64, 67, 0.3), 0px 1px 3px 1px rgba(60, 64, 67, 0.15);\n",
              "      fill: #174EA6;\n",
              "    }\n",
              "\n",
              "    [theme=dark] .colab-df-convert {\n",
              "      background-color: #3B4455;\n",
              "      fill: #D2E3FC;\n",
              "    }\n",
              "\n",
              "    [theme=dark] .colab-df-convert:hover {\n",
              "      background-color: #434B5C;\n",
              "      box-shadow: 0px 1px 3px 1px rgba(0, 0, 0, 0.15);\n",
              "      filter: drop-shadow(0px 1px 2px rgba(0, 0, 0, 0.3));\n",
              "      fill: #FFFFFF;\n",
              "    }\n",
              "  </style>\n",
              "\n",
              "      <script>\n",
              "        const buttonEl =\n",
              "          document.querySelector('#df-7a733ac5-54b6-4596-825d-98cfd473ae6a button.colab-df-convert');\n",
              "        buttonEl.style.display =\n",
              "          google.colab.kernel.accessAllowed ? 'block' : 'none';\n",
              "\n",
              "        async function convertToInteractive(key) {\n",
              "          const element = document.querySelector('#df-7a733ac5-54b6-4596-825d-98cfd473ae6a');\n",
              "          const dataTable =\n",
              "            await google.colab.kernel.invokeFunction('convertToInteractive',\n",
              "                                                     [key], {});\n",
              "          if (!dataTable) return;\n",
              "\n",
              "          const docLinkHtml = 'Like what you see? Visit the ' +\n",
              "            '<a target=\"_blank\" href=https://colab.research.google.com/notebooks/data_table.ipynb>data table notebook</a>'\n",
              "            + ' to learn more about interactive tables.';\n",
              "          element.innerHTML = '';\n",
              "          dataTable['output_type'] = 'display_data';\n",
              "          await google.colab.output.renderOutput(dataTable, element);\n",
              "          const docLink = document.createElement('div');\n",
              "          docLink.innerHTML = docLinkHtml;\n",
              "          element.appendChild(docLink);\n",
              "        }\n",
              "      </script>\n",
              "    </div>\n",
              "  </div>\n",
              "  "
            ]
          },
          "metadata": {},
          "execution_count": 88
        }
      ]
    },
    {
      "cell_type": "markdown",
      "source": [
        "Compared to **BoW** method, here **TF-IDF** method recommends the articles with headline containing words like \"employer\", \"fire\", \"flip\" in top 5 recommendations and these words occur less frequently in the corpus.   "
      ],
      "metadata": {
        "id": "yWCYQ0gg3yT3"
      }
    },
    {
      "cell_type": "markdown",
      "source": [
        "**Disadvantages :- **\n",
        "\n",
        "**Bow** and **TF-IDF** method do not capture **semantic** and **syntactic** similarity of a given word with other words but this can be captured using **Word embeddings**.\n",
        "\n",
        "For example: there is a good association between words like \"trump\" and \"white house\", \"office and employee\", \"tiger\" and \"leopard\", \"USA\" and \"Washington D.C\" etc. Such kind of **semantic** similarity can be captured using **word embedding** techniques.\n",
        "**Word embedding** techniques like **Word2Vec**, **GloVe** and **fastText** leverage semantic similarity between words. "
      ],
      "metadata": {
        "id": "Jcoo0rKe3yT3"
      }
    }
  ]
}