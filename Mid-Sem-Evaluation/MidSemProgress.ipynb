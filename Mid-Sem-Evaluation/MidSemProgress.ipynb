{
  "metadata": {
    "kernelspec": {
      "language": "python",
      "display_name": "Python 3",
      "name": "python3"
    },
    "language_info": {
      "pygments_lexer": "ipython3",
      "nbconvert_exporter": "python",
      "version": "3.6.4",
      "file_extension": ".py",
      "codemirror_mode": {
        "name": "ipython",
        "version": 3
      },
      "name": "python",
      "mimetype": "text/x-python"
    },
    "colab": {
      "provenance": []
    }
  },
  "nbformat_minor": 0,
  "nbformat": 4,
  "cells": [
    {
      "cell_type": "markdown",
      "source": [
        "## Preface"
      ],
      "metadata": {
        "id": "pzpeCppK3yTo"
      }
    },
    {
      "cell_type": "markdown",
      "source": [
        "**Content based recommendation** is based on similarity among users/items obtained through their **attributes**. It uses the additional information(meta data) about the **users** or **items** i.e. it relies on what kind of **content** is already available. This meta data could be **user's demograpic information** like *age*, *gender*, *job*, *location*, *skillsets* etc. Similarly for **items** it can be *item name*, *specifications*, *category*, *registration date* etc.\n",
        "\n",
        "So the core idea is to recommend items by finding similar items/users to the concerned **item/user** based on their **attributes**. \n",
        "\n",
        "In this kernel, I am going to discuss about **Content based recommendation** using **News category** dataset. The goal is to recommend **news articles** which are similar to the already read article by using attributes like article *headline*, *category*, *author* and *publishing date*.\n",
        "\n",
        "So let's get started without any further delay."
      ],
      "metadata": {
        "id": "VYN-kBik3yTs"
      }
    },
    {
      "cell_type": "markdown",
      "source": [
        "## 1. Importing necessary Libraries"
      ],
      "metadata": {
        "id": "A1XGOo8D3yTu"
      }
    },
    {
      "cell_type": "code",
      "source": [
        "import numpy as np\n",
        "import pandas as pd\n",
        "\n",
        "import os\n",
        "import math\n",
        "import time\n",
        "import random\n",
        "\n",
        "import matplotlib.pyplot as plt\n",
        "import seaborn as sns\n",
        "import plotly.figure_factory as ff\n",
        "import plotly.graph_objects as go\n",
        "import plotly.express as px\n",
        "\n",
        "#for storing the model\n",
        "import pickle\n",
        "\n",
        "# Below libraries are for text processing using NLTK\n",
        "import nltk\n",
        "from nltk.corpus import stopwords\n",
        "from nltk.tokenize import word_tokenize\n",
        "from nltk.stem import WordNetLemmatizer\n",
        "\n",
        "# Below libraries are for feature representation using sklearn\n",
        "from sklearn.feature_extraction.text import CountVectorizer\n",
        "from sklearn.feature_extraction.text import TfidfVectorizer\n",
        "\n",
        "# Below libraries are for similarity matrices using sklearn\n",
        "from sklearn.metrics.pairwise import cosine_similarity  \n",
        "from sklearn.metrics import pairwise_distances\n",
        "\n",
        "from sklearn.metrics.pairwise import cosine_similarity\n"
      ],
      "metadata": {
        "execution": {
          "iopub.status.busy": "2022-10-11T11:04:03.355241Z",
          "iopub.execute_input": "2022-10-11T11:04:03.355664Z",
          "iopub.status.idle": "2022-10-11T11:04:05.531203Z",
          "shell.execute_reply.started": "2022-10-11T11:04:03.355601Z",
          "shell.execute_reply": "2022-10-11T11:04:05.529706Z"
        },
        "trusted": true,
        "id": "3lq265gw3yTu"
      },
      "execution_count": 1,
      "outputs": []
    },
    {
      "cell_type": "markdown",
      "source": [
        "## 2. Loading Data"
      ],
      "metadata": {
        "id": "SxK5gt5s3yTw"
      }
    },
    {
      "cell_type": "code",
      "source": [
        "from google.colab import drive\n",
        "drive.mount('/content/drive')"
      ],
      "metadata": {
        "colab": {
          "base_uri": "https://localhost:8080/"
        },
        "id": "xWs_22V6EPCS",
        "outputId": "2f16b1a7-c010-4e83-9b71-39aec664c2f9"
      },
      "execution_count": 2,
      "outputs": [
        {
          "output_type": "stream",
          "name": "stdout",
          "text": [
            "Mounted at /content/drive\n"
          ]
        }
      ]
    },
    {
      "cell_type": "code",
      "source": [
        "#news_articles = pd.read_json(\"/content/News_Category_Dataset_v2.json\", lines = True)\n",
        "#news_articles = pd.read_json(\"/content/drive/MyDrive/IR Project - Group 49/Dataset/News_Category_Dataset_v2.json\", lines = True)\n",
        "news_articles = pd.read_json(\"/content/drive/MyDrive/News_Category_Dataset_v2.json\", lines = True)"
      ],
      "metadata": {
        "execution": {
          "iopub.status.busy": "2022-10-11T11:04:05.533798Z",
          "iopub.execute_input": "2022-10-11T11:04:05.534205Z",
          "iopub.status.idle": "2022-10-11T11:04:10.855675Z",
          "shell.execute_reply.started": "2022-10-11T11:04:05.534132Z",
          "shell.execute_reply": "2022-10-11T11:04:10.854449Z"
        },
        "trusted": true,
        "id": "RIDCggpk3yTw"
      },
      "execution_count": 3,
      "outputs": []
    },
    {
      "cell_type": "code",
      "source": [
        "news_articles.info()"
      ],
      "metadata": {
        "execution": {
          "iopub.status.busy": "2022-10-11T11:04:10.857696Z",
          "iopub.execute_input": "2022-10-11T11:04:10.858136Z",
          "iopub.status.idle": "2022-10-11T11:04:10.97925Z",
          "shell.execute_reply.started": "2022-10-11T11:04:10.858071Z",
          "shell.execute_reply": "2022-10-11T11:04:10.977846Z"
        },
        "trusted": true,
        "colab": {
          "base_uri": "https://localhost:8080/"
        },
        "id": "shZJc7v23yTw",
        "outputId": "d1658a0d-9115-4d58-83ce-3be18e10fc47"
      },
      "execution_count": 4,
      "outputs": [
        {
          "output_type": "stream",
          "name": "stdout",
          "text": [
            "<class 'pandas.core.frame.DataFrame'>\n",
            "RangeIndex: 200853 entries, 0 to 200852\n",
            "Data columns (total 6 columns):\n",
            " #   Column             Non-Null Count   Dtype         \n",
            "---  ------             --------------   -----         \n",
            " 0   category           200853 non-null  object        \n",
            " 1   headline           200853 non-null  object        \n",
            " 2   authors            200853 non-null  object        \n",
            " 3   link               200853 non-null  object        \n",
            " 4   short_description  200853 non-null  object        \n",
            " 5   date               200853 non-null  datetime64[ns]\n",
            "dtypes: datetime64[ns](1), object(5)\n",
            "memory usage: 9.2+ MB\n"
          ]
        }
      ]
    },
    {
      "cell_type": "markdown",
      "source": [
        "The dataset contains about two million records of six different features. "
      ],
      "metadata": {
        "id": "ETtLC_A13yTw"
      }
    },
    {
      "cell_type": "code",
      "source": [
        "news_articles.category.unique().shape"
      ],
      "metadata": {
        "colab": {
          "base_uri": "https://localhost:8080/"
        },
        "id": "Pcr2qtLp4IYB",
        "outputId": "92ccb664-50ef-4e64-e5d5-cfd4ba3b1779"
      },
      "execution_count": 5,
      "outputs": [
        {
          "output_type": "execute_result",
          "data": {
            "text/plain": [
              "(41,)"
            ]
          },
          "metadata": {},
          "execution_count": 5
        }
      ]
    },
    {
      "cell_type": "markdown",
      "source": [
        "There are 41 unique categores in the data"
      ],
      "metadata": {
        "id": "F1Q8MmBy4TZD"
      }
    },
    {
      "cell_type": "code",
      "source": [
        "news_articles.head()"
      ],
      "metadata": {
        "execution": {
          "iopub.status.busy": "2022-10-11T11:04:10.981088Z",
          "iopub.execute_input": "2022-10-11T11:04:10.981406Z",
          "iopub.status.idle": "2022-10-11T11:04:11.006624Z",
          "shell.execute_reply.started": "2022-10-11T11:04:10.981353Z",
          "shell.execute_reply": "2022-10-11T11:04:11.004922Z"
        },
        "trusted": true,
        "colab": {
          "base_uri": "https://localhost:8080/",
          "height": 337
        },
        "id": "h8hkL_ae3yTx",
        "outputId": "840f9952-8282-4bef-9a83-3e3c23d60555"
      },
      "execution_count": 6,
      "outputs": [
        {
          "output_type": "execute_result",
          "data": {
            "text/plain": [
              "        category                                           headline  \\\n",
              "0          CRIME  There Were 2 Mass Shootings In Texas Last Week...   \n",
              "1  ENTERTAINMENT  Will Smith Joins Diplo And Nicky Jam For The 2...   \n",
              "2  ENTERTAINMENT    Hugh Grant Marries For The First Time At Age 57   \n",
              "3  ENTERTAINMENT  Jim Carrey Blasts 'Castrato' Adam Schiff And D...   \n",
              "4  ENTERTAINMENT  Julianna Margulies Uses Donald Trump Poop Bags...   \n",
              "\n",
              "           authors                                               link  \\\n",
              "0  Melissa Jeltsen  https://www.huffingtonpost.com/entry/texas-ama...   \n",
              "1    Andy McDonald  https://www.huffingtonpost.com/entry/will-smit...   \n",
              "2       Ron Dicker  https://www.huffingtonpost.com/entry/hugh-gran...   \n",
              "3       Ron Dicker  https://www.huffingtonpost.com/entry/jim-carre...   \n",
              "4       Ron Dicker  https://www.huffingtonpost.com/entry/julianna-...   \n",
              "\n",
              "                                   short_description       date  \n",
              "0  She left her husband. He killed their children... 2018-05-26  \n",
              "1                           Of course it has a song. 2018-05-26  \n",
              "2  The actor and his longtime girlfriend Anna Ebe... 2018-05-26  \n",
              "3  The actor gives Dems an ass-kicking for not fi... 2018-05-26  \n",
              "4  The \"Dietland\" actress said using the bags is ... 2018-05-26  "
            ],
            "text/html": [
              "\n",
              "  <div id=\"df-592a0631-e6bb-4f40-b0c3-c6db9733be9b\">\n",
              "    <div class=\"colab-df-container\">\n",
              "      <div>\n",
              "<style scoped>\n",
              "    .dataframe tbody tr th:only-of-type {\n",
              "        vertical-align: middle;\n",
              "    }\n",
              "\n",
              "    .dataframe tbody tr th {\n",
              "        vertical-align: top;\n",
              "    }\n",
              "\n",
              "    .dataframe thead th {\n",
              "        text-align: right;\n",
              "    }\n",
              "</style>\n",
              "<table border=\"1\" class=\"dataframe\">\n",
              "  <thead>\n",
              "    <tr style=\"text-align: right;\">\n",
              "      <th></th>\n",
              "      <th>category</th>\n",
              "      <th>headline</th>\n",
              "      <th>authors</th>\n",
              "      <th>link</th>\n",
              "      <th>short_description</th>\n",
              "      <th>date</th>\n",
              "    </tr>\n",
              "  </thead>\n",
              "  <tbody>\n",
              "    <tr>\n",
              "      <th>0</th>\n",
              "      <td>CRIME</td>\n",
              "      <td>There Were 2 Mass Shootings In Texas Last Week...</td>\n",
              "      <td>Melissa Jeltsen</td>\n",
              "      <td>https://www.huffingtonpost.com/entry/texas-ama...</td>\n",
              "      <td>She left her husband. He killed their children...</td>\n",
              "      <td>2018-05-26</td>\n",
              "    </tr>\n",
              "    <tr>\n",
              "      <th>1</th>\n",
              "      <td>ENTERTAINMENT</td>\n",
              "      <td>Will Smith Joins Diplo And Nicky Jam For The 2...</td>\n",
              "      <td>Andy McDonald</td>\n",
              "      <td>https://www.huffingtonpost.com/entry/will-smit...</td>\n",
              "      <td>Of course it has a song.</td>\n",
              "      <td>2018-05-26</td>\n",
              "    </tr>\n",
              "    <tr>\n",
              "      <th>2</th>\n",
              "      <td>ENTERTAINMENT</td>\n",
              "      <td>Hugh Grant Marries For The First Time At Age 57</td>\n",
              "      <td>Ron Dicker</td>\n",
              "      <td>https://www.huffingtonpost.com/entry/hugh-gran...</td>\n",
              "      <td>The actor and his longtime girlfriend Anna Ebe...</td>\n",
              "      <td>2018-05-26</td>\n",
              "    </tr>\n",
              "    <tr>\n",
              "      <th>3</th>\n",
              "      <td>ENTERTAINMENT</td>\n",
              "      <td>Jim Carrey Blasts 'Castrato' Adam Schiff And D...</td>\n",
              "      <td>Ron Dicker</td>\n",
              "      <td>https://www.huffingtonpost.com/entry/jim-carre...</td>\n",
              "      <td>The actor gives Dems an ass-kicking for not fi...</td>\n",
              "      <td>2018-05-26</td>\n",
              "    </tr>\n",
              "    <tr>\n",
              "      <th>4</th>\n",
              "      <td>ENTERTAINMENT</td>\n",
              "      <td>Julianna Margulies Uses Donald Trump Poop Bags...</td>\n",
              "      <td>Ron Dicker</td>\n",
              "      <td>https://www.huffingtonpost.com/entry/julianna-...</td>\n",
              "      <td>The \"Dietland\" actress said using the bags is ...</td>\n",
              "      <td>2018-05-26</td>\n",
              "    </tr>\n",
              "  </tbody>\n",
              "</table>\n",
              "</div>\n",
              "      <button class=\"colab-df-convert\" onclick=\"convertToInteractive('df-592a0631-e6bb-4f40-b0c3-c6db9733be9b')\"\n",
              "              title=\"Convert this dataframe to an interactive table.\"\n",
              "              style=\"display:none;\">\n",
              "        \n",
              "  <svg xmlns=\"http://www.w3.org/2000/svg\" height=\"24px\"viewBox=\"0 0 24 24\"\n",
              "       width=\"24px\">\n",
              "    <path d=\"M0 0h24v24H0V0z\" fill=\"none\"/>\n",
              "    <path d=\"M18.56 5.44l.94 2.06.94-2.06 2.06-.94-2.06-.94-.94-2.06-.94 2.06-2.06.94zm-11 1L8.5 8.5l.94-2.06 2.06-.94-2.06-.94L8.5 2.5l-.94 2.06-2.06.94zm10 10l.94 2.06.94-2.06 2.06-.94-2.06-.94-.94-2.06-.94 2.06-2.06.94z\"/><path d=\"M17.41 7.96l-1.37-1.37c-.4-.4-.92-.59-1.43-.59-.52 0-1.04.2-1.43.59L10.3 9.45l-7.72 7.72c-.78.78-.78 2.05 0 2.83L4 21.41c.39.39.9.59 1.41.59.51 0 1.02-.2 1.41-.59l7.78-7.78 2.81-2.81c.8-.78.8-2.07 0-2.86zM5.41 20L4 18.59l7.72-7.72 1.47 1.35L5.41 20z\"/>\n",
              "  </svg>\n",
              "      </button>\n",
              "      \n",
              "  <style>\n",
              "    .colab-df-container {\n",
              "      display:flex;\n",
              "      flex-wrap:wrap;\n",
              "      gap: 12px;\n",
              "    }\n",
              "\n",
              "    .colab-df-convert {\n",
              "      background-color: #E8F0FE;\n",
              "      border: none;\n",
              "      border-radius: 50%;\n",
              "      cursor: pointer;\n",
              "      display: none;\n",
              "      fill: #1967D2;\n",
              "      height: 32px;\n",
              "      padding: 0 0 0 0;\n",
              "      width: 32px;\n",
              "    }\n",
              "\n",
              "    .colab-df-convert:hover {\n",
              "      background-color: #E2EBFA;\n",
              "      box-shadow: 0px 1px 2px rgba(60, 64, 67, 0.3), 0px 1px 3px 1px rgba(60, 64, 67, 0.15);\n",
              "      fill: #174EA6;\n",
              "    }\n",
              "\n",
              "    [theme=dark] .colab-df-convert {\n",
              "      background-color: #3B4455;\n",
              "      fill: #D2E3FC;\n",
              "    }\n",
              "\n",
              "    [theme=dark] .colab-df-convert:hover {\n",
              "      background-color: #434B5C;\n",
              "      box-shadow: 0px 1px 3px 1px rgba(0, 0, 0, 0.15);\n",
              "      filter: drop-shadow(0px 1px 2px rgba(0, 0, 0, 0.3));\n",
              "      fill: #FFFFFF;\n",
              "    }\n",
              "  </style>\n",
              "\n",
              "      <script>\n",
              "        const buttonEl =\n",
              "          document.querySelector('#df-592a0631-e6bb-4f40-b0c3-c6db9733be9b button.colab-df-convert');\n",
              "        buttonEl.style.display =\n",
              "          google.colab.kernel.accessAllowed ? 'block' : 'none';\n",
              "\n",
              "        async function convertToInteractive(key) {\n",
              "          const element = document.querySelector('#df-592a0631-e6bb-4f40-b0c3-c6db9733be9b');\n",
              "          const dataTable =\n",
              "            await google.colab.kernel.invokeFunction('convertToInteractive',\n",
              "                                                     [key], {});\n",
              "          if (!dataTable) return;\n",
              "\n",
              "          const docLinkHtml = 'Like what you see? Visit the ' +\n",
              "            '<a target=\"_blank\" href=https://colab.research.google.com/notebooks/data_table.ipynb>data table notebook</a>'\n",
              "            + ' to learn more about interactive tables.';\n",
              "          element.innerHTML = '';\n",
              "          dataTable['output_type'] = 'display_data';\n",
              "          await google.colab.output.renderOutput(dataTable, element);\n",
              "          const docLink = document.createElement('div');\n",
              "          docLink.innerHTML = docLinkHtml;\n",
              "          element.appendChild(docLink);\n",
              "        }\n",
              "      </script>\n",
              "    </div>\n",
              "  </div>\n",
              "  "
            ]
          },
          "metadata": {},
          "execution_count": 6
        }
      ]
    },
    {
      "cell_type": "markdown",
      "source": [
        "## 3. Data Preprocessing"
      ],
      "metadata": {
        "id": "Sj8Qvk1d3yTx"
      }
    },
    {
      "cell_type": "markdown",
      "source": [
        "### 3.a Fetching only the articles from 2018  "
      ],
      "metadata": {
        "id": "Gqvquw663yTx"
      }
    },
    {
      "cell_type": "markdown",
      "source": [
        "Since the dataset size is quite large so processing through entire dataset may consume too much time. To refrain from this, we are only considering the latest articles from the year 2018. "
      ],
      "metadata": {
        "id": "tse_X61e3yTx"
      }
    },
    {
      "cell_type": "code",
      "source": [
        "news_articles = news_articles[news_articles['date'] >= pd.Timestamp(2018,1,1)]"
      ],
      "metadata": {
        "execution": {
          "iopub.status.busy": "2022-10-11T11:04:11.008669Z",
          "iopub.execute_input": "2022-10-11T11:04:11.009087Z",
          "iopub.status.idle": "2022-10-11T11:04:11.023613Z",
          "shell.execute_reply.started": "2022-10-11T11:04:11.009015Z",
          "shell.execute_reply": "2022-10-11T11:04:11.022271Z"
        },
        "trusted": true,
        "id": "MRI_EXT_3yTx"
      },
      "execution_count": 7,
      "outputs": []
    },
    {
      "cell_type": "code",
      "source": [
        "news_articles.shape"
      ],
      "metadata": {
        "execution": {
          "iopub.status.busy": "2022-10-11T11:04:11.029568Z",
          "iopub.execute_input": "2022-10-11T11:04:11.030706Z",
          "iopub.status.idle": "2022-10-11T11:04:11.039428Z",
          "shell.execute_reply.started": "2022-10-11T11:04:11.030609Z",
          "shell.execute_reply": "2022-10-11T11:04:11.038143Z"
        },
        "trusted": true,
        "colab": {
          "base_uri": "https://localhost:8080/"
        },
        "id": "RPJy15oC3yTx",
        "outputId": "1898fff1-fb0c-4327-d3dc-2c1531e8bcf4"
      },
      "execution_count": 8,
      "outputs": [
        {
          "output_type": "execute_result",
          "data": {
            "text/plain": [
              "(8583, 6)"
            ]
          },
          "metadata": {},
          "execution_count": 8
        }
      ]
    },
    {
      "cell_type": "markdown",
      "source": [
        "Now, the number of news articles comes down to 8583."
      ],
      "metadata": {
        "id": "NtVxDkHf3yTx"
      }
    },
    {
      "cell_type": "markdown",
      "source": [
        "### 3.b Removing all the short headline articles "
      ],
      "metadata": {
        "id": "QiVkBoOQ3yTy"
      }
    },
    {
      "cell_type": "markdown",
      "source": [
        "After stop words removal from headline, the articles with very short headline may become blank headline articles. So let's remove all the articles with less words(<5) in the headline.   "
      ],
      "metadata": {
        "id": "2CVg3LmU3yTy"
      }
    },
    {
      "cell_type": "code",
      "source": [
        "news_articles = news_articles[news_articles['headline'].apply(lambda x: len(x.split())>5)]\n",
        "print(\"Total number of articles after removal of headlines with short title:\", news_articles.shape[0])"
      ],
      "metadata": {
        "execution": {
          "iopub.status.busy": "2022-10-11T11:04:11.0433Z",
          "iopub.execute_input": "2022-10-11T11:04:11.043676Z",
          "iopub.status.idle": "2022-10-11T11:04:11.069764Z",
          "shell.execute_reply.started": "2022-10-11T11:04:11.043613Z",
          "shell.execute_reply": "2022-10-11T11:04:11.068653Z"
        },
        "trusted": true,
        "colab": {
          "base_uri": "https://localhost:8080/"
        },
        "id": "6dJ9MxG83yTy",
        "outputId": "c91bc4e8-7996-450f-fd62-98dbd80f48f7"
      },
      "execution_count": 9,
      "outputs": [
        {
          "output_type": "stream",
          "name": "stdout",
          "text": [
            "Total number of articles after removal of headlines with short title: 8530\n"
          ]
        }
      ]
    },
    {
      "cell_type": "markdown",
      "source": [
        "### 3.c Checking and removing all the duplicates"
      ],
      "metadata": {
        "id": "Pfr68LDL3yTy"
      }
    },
    {
      "cell_type": "markdown",
      "source": [
        "Since some articles are exactly same in headlines, so let's remove all such articles having duplicate headline appearance."
      ],
      "metadata": {
        "id": "zstF3ggt3yTy"
      }
    },
    {
      "cell_type": "code",
      "source": [
        "news_articles.sort_values('headline',inplace=True, ascending=False)\n",
        "duplicated_articles_series = news_articles.duplicated('headline', keep = False)\n",
        "news_articles = news_articles[~duplicated_articles_series]\n",
        "print(\"Total number of articles after removing duplicates:\", news_articles.shape[0])"
      ],
      "metadata": {
        "execution": {
          "iopub.status.busy": "2022-10-11T11:04:11.071827Z",
          "iopub.execute_input": "2022-10-11T11:04:11.072608Z",
          "iopub.status.idle": "2022-10-11T11:04:11.104804Z",
          "shell.execute_reply.started": "2022-10-11T11:04:11.072536Z",
          "shell.execute_reply": "2022-10-11T11:04:11.103713Z"
        },
        "trusted": true,
        "colab": {
          "base_uri": "https://localhost:8080/"
        },
        "id": "INgKYfWa3yTy",
        "outputId": "4078ff11-d6d4-4e5f-ed20-838e957c1870"
      },
      "execution_count": 10,
      "outputs": [
        {
          "output_type": "stream",
          "name": "stdout",
          "text": [
            "Total number of articles after removing duplicates: 8485\n"
          ]
        }
      ]
    },
    {
      "cell_type": "markdown",
      "source": [
        "### 3.d Checking for missing values"
      ],
      "metadata": {
        "id": "Id3IMERa3yTy"
      }
    },
    {
      "cell_type": "code",
      "source": [
        "news_articles.isna().sum()"
      ],
      "metadata": {
        "execution": {
          "iopub.status.busy": "2022-10-11T11:04:11.106203Z",
          "iopub.execute_input": "2022-10-11T11:04:11.106487Z",
          "iopub.status.idle": "2022-10-11T11:04:11.123037Z",
          "shell.execute_reply.started": "2022-10-11T11:04:11.106437Z",
          "shell.execute_reply": "2022-10-11T11:04:11.121489Z"
        },
        "trusted": true,
        "colab": {
          "base_uri": "https://localhost:8080/"
        },
        "id": "kY2ywbZB3yTy",
        "outputId": "2a812e97-2035-4c27-ab4b-fb2a086d115a"
      },
      "execution_count": 11,
      "outputs": [
        {
          "output_type": "execute_result",
          "data": {
            "text/plain": [
              "category             0\n",
              "headline             0\n",
              "authors              0\n",
              "link                 0\n",
              "short_description    0\n",
              "date                 0\n",
              "dtype: int64"
            ]
          },
          "metadata": {},
          "execution_count": 11
        }
      ]
    },
    {
      "cell_type": "markdown",
      "source": [
        "## 4. Basic Data Exploration "
      ],
      "metadata": {
        "id": "0grAeVZK3yTy"
      }
    },
    {
      "cell_type": "markdown",
      "source": [
        "### 4.a Basic statistics - Number of articles,authors,categories"
      ],
      "metadata": {
        "id": "f8qKiaF23yTy"
      }
    },
    {
      "cell_type": "code",
      "source": [
        "print(\"Total number of articles : \", news_articles.shape[0])\n",
        "print(\"Total number of authors : \", news_articles[\"authors\"].nunique())\n",
        "print(\"Total number of unqiue categories : \", news_articles[\"category\"].nunique())"
      ],
      "metadata": {
        "execution": {
          "iopub.status.busy": "2022-10-11T11:04:11.124873Z",
          "iopub.execute_input": "2022-10-11T11:04:11.125286Z",
          "iopub.status.idle": "2022-10-11T11:04:11.147411Z",
          "shell.execute_reply.started": "2022-10-11T11:04:11.12521Z",
          "shell.execute_reply": "2022-10-11T11:04:11.146257Z"
        },
        "trusted": true,
        "colab": {
          "base_uri": "https://localhost:8080/"
        },
        "id": "PLl85iA23yTz",
        "outputId": "5c97f21c-319c-464d-8a4e-e52a479c0801"
      },
      "execution_count": 12,
      "outputs": [
        {
          "output_type": "stream",
          "name": "stdout",
          "text": [
            "Total number of articles :  8485\n",
            "Total number of authors :  892\n",
            "Total number of unqiue categories :  26\n"
          ]
        }
      ]
    },
    {
      "cell_type": "markdown",
      "source": [
        "### 4.b Distribution of articles category-wise"
      ],
      "metadata": {
        "id": "78YYhT-W3yTz"
      }
    },
    {
      "cell_type": "code",
      "source": [
        "fig = go.Figure([go.Bar(x=news_articles[\"category\"].value_counts().index, y=news_articles[\"category\"].value_counts().values)])\n",
        "fig['layout'].update(title={\"text\" : 'Distribution of articles category-wise','y':0.9,'x':0.5,'xanchor': 'center','yanchor': 'top'}, xaxis_title=\"Category name\",yaxis_title=\"Number of articles\")\n",
        "fig.update_layout(width=800,height=700)\n",
        "fig"
      ],
      "metadata": {
        "execution": {
          "iopub.status.busy": "2022-10-11T11:04:11.148972Z",
          "iopub.execute_input": "2022-10-11T11:04:11.14926Z",
          "iopub.status.idle": "2022-10-11T11:04:11.972315Z",
          "shell.execute_reply.started": "2022-10-11T11:04:11.149218Z",
          "shell.execute_reply": "2022-10-11T11:04:11.971438Z"
        },
        "trusted": true,
        "colab": {
          "base_uri": "https://localhost:8080/",
          "height": 717
        },
        "id": "8kllbx-u3yTz",
        "outputId": "0aec5d57-8605-422a-c318-5bd4f2a92ed4"
      },
      "execution_count": 13,
      "outputs": [
        {
          "output_type": "display_data",
          "data": {
            "text/html": [
              "<html>\n",
              "<head><meta charset=\"utf-8\" /></head>\n",
              "<body>\n",
              "    <div>            <script src=\"https://cdnjs.cloudflare.com/ajax/libs/mathjax/2.7.5/MathJax.js?config=TeX-AMS-MML_SVG\"></script><script type=\"text/javascript\">if (window.MathJax && window.MathJax.Hub && window.MathJax.Hub.Config) {window.MathJax.Hub.Config({SVG: {font: \"STIX-Web\"}});}</script>                <script type=\"text/javascript\">window.PlotlyConfig = {MathJaxConfig: 'local'};</script>\n",
              "        <script src=\"https://cdn.plot.ly/plotly-2.18.2.min.js\"></script>                <div id=\"ead18d35-054d-4784-b4ce-f2f8b1c1b33b\" class=\"plotly-graph-div\" style=\"height:700px; width:800px;\"></div>            <script type=\"text/javascript\">                                    window.PLOTLYENV=window.PLOTLYENV || {};                                    if (document.getElementById(\"ead18d35-054d-4784-b4ce-f2f8b1c1b33b\")) {                    Plotly.newPlot(                        \"ead18d35-054d-4784-b4ce-f2f8b1c1b33b\",                        [{\"x\":[\"POLITICS\",\"ENTERTAINMENT\",\"WORLD NEWS\",\"QUEER VOICES\",\"COMEDY\",\"BLACK VOICES\",\"SPORTS\",\"MEDIA\",\"WOMEN\",\"WEIRD NEWS\",\"CRIME\",\"BUSINESS\",\"LATINO VOICES\",\"IMPACT\",\"TRAVEL\",\"RELIGION\",\"TECH\",\"SCIENCE\",\"STYLE\",\"PARENTS\",\"EDUCATION\",\"GREEN\",\"HEALTHY LIVING\",\"ARTS & CULTURE\",\"TASTE\",\"COLLEGE\"],\"y\":[3042,1699,557,451,443,406,364,290,226,205,170,85,83,73,72,63,53,40,34,32,31,28,15,13,9,1],\"type\":\"bar\"}],                        {\"template\":{\"data\":{\"histogram2dcontour\":[{\"type\":\"histogram2dcontour\",\"colorbar\":{\"outlinewidth\":0,\"ticks\":\"\"},\"colorscale\":[[0.0,\"#0d0887\"],[0.1111111111111111,\"#46039f\"],[0.2222222222222222,\"#7201a8\"],[0.3333333333333333,\"#9c179e\"],[0.4444444444444444,\"#bd3786\"],[0.5555555555555556,\"#d8576b\"],[0.6666666666666666,\"#ed7953\"],[0.7777777777777778,\"#fb9f3a\"],[0.8888888888888888,\"#fdca26\"],[1.0,\"#f0f921\"]]}],\"choropleth\":[{\"type\":\"choropleth\",\"colorbar\":{\"outlinewidth\":0,\"ticks\":\"\"}}],\"histogram2d\":[{\"type\":\"histogram2d\",\"colorbar\":{\"outlinewidth\":0,\"ticks\":\"\"},\"colorscale\":[[0.0,\"#0d0887\"],[0.1111111111111111,\"#46039f\"],[0.2222222222222222,\"#7201a8\"],[0.3333333333333333,\"#9c179e\"],[0.4444444444444444,\"#bd3786\"],[0.5555555555555556,\"#d8576b\"],[0.6666666666666666,\"#ed7953\"],[0.7777777777777778,\"#fb9f3a\"],[0.8888888888888888,\"#fdca26\"],[1.0,\"#f0f921\"]]}],\"heatmap\":[{\"type\":\"heatmap\",\"colorbar\":{\"outlinewidth\":0,\"ticks\":\"\"},\"colorscale\":[[0.0,\"#0d0887\"],[0.1111111111111111,\"#46039f\"],[0.2222222222222222,\"#7201a8\"],[0.3333333333333333,\"#9c179e\"],[0.4444444444444444,\"#bd3786\"],[0.5555555555555556,\"#d8576b\"],[0.6666666666666666,\"#ed7953\"],[0.7777777777777778,\"#fb9f3a\"],[0.8888888888888888,\"#fdca26\"],[1.0,\"#f0f921\"]]}],\"heatmapgl\":[{\"type\":\"heatmapgl\",\"colorbar\":{\"outlinewidth\":0,\"ticks\":\"\"},\"colorscale\":[[0.0,\"#0d0887\"],[0.1111111111111111,\"#46039f\"],[0.2222222222222222,\"#7201a8\"],[0.3333333333333333,\"#9c179e\"],[0.4444444444444444,\"#bd3786\"],[0.5555555555555556,\"#d8576b\"],[0.6666666666666666,\"#ed7953\"],[0.7777777777777778,\"#fb9f3a\"],[0.8888888888888888,\"#fdca26\"],[1.0,\"#f0f921\"]]}],\"contourcarpet\":[{\"type\":\"contourcarpet\",\"colorbar\":{\"outlinewidth\":0,\"ticks\":\"\"}}],\"contour\":[{\"type\":\"contour\",\"colorbar\":{\"outlinewidth\":0,\"ticks\":\"\"},\"colorscale\":[[0.0,\"#0d0887\"],[0.1111111111111111,\"#46039f\"],[0.2222222222222222,\"#7201a8\"],[0.3333333333333333,\"#9c179e\"],[0.4444444444444444,\"#bd3786\"],[0.5555555555555556,\"#d8576b\"],[0.6666666666666666,\"#ed7953\"],[0.7777777777777778,\"#fb9f3a\"],[0.8888888888888888,\"#fdca26\"],[1.0,\"#f0f921\"]]}],\"surface\":[{\"type\":\"surface\",\"colorbar\":{\"outlinewidth\":0,\"ticks\":\"\"},\"colorscale\":[[0.0,\"#0d0887\"],[0.1111111111111111,\"#46039f\"],[0.2222222222222222,\"#7201a8\"],[0.3333333333333333,\"#9c179e\"],[0.4444444444444444,\"#bd3786\"],[0.5555555555555556,\"#d8576b\"],[0.6666666666666666,\"#ed7953\"],[0.7777777777777778,\"#fb9f3a\"],[0.8888888888888888,\"#fdca26\"],[1.0,\"#f0f921\"]]}],\"mesh3d\":[{\"type\":\"mesh3d\",\"colorbar\":{\"outlinewidth\":0,\"ticks\":\"\"}}],\"scatter\":[{\"fillpattern\":{\"fillmode\":\"overlay\",\"size\":10,\"solidity\":0.2},\"type\":\"scatter\"}],\"parcoords\":[{\"type\":\"parcoords\",\"line\":{\"colorbar\":{\"outlinewidth\":0,\"ticks\":\"\"}}}],\"scatterpolargl\":[{\"type\":\"scatterpolargl\",\"marker\":{\"colorbar\":{\"outlinewidth\":0,\"ticks\":\"\"}}}],\"bar\":[{\"error_x\":{\"color\":\"#2a3f5f\"},\"error_y\":{\"color\":\"#2a3f5f\"},\"marker\":{\"line\":{\"color\":\"#E5ECF6\",\"width\":0.5},\"pattern\":{\"fillmode\":\"overlay\",\"size\":10,\"solidity\":0.2}},\"type\":\"bar\"}],\"scattergeo\":[{\"type\":\"scattergeo\",\"marker\":{\"colorbar\":{\"outlinewidth\":0,\"ticks\":\"\"}}}],\"scatterpolar\":[{\"type\":\"scatterpolar\",\"marker\":{\"colorbar\":{\"outlinewidth\":0,\"ticks\":\"\"}}}],\"histogram\":[{\"marker\":{\"pattern\":{\"fillmode\":\"overlay\",\"size\":10,\"solidity\":0.2}},\"type\":\"histogram\"}],\"scattergl\":[{\"type\":\"scattergl\",\"marker\":{\"colorbar\":{\"outlinewidth\":0,\"ticks\":\"\"}}}],\"scatter3d\":[{\"type\":\"scatter3d\",\"line\":{\"colorbar\":{\"outlinewidth\":0,\"ticks\":\"\"}},\"marker\":{\"colorbar\":{\"outlinewidth\":0,\"ticks\":\"\"}}}],\"scattermapbox\":[{\"type\":\"scattermapbox\",\"marker\":{\"colorbar\":{\"outlinewidth\":0,\"ticks\":\"\"}}}],\"scatterternary\":[{\"type\":\"scatterternary\",\"marker\":{\"colorbar\":{\"outlinewidth\":0,\"ticks\":\"\"}}}],\"scattercarpet\":[{\"type\":\"scattercarpet\",\"marker\":{\"colorbar\":{\"outlinewidth\":0,\"ticks\":\"\"}}}],\"carpet\":[{\"aaxis\":{\"endlinecolor\":\"#2a3f5f\",\"gridcolor\":\"white\",\"linecolor\":\"white\",\"minorgridcolor\":\"white\",\"startlinecolor\":\"#2a3f5f\"},\"baxis\":{\"endlinecolor\":\"#2a3f5f\",\"gridcolor\":\"white\",\"linecolor\":\"white\",\"minorgridcolor\":\"white\",\"startlinecolor\":\"#2a3f5f\"},\"type\":\"carpet\"}],\"table\":[{\"cells\":{\"fill\":{\"color\":\"#EBF0F8\"},\"line\":{\"color\":\"white\"}},\"header\":{\"fill\":{\"color\":\"#C8D4E3\"},\"line\":{\"color\":\"white\"}},\"type\":\"table\"}],\"barpolar\":[{\"marker\":{\"line\":{\"color\":\"#E5ECF6\",\"width\":0.5},\"pattern\":{\"fillmode\":\"overlay\",\"size\":10,\"solidity\":0.2}},\"type\":\"barpolar\"}],\"pie\":[{\"automargin\":true,\"type\":\"pie\"}]},\"layout\":{\"autotypenumbers\":\"strict\",\"colorway\":[\"#636efa\",\"#EF553B\",\"#00cc96\",\"#ab63fa\",\"#FFA15A\",\"#19d3f3\",\"#FF6692\",\"#B6E880\",\"#FF97FF\",\"#FECB52\"],\"font\":{\"color\":\"#2a3f5f\"},\"hovermode\":\"closest\",\"hoverlabel\":{\"align\":\"left\"},\"paper_bgcolor\":\"white\",\"plot_bgcolor\":\"#E5ECF6\",\"polar\":{\"bgcolor\":\"#E5ECF6\",\"angularaxis\":{\"gridcolor\":\"white\",\"linecolor\":\"white\",\"ticks\":\"\"},\"radialaxis\":{\"gridcolor\":\"white\",\"linecolor\":\"white\",\"ticks\":\"\"}},\"ternary\":{\"bgcolor\":\"#E5ECF6\",\"aaxis\":{\"gridcolor\":\"white\",\"linecolor\":\"white\",\"ticks\":\"\"},\"baxis\":{\"gridcolor\":\"white\",\"linecolor\":\"white\",\"ticks\":\"\"},\"caxis\":{\"gridcolor\":\"white\",\"linecolor\":\"white\",\"ticks\":\"\"}},\"coloraxis\":{\"colorbar\":{\"outlinewidth\":0,\"ticks\":\"\"}},\"colorscale\":{\"sequential\":[[0.0,\"#0d0887\"],[0.1111111111111111,\"#46039f\"],[0.2222222222222222,\"#7201a8\"],[0.3333333333333333,\"#9c179e\"],[0.4444444444444444,\"#bd3786\"],[0.5555555555555556,\"#d8576b\"],[0.6666666666666666,\"#ed7953\"],[0.7777777777777778,\"#fb9f3a\"],[0.8888888888888888,\"#fdca26\"],[1.0,\"#f0f921\"]],\"sequentialminus\":[[0.0,\"#0d0887\"],[0.1111111111111111,\"#46039f\"],[0.2222222222222222,\"#7201a8\"],[0.3333333333333333,\"#9c179e\"],[0.4444444444444444,\"#bd3786\"],[0.5555555555555556,\"#d8576b\"],[0.6666666666666666,\"#ed7953\"],[0.7777777777777778,\"#fb9f3a\"],[0.8888888888888888,\"#fdca26\"],[1.0,\"#f0f921\"]],\"diverging\":[[0,\"#8e0152\"],[0.1,\"#c51b7d\"],[0.2,\"#de77ae\"],[0.3,\"#f1b6da\"],[0.4,\"#fde0ef\"],[0.5,\"#f7f7f7\"],[0.6,\"#e6f5d0\"],[0.7,\"#b8e186\"],[0.8,\"#7fbc41\"],[0.9,\"#4d9221\"],[1,\"#276419\"]]},\"xaxis\":{\"gridcolor\":\"white\",\"linecolor\":\"white\",\"ticks\":\"\",\"title\":{\"standoff\":15},\"zerolinecolor\":\"white\",\"automargin\":true,\"zerolinewidth\":2},\"yaxis\":{\"gridcolor\":\"white\",\"linecolor\":\"white\",\"ticks\":\"\",\"title\":{\"standoff\":15},\"zerolinecolor\":\"white\",\"automargin\":true,\"zerolinewidth\":2},\"scene\":{\"xaxis\":{\"backgroundcolor\":\"#E5ECF6\",\"gridcolor\":\"white\",\"linecolor\":\"white\",\"showbackground\":true,\"ticks\":\"\",\"zerolinecolor\":\"white\",\"gridwidth\":2},\"yaxis\":{\"backgroundcolor\":\"#E5ECF6\",\"gridcolor\":\"white\",\"linecolor\":\"white\",\"showbackground\":true,\"ticks\":\"\",\"zerolinecolor\":\"white\",\"gridwidth\":2},\"zaxis\":{\"backgroundcolor\":\"#E5ECF6\",\"gridcolor\":\"white\",\"linecolor\":\"white\",\"showbackground\":true,\"ticks\":\"\",\"zerolinecolor\":\"white\",\"gridwidth\":2}},\"shapedefaults\":{\"line\":{\"color\":\"#2a3f5f\"}},\"annotationdefaults\":{\"arrowcolor\":\"#2a3f5f\",\"arrowhead\":0,\"arrowwidth\":1},\"geo\":{\"bgcolor\":\"white\",\"landcolor\":\"#E5ECF6\",\"subunitcolor\":\"white\",\"showland\":true,\"showlakes\":true,\"lakecolor\":\"white\"},\"title\":{\"x\":0.05},\"mapbox\":{\"style\":\"light\"}}},\"title\":{\"text\":\"Distribution of articles category-wise\",\"y\":0.9,\"x\":0.5,\"xanchor\":\"center\",\"yanchor\":\"top\"},\"xaxis\":{\"title\":{\"text\":\"Category name\"}},\"yaxis\":{\"title\":{\"text\":\"Number of articles\"}},\"width\":800,\"height\":700},                        {\"responsive\": true}                    ).then(function(){\n",
              "                            \n",
              "var gd = document.getElementById('ead18d35-054d-4784-b4ce-f2f8b1c1b33b');\n",
              "var x = new MutationObserver(function (mutations, observer) {{\n",
              "        var display = window.getComputedStyle(gd).display;\n",
              "        if (!display || display === 'none') {{\n",
              "            console.log([gd, 'removed!']);\n",
              "            Plotly.purge(gd);\n",
              "            observer.disconnect();\n",
              "        }}\n",
              "}});\n",
              "\n",
              "// Listen for the removal of the full notebook cells\n",
              "var notebookContainer = gd.closest('#notebook-container');\n",
              "if (notebookContainer) {{\n",
              "    x.observe(notebookContainer, {childList: true});\n",
              "}}\n",
              "\n",
              "// Listen for the clearing of the current output cell\n",
              "var outputEl = gd.closest('.output');\n",
              "if (outputEl) {{\n",
              "    x.observe(outputEl, {childList: true});\n",
              "}}\n",
              "\n",
              "                        })                };                            </script>        </div>\n",
              "</body>\n",
              "</html>"
            ]
          },
          "metadata": {}
        }
      ]
    },
    {
      "cell_type": "markdown",
      "source": [
        "From the bar chart, we can observe that **politics** category has **highest** number of articles then **entertainment** and so on.  "
      ],
      "metadata": {
        "id": "ul-Ln-3K3yTz"
      }
    },
    {
      "cell_type": "markdown",
      "source": [
        "### 4.c Number of articles per month"
      ],
      "metadata": {
        "id": "zUs8r3X83yTz"
      }
    },
    {
      "cell_type": "markdown",
      "source": [
        "Let's first group the data on monthly basis using **resample()** function. "
      ],
      "metadata": {
        "id": "6_WkboYv3yTz"
      }
    },
    {
      "cell_type": "code",
      "source": [
        "news_articles_per_month = news_articles.resample('m',on = 'date')['headline'].count()\n",
        "news_articles_per_month"
      ],
      "metadata": {
        "execution": {
          "iopub.status.busy": "2022-10-11T11:04:11.973807Z",
          "iopub.execute_input": "2022-10-11T11:04:11.974377Z",
          "iopub.status.idle": "2022-10-11T11:04:12.005369Z",
          "shell.execute_reply.started": "2022-10-11T11:04:11.974322Z",
          "shell.execute_reply": "2022-10-11T11:04:12.003578Z"
        },
        "trusted": true,
        "colab": {
          "base_uri": "https://localhost:8080/"
        },
        "id": "TiNKPHWQ3yTz",
        "outputId": "74c9a8bd-96ce-43a9-96ba-7e09bc37324c"
      },
      "execution_count": 14,
      "outputs": [
        {
          "output_type": "execute_result",
          "data": {
            "text/plain": [
              "date\n",
              "2018-01-31    2065\n",
              "2018-02-28    1694\n",
              "2018-03-31    1778\n",
              "2018-04-30    1580\n",
              "2018-05-31    1368\n",
              "Freq: M, Name: headline, dtype: int64"
            ]
          },
          "metadata": {},
          "execution_count": 14
        }
      ]
    },
    {
      "cell_type": "code",
      "source": [
        "fig = go.Figure([go.Bar(x=news_articles_per_month.index.strftime(\"%b\"), y=news_articles_per_month)])\n",
        "fig['layout'].update(title={\"text\" : 'Distribution of articles month-wise','y':0.9,'x':0.5,'xanchor': 'center','yanchor': 'top'}, xaxis_title=\"Month\",yaxis_title=\"Number of articles\")\n",
        "fig.update_layout(width=500,height=500)\n",
        "fig"
      ],
      "metadata": {
        "execution": {
          "iopub.status.busy": "2022-10-11T11:04:12.008042Z",
          "iopub.execute_input": "2022-10-11T11:04:12.008674Z",
          "iopub.status.idle": "2022-10-11T11:04:12.204886Z",
          "shell.execute_reply.started": "2022-10-11T11:04:12.008534Z",
          "shell.execute_reply": "2022-10-11T11:04:12.203611Z"
        },
        "trusted": true,
        "colab": {
          "base_uri": "https://localhost:8080/",
          "height": 517
        },
        "id": "eTwBFtAu3yTz",
        "outputId": "04ef030b-ca2c-4338-e3c0-5a8adf4bef43"
      },
      "execution_count": 15,
      "outputs": [
        {
          "output_type": "display_data",
          "data": {
            "text/html": [
              "<html>\n",
              "<head><meta charset=\"utf-8\" /></head>\n",
              "<body>\n",
              "    <div>            <script src=\"https://cdnjs.cloudflare.com/ajax/libs/mathjax/2.7.5/MathJax.js?config=TeX-AMS-MML_SVG\"></script><script type=\"text/javascript\">if (window.MathJax && window.MathJax.Hub && window.MathJax.Hub.Config) {window.MathJax.Hub.Config({SVG: {font: \"STIX-Web\"}});}</script>                <script type=\"text/javascript\">window.PlotlyConfig = {MathJaxConfig: 'local'};</script>\n",
              "        <script src=\"https://cdn.plot.ly/plotly-2.18.2.min.js\"></script>                <div id=\"705e1beb-cf26-484c-80ca-ccdd40df4a94\" class=\"plotly-graph-div\" style=\"height:500px; width:500px;\"></div>            <script type=\"text/javascript\">                                    window.PLOTLYENV=window.PLOTLYENV || {};                                    if (document.getElementById(\"705e1beb-cf26-484c-80ca-ccdd40df4a94\")) {                    Plotly.newPlot(                        \"705e1beb-cf26-484c-80ca-ccdd40df4a94\",                        [{\"x\":[\"Jan\",\"Feb\",\"Mar\",\"Apr\",\"May\"],\"y\":[2065,1694,1778,1580,1368],\"type\":\"bar\"}],                        {\"template\":{\"data\":{\"histogram2dcontour\":[{\"type\":\"histogram2dcontour\",\"colorbar\":{\"outlinewidth\":0,\"ticks\":\"\"},\"colorscale\":[[0.0,\"#0d0887\"],[0.1111111111111111,\"#46039f\"],[0.2222222222222222,\"#7201a8\"],[0.3333333333333333,\"#9c179e\"],[0.4444444444444444,\"#bd3786\"],[0.5555555555555556,\"#d8576b\"],[0.6666666666666666,\"#ed7953\"],[0.7777777777777778,\"#fb9f3a\"],[0.8888888888888888,\"#fdca26\"],[1.0,\"#f0f921\"]]}],\"choropleth\":[{\"type\":\"choropleth\",\"colorbar\":{\"outlinewidth\":0,\"ticks\":\"\"}}],\"histogram2d\":[{\"type\":\"histogram2d\",\"colorbar\":{\"outlinewidth\":0,\"ticks\":\"\"},\"colorscale\":[[0.0,\"#0d0887\"],[0.1111111111111111,\"#46039f\"],[0.2222222222222222,\"#7201a8\"],[0.3333333333333333,\"#9c179e\"],[0.4444444444444444,\"#bd3786\"],[0.5555555555555556,\"#d8576b\"],[0.6666666666666666,\"#ed7953\"],[0.7777777777777778,\"#fb9f3a\"],[0.8888888888888888,\"#fdca26\"],[1.0,\"#f0f921\"]]}],\"heatmap\":[{\"type\":\"heatmap\",\"colorbar\":{\"outlinewidth\":0,\"ticks\":\"\"},\"colorscale\":[[0.0,\"#0d0887\"],[0.1111111111111111,\"#46039f\"],[0.2222222222222222,\"#7201a8\"],[0.3333333333333333,\"#9c179e\"],[0.4444444444444444,\"#bd3786\"],[0.5555555555555556,\"#d8576b\"],[0.6666666666666666,\"#ed7953\"],[0.7777777777777778,\"#fb9f3a\"],[0.8888888888888888,\"#fdca26\"],[1.0,\"#f0f921\"]]}],\"heatmapgl\":[{\"type\":\"heatmapgl\",\"colorbar\":{\"outlinewidth\":0,\"ticks\":\"\"},\"colorscale\":[[0.0,\"#0d0887\"],[0.1111111111111111,\"#46039f\"],[0.2222222222222222,\"#7201a8\"],[0.3333333333333333,\"#9c179e\"],[0.4444444444444444,\"#bd3786\"],[0.5555555555555556,\"#d8576b\"],[0.6666666666666666,\"#ed7953\"],[0.7777777777777778,\"#fb9f3a\"],[0.8888888888888888,\"#fdca26\"],[1.0,\"#f0f921\"]]}],\"contourcarpet\":[{\"type\":\"contourcarpet\",\"colorbar\":{\"outlinewidth\":0,\"ticks\":\"\"}}],\"contour\":[{\"type\":\"contour\",\"colorbar\":{\"outlinewidth\":0,\"ticks\":\"\"},\"colorscale\":[[0.0,\"#0d0887\"],[0.1111111111111111,\"#46039f\"],[0.2222222222222222,\"#7201a8\"],[0.3333333333333333,\"#9c179e\"],[0.4444444444444444,\"#bd3786\"],[0.5555555555555556,\"#d8576b\"],[0.6666666666666666,\"#ed7953\"],[0.7777777777777778,\"#fb9f3a\"],[0.8888888888888888,\"#fdca26\"],[1.0,\"#f0f921\"]]}],\"surface\":[{\"type\":\"surface\",\"colorbar\":{\"outlinewidth\":0,\"ticks\":\"\"},\"colorscale\":[[0.0,\"#0d0887\"],[0.1111111111111111,\"#46039f\"],[0.2222222222222222,\"#7201a8\"],[0.3333333333333333,\"#9c179e\"],[0.4444444444444444,\"#bd3786\"],[0.5555555555555556,\"#d8576b\"],[0.6666666666666666,\"#ed7953\"],[0.7777777777777778,\"#fb9f3a\"],[0.8888888888888888,\"#fdca26\"],[1.0,\"#f0f921\"]]}],\"mesh3d\":[{\"type\":\"mesh3d\",\"colorbar\":{\"outlinewidth\":0,\"ticks\":\"\"}}],\"scatter\":[{\"fillpattern\":{\"fillmode\":\"overlay\",\"size\":10,\"solidity\":0.2},\"type\":\"scatter\"}],\"parcoords\":[{\"type\":\"parcoords\",\"line\":{\"colorbar\":{\"outlinewidth\":0,\"ticks\":\"\"}}}],\"scatterpolargl\":[{\"type\":\"scatterpolargl\",\"marker\":{\"colorbar\":{\"outlinewidth\":0,\"ticks\":\"\"}}}],\"bar\":[{\"error_x\":{\"color\":\"#2a3f5f\"},\"error_y\":{\"color\":\"#2a3f5f\"},\"marker\":{\"line\":{\"color\":\"#E5ECF6\",\"width\":0.5},\"pattern\":{\"fillmode\":\"overlay\",\"size\":10,\"solidity\":0.2}},\"type\":\"bar\"}],\"scattergeo\":[{\"type\":\"scattergeo\",\"marker\":{\"colorbar\":{\"outlinewidth\":0,\"ticks\":\"\"}}}],\"scatterpolar\":[{\"type\":\"scatterpolar\",\"marker\":{\"colorbar\":{\"outlinewidth\":0,\"ticks\":\"\"}}}],\"histogram\":[{\"marker\":{\"pattern\":{\"fillmode\":\"overlay\",\"size\":10,\"solidity\":0.2}},\"type\":\"histogram\"}],\"scattergl\":[{\"type\":\"scattergl\",\"marker\":{\"colorbar\":{\"outlinewidth\":0,\"ticks\":\"\"}}}],\"scatter3d\":[{\"type\":\"scatter3d\",\"line\":{\"colorbar\":{\"outlinewidth\":0,\"ticks\":\"\"}},\"marker\":{\"colorbar\":{\"outlinewidth\":0,\"ticks\":\"\"}}}],\"scattermapbox\":[{\"type\":\"scattermapbox\",\"marker\":{\"colorbar\":{\"outlinewidth\":0,\"ticks\":\"\"}}}],\"scatterternary\":[{\"type\":\"scatterternary\",\"marker\":{\"colorbar\":{\"outlinewidth\":0,\"ticks\":\"\"}}}],\"scattercarpet\":[{\"type\":\"scattercarpet\",\"marker\":{\"colorbar\":{\"outlinewidth\":0,\"ticks\":\"\"}}}],\"carpet\":[{\"aaxis\":{\"endlinecolor\":\"#2a3f5f\",\"gridcolor\":\"white\",\"linecolor\":\"white\",\"minorgridcolor\":\"white\",\"startlinecolor\":\"#2a3f5f\"},\"baxis\":{\"endlinecolor\":\"#2a3f5f\",\"gridcolor\":\"white\",\"linecolor\":\"white\",\"minorgridcolor\":\"white\",\"startlinecolor\":\"#2a3f5f\"},\"type\":\"carpet\"}],\"table\":[{\"cells\":{\"fill\":{\"color\":\"#EBF0F8\"},\"line\":{\"color\":\"white\"}},\"header\":{\"fill\":{\"color\":\"#C8D4E3\"},\"line\":{\"color\":\"white\"}},\"type\":\"table\"}],\"barpolar\":[{\"marker\":{\"line\":{\"color\":\"#E5ECF6\",\"width\":0.5},\"pattern\":{\"fillmode\":\"overlay\",\"size\":10,\"solidity\":0.2}},\"type\":\"barpolar\"}],\"pie\":[{\"automargin\":true,\"type\":\"pie\"}]},\"layout\":{\"autotypenumbers\":\"strict\",\"colorway\":[\"#636efa\",\"#EF553B\",\"#00cc96\",\"#ab63fa\",\"#FFA15A\",\"#19d3f3\",\"#FF6692\",\"#B6E880\",\"#FF97FF\",\"#FECB52\"],\"font\":{\"color\":\"#2a3f5f\"},\"hovermode\":\"closest\",\"hoverlabel\":{\"align\":\"left\"},\"paper_bgcolor\":\"white\",\"plot_bgcolor\":\"#E5ECF6\",\"polar\":{\"bgcolor\":\"#E5ECF6\",\"angularaxis\":{\"gridcolor\":\"white\",\"linecolor\":\"white\",\"ticks\":\"\"},\"radialaxis\":{\"gridcolor\":\"white\",\"linecolor\":\"white\",\"ticks\":\"\"}},\"ternary\":{\"bgcolor\":\"#E5ECF6\",\"aaxis\":{\"gridcolor\":\"white\",\"linecolor\":\"white\",\"ticks\":\"\"},\"baxis\":{\"gridcolor\":\"white\",\"linecolor\":\"white\",\"ticks\":\"\"},\"caxis\":{\"gridcolor\":\"white\",\"linecolor\":\"white\",\"ticks\":\"\"}},\"coloraxis\":{\"colorbar\":{\"outlinewidth\":0,\"ticks\":\"\"}},\"colorscale\":{\"sequential\":[[0.0,\"#0d0887\"],[0.1111111111111111,\"#46039f\"],[0.2222222222222222,\"#7201a8\"],[0.3333333333333333,\"#9c179e\"],[0.4444444444444444,\"#bd3786\"],[0.5555555555555556,\"#d8576b\"],[0.6666666666666666,\"#ed7953\"],[0.7777777777777778,\"#fb9f3a\"],[0.8888888888888888,\"#fdca26\"],[1.0,\"#f0f921\"]],\"sequentialminus\":[[0.0,\"#0d0887\"],[0.1111111111111111,\"#46039f\"],[0.2222222222222222,\"#7201a8\"],[0.3333333333333333,\"#9c179e\"],[0.4444444444444444,\"#bd3786\"],[0.5555555555555556,\"#d8576b\"],[0.6666666666666666,\"#ed7953\"],[0.7777777777777778,\"#fb9f3a\"],[0.8888888888888888,\"#fdca26\"],[1.0,\"#f0f921\"]],\"diverging\":[[0,\"#8e0152\"],[0.1,\"#c51b7d\"],[0.2,\"#de77ae\"],[0.3,\"#f1b6da\"],[0.4,\"#fde0ef\"],[0.5,\"#f7f7f7\"],[0.6,\"#e6f5d0\"],[0.7,\"#b8e186\"],[0.8,\"#7fbc41\"],[0.9,\"#4d9221\"],[1,\"#276419\"]]},\"xaxis\":{\"gridcolor\":\"white\",\"linecolor\":\"white\",\"ticks\":\"\",\"title\":{\"standoff\":15},\"zerolinecolor\":\"white\",\"automargin\":true,\"zerolinewidth\":2},\"yaxis\":{\"gridcolor\":\"white\",\"linecolor\":\"white\",\"ticks\":\"\",\"title\":{\"standoff\":15},\"zerolinecolor\":\"white\",\"automargin\":true,\"zerolinewidth\":2},\"scene\":{\"xaxis\":{\"backgroundcolor\":\"#E5ECF6\",\"gridcolor\":\"white\",\"linecolor\":\"white\",\"showbackground\":true,\"ticks\":\"\",\"zerolinecolor\":\"white\",\"gridwidth\":2},\"yaxis\":{\"backgroundcolor\":\"#E5ECF6\",\"gridcolor\":\"white\",\"linecolor\":\"white\",\"showbackground\":true,\"ticks\":\"\",\"zerolinecolor\":\"white\",\"gridwidth\":2},\"zaxis\":{\"backgroundcolor\":\"#E5ECF6\",\"gridcolor\":\"white\",\"linecolor\":\"white\",\"showbackground\":true,\"ticks\":\"\",\"zerolinecolor\":\"white\",\"gridwidth\":2}},\"shapedefaults\":{\"line\":{\"color\":\"#2a3f5f\"}},\"annotationdefaults\":{\"arrowcolor\":\"#2a3f5f\",\"arrowhead\":0,\"arrowwidth\":1},\"geo\":{\"bgcolor\":\"white\",\"landcolor\":\"#E5ECF6\",\"subunitcolor\":\"white\",\"showland\":true,\"showlakes\":true,\"lakecolor\":\"white\"},\"title\":{\"x\":0.05},\"mapbox\":{\"style\":\"light\"}}},\"title\":{\"text\":\"Distribution of articles month-wise\",\"y\":0.9,\"x\":0.5,\"xanchor\":\"center\",\"yanchor\":\"top\"},\"xaxis\":{\"title\":{\"text\":\"Month\"}},\"yaxis\":{\"title\":{\"text\":\"Number of articles\"}},\"width\":500,\"height\":500},                        {\"responsive\": true}                    ).then(function(){\n",
              "                            \n",
              "var gd = document.getElementById('705e1beb-cf26-484c-80ca-ccdd40df4a94');\n",
              "var x = new MutationObserver(function (mutations, observer) {{\n",
              "        var display = window.getComputedStyle(gd).display;\n",
              "        if (!display || display === 'none') {{\n",
              "            console.log([gd, 'removed!']);\n",
              "            Plotly.purge(gd);\n",
              "            observer.disconnect();\n",
              "        }}\n",
              "}});\n",
              "\n",
              "// Listen for the removal of the full notebook cells\n",
              "var notebookContainer = gd.closest('#notebook-container');\n",
              "if (notebookContainer) {{\n",
              "    x.observe(notebookContainer, {childList: true});\n",
              "}}\n",
              "\n",
              "// Listen for the clearing of the current output cell\n",
              "var outputEl = gd.closest('.output');\n",
              "if (outputEl) {{\n",
              "    x.observe(outputEl, {childList: true});\n",
              "}}\n",
              "\n",
              "                        })                };                            </script>        </div>\n",
              "</body>\n",
              "</html>"
            ]
          },
          "metadata": {}
        }
      ]
    },
    {
      "cell_type": "markdown",
      "source": [
        "From the bar chart, we can observe that **January** month has **highest** number of articles then **March** and so on.  "
      ],
      "metadata": {
        "id": "r6ZRu6uU3yTz"
      }
    },
    {
      "cell_type": "markdown",
      "source": [
        "### 4.d PDF for the length of headlines "
      ],
      "metadata": {
        "id": "eL-BpFG63yT1"
      }
    },
    {
      "cell_type": "code",
      "source": [
        "fig = ff.create_distplot([news_articles['headline'].str.len()], [\"ht\"],show_hist=False,show_rug=False)\n",
        "fig['layout'].update(title={'text':'PDF','y':0.9,'x':0.5,'xanchor': 'center','yanchor': 'top'}, xaxis_title=\"Length of a headline\",yaxis_title=\"probability\")\n",
        "fig.update_layout(showlegend = False,width=500,height=500)\n",
        "fig"
      ],
      "metadata": {
        "execution": {
          "iopub.status.busy": "2022-10-11T11:04:12.206577Z",
          "iopub.execute_input": "2022-10-11T11:04:12.206958Z",
          "iopub.status.idle": "2022-10-11T11:04:12.539482Z",
          "shell.execute_reply.started": "2022-10-11T11:04:12.206901Z",
          "shell.execute_reply": "2022-10-11T11:04:12.537903Z"
        },
        "trusted": true,
        "colab": {
          "base_uri": "https://localhost:8080/",
          "height": 517
        },
        "id": "wn5OZFGR3yT1",
        "outputId": "5d2d26c8-fede-4264-d17b-b4240dfaad71"
      },
      "execution_count": 16,
      "outputs": [
        {
          "output_type": "display_data",
          "data": {
            "text/html": [
              "<html>\n",
              "<head><meta charset=\"utf-8\" /></head>\n",
              "<body>\n",
              "    <div>            <script src=\"https://cdnjs.cloudflare.com/ajax/libs/mathjax/2.7.5/MathJax.js?config=TeX-AMS-MML_SVG\"></script><script type=\"text/javascript\">if (window.MathJax && window.MathJax.Hub && window.MathJax.Hub.Config) {window.MathJax.Hub.Config({SVG: {font: \"STIX-Web\"}});}</script>                <script type=\"text/javascript\">window.PlotlyConfig = {MathJaxConfig: 'local'};</script>\n",
              "        <script src=\"https://cdn.plot.ly/plotly-2.18.2.min.js\"></script>                <div id=\"8c4e4a26-15d4-465d-b986-a9535563c0f8\" class=\"plotly-graph-div\" style=\"height:500px; width:500px;\"></div>            <script type=\"text/javascript\">                                    window.PLOTLYENV=window.PLOTLYENV || {};                                    if (document.getElementById(\"8c4e4a26-15d4-465d-b986-a9535563c0f8\")) {                    Plotly.newPlot(                        \"8c4e4a26-15d4-465d-b986-a9535563c0f8\",                        [{\"legendgroup\":\"ht\",\"marker\":{\"color\":\"rgb(31, 119, 180)\"},\"mode\":\"lines\",\"name\":\"ht\",\"showlegend\":true,\"x\":[25.0,25.21,25.42,25.63,25.84,26.05,26.26,26.47,26.68,26.89,27.1,27.31,27.52,27.73,27.94,28.15,28.36,28.57,28.78,28.990000000000002,29.2,29.41,29.62,29.83,30.04,30.25,30.46,30.67,30.88,31.09,31.3,31.509999999999998,31.72,31.93,32.14,32.35,32.56,32.769999999999996,32.980000000000004,33.19,33.4,33.61,33.82,34.03,34.24,34.45,34.66,34.87,35.08,35.29,35.5,35.71,35.92,36.13,36.34,36.55,36.76,36.97,37.18,37.39,37.6,37.81,38.019999999999996,38.230000000000004,38.44,38.65,38.86,39.07,39.28,39.49,39.7,39.91,40.12,40.33,40.54,40.75,40.96,41.17,41.379999999999995,41.59,41.8,42.010000000000005,42.22,42.43,42.64,42.85,43.06,43.269999999999996,43.480000000000004,43.69,43.9,44.11,44.32,44.53,44.739999999999995,44.95,45.16,45.370000000000005,45.58,45.79,46.0,46.21,46.42,46.629999999999995,46.84,47.05,47.260000000000005,47.47,47.68,47.89,48.1,48.31,48.519999999999996,48.730000000000004,48.94,49.15,49.36,49.57,49.78,49.989999999999995,50.2,50.41,50.620000000000005,50.83,51.04,51.25,51.46,51.67,51.879999999999995,52.09,52.3,52.510000000000005,52.72,52.93,53.14,53.35,53.56,53.769999999999996,53.980000000000004,54.19,54.4,54.61,54.82,55.03,55.239999999999995,55.45,55.66,55.870000000000005,56.08,56.29,56.5,56.71,56.92,57.13,57.34,57.55,57.76,57.97,58.18,58.39,58.6,58.81,59.02,59.23,59.44,59.65,59.86,60.07,60.28,60.49,60.7,60.91,61.12,61.33,61.54,61.75,61.96,62.17,62.38,62.59,62.8,63.01,63.22,63.43,63.64,63.85,64.06,64.27000000000001,64.47999999999999,64.69,64.9,65.11,65.32,65.53,65.74000000000001,65.95,66.16,66.37,66.58,66.78999999999999,67.0,67.21000000000001,67.42,67.63,67.84,68.05,68.25999999999999,68.47,68.68,68.89,69.1,69.31,69.52000000000001,69.72999999999999,69.94,70.15,70.36,70.57,70.78,70.99000000000001,71.2,71.41,71.62,71.83,72.03999999999999,72.25,72.46000000000001,72.67,72.88,73.09,73.3,73.50999999999999,73.72,73.93,74.14,74.35,74.56,74.77000000000001,74.97999999999999,75.19,75.4,75.61,75.82,76.03,76.24000000000001,76.45,76.66,76.87,77.08,77.28999999999999,77.5,77.71000000000001,77.92,78.13,78.34,78.55,78.75999999999999,78.97,79.18,79.39,79.6,79.81,80.02000000000001,80.22999999999999,80.44,80.65,80.86,81.07,81.28,81.49000000000001,81.7,81.91,82.12,82.33,82.53999999999999,82.75,82.96000000000001,83.17,83.38,83.59,83.8,84.00999999999999,84.22,84.43,84.64,84.85,85.06,85.27000000000001,85.47999999999999,85.69,85.9,86.11,86.32,86.53,86.74000000000001,86.95,87.16,87.37,87.58,87.78999999999999,88.0,88.21000000000001,88.42,88.63,88.84,89.05,89.26,89.47,89.68,89.89,90.1,90.31,90.52,90.73,90.94,91.15,91.36,91.57,91.78,91.99,92.2,92.41,92.62,92.83,93.04,93.25,93.46,93.67,93.88,94.09,94.3,94.51,94.72,94.93,95.14,95.35,95.56,95.77,95.98,96.19,96.4,96.61,96.82,97.03,97.24,97.45,97.66,97.87,98.08,98.29,98.5,98.71,98.92,99.13,99.34,99.55,99.76,99.97,100.18,100.39,100.6,100.81,101.02,101.23,101.44,101.65,101.86,102.07,102.28,102.49,102.7,102.91,103.12,103.33,103.54,103.75,103.96,104.17,104.38,104.59,104.8,105.01,105.22,105.43,105.64,105.85,106.06,106.27,106.48,106.69,106.9,107.11,107.32,107.53,107.74,107.95,108.16,108.37,108.58,108.79,109.0,109.21,109.42,109.63,109.84,110.05,110.26,110.47,110.68,110.89,111.1,111.31,111.52,111.73,111.94,112.15,112.36,112.57,112.78,112.99,113.2,113.41,113.62,113.83,114.04,114.25,114.46,114.67,114.88,115.09,115.3,115.51,115.72,115.93,116.14,116.35,116.56,116.77,116.98,117.19,117.4,117.61,117.82,118.03,118.24,118.45,118.66,118.87,119.08,119.29,119.5,119.71,119.92,120.13,120.34,120.55,120.76,120.97,121.18,121.39,121.6,121.81,122.02,122.23,122.44,122.65,122.86,123.07,123.28,123.49,123.7,123.91,124.12,124.33,124.54,124.75,124.96,125.17,125.38,125.59,125.8,126.01,126.22,126.43,126.64,126.85,127.06,127.27,127.48,127.69,127.9,128.11,128.32,128.53,128.74,128.95,129.16,129.37,129.57999999999998,129.79000000000002],\"xaxis\":\"x\",\"y\":[9.761758669784216e-05,0.000103258311649211,0.00010843298459129334,0.00011313553202672725,0.0001173955470529459,0.0001212781925078284,0.00012488160912757542,0.00012833195525104211,0.000131776431890148,0.000135374848979986,0.00013929044182645794,0.00014368073236925094,0.00014868923626863324,0.00015443874126447917,0.0001610267314029251,0.00016852332096544401,0.0001769718135866437,0.00018639174269529765,0.00019678400672695851,0.00020813751202780864,0.00022043659839849906,0.0002336684599219526,0.0002478297916632701,0.00026293198692463175,0.0002790043680859116,0.0002960951387077446,0.000314269973828491,0.0003336083963901051,0.00035419829891592864,0.0003761291427337991,0.0003994844888055328,0.0004243345767575596,0.00045072966975756774,0.0004786948252114163,0.0005082266416629172,0.0005392923804376618,0.0005718316778924333,0.00060576086283062,0.0006409796861002964,0.0006773800678026505,0.0007148562837941953,0.000753315858812326,0.0007926903196818826,0.0008329448989887288,0.0008740862762707708,0.0009161675068253704,0.0009592894209217591,0.0010035979772622108,0.0010492773171879226,0.0010965385775688302,0.001145604861744899,0.0011966931152622192,0.0012499939786775156,0.0013056509639736585,0.001363740495669,0.0014242544477831745,0.0014870867751478564,0.0015520256726165276,0.0016187523995630324,0.0016868474921832859,0.0017558045765632023,0.0018250514258213702,0.0018939773179972453,0.001961965196437053,0.0020284266617053392,0.002092837481302813,0.0021547711309929524,0.0022139279074071963,0.002270157387533107,0.002323472449087527,0.002374053678455384,0.002422243731984752,0.002468532017805123,0.0025135308541624217,0.0025579449587033796,0.002602536659068421,0.0026480895309619517,0.002695373230119136,0.0027451120812464953,0.0027979595414514453,0.002854480016790907,0.002915138749240911,0.0029802996917890805,0.003050230538427784,0.0031251134523838445,0.003205059600984125,0.003290125395406738,0.0033803283564296242,0.00347566076405221,0.0035760996575329882,0.0036816122753240673,0.003792156597115529,0.0039076772101853405,0.004028097216372338,0.004153307285671965,0.004283153225892794,0.0044174235694275695,0.0045558386856864525,0.0046980428278152585,0.004843600335852874,0.0049919969663395885,0.005142647018395629,0.0052949065919709205,0.005448092954861867,0.005601509618588826,0.005754476337090156,0.0059063628573417055,0.006056624883658043,0.006204840390061589,0.006350744155946917,0.0064942582410449584,0.0066355160879538804,0.006774878070925842,0.006912936614930873,0.007050509491609031,0.007188620543307836,0.0073284678589321415,0.0074713802742676005,0.007618763929571067,0.007772041415647759,0.007932586703422607,0.00810165951621972,0.00828034301926153,0.008469488639556811,0.008669671488645926,0.008881159263509379,0.009103896693224572,0.009337506644419978,0.009581307971816765,0.009834349178494831,0.010095456006559382,0.010363290273910168,0.01063641665249746,0.010913373675907537,0.01119274508037856,0.011473227619748587,0.011753691736740013,0.012033231898754593,0.012311203990691348,0.012587247873389468,0.012861294036194047,0.013133554165455199,0.013404496382548866,0.013674806832988098,0.013945340181458873,0.01421706232659707,0.014490989229298427,0.014768126084912524,0.015049411107787541,0.015335667900042557,0.01562756973753831,0.015925618152835837,0.01623013699422782,0.01654128179439619,0.01685906292196714,0.017183379756984172,0.01751406216476918,0.0178509149549054,0.018193760874127433,0.018542478010862902,0.018897028242756044,0.019257474439761897,0.019623985404988987,0.01999682883107281,0.020376353710116736,0.020762964522700014,0.021157090052918177,0.02155914979521067,0.021969520658673723,0.02238850611339661,0.022816309178479464,0.023253009859075136,0.023698546932378096,0.024152703467160325,0.024615095204686153,0.025085160947010226,0.025562154360057203,0.02604513703087116,0.026532973123543475,0.027024326452205292,0.027517661139171583,0.028011247185319846,0.028503172217299567,0.02899136039936768,0.029473599046850825,0.029947572917581912,0.030410905560710123,0.030861206540216166,0.03129612287941678,0.03171339272826942,0.03211089905005894,0.03248672105222605,0.032839181129577705,0.033166885226411064,0.0334687547411667,0.03374404838727117,0.03399237279135962,0.0342136810662473,0.034408259150692976,0.0345767003614133,0.03471986933513384,0.03483885730674177,0.03493493140502936,0.0350094812630072,0.03506396663960564,0.03509986984600635,0.03511865649855077,0.035121747456738336,0.0351105037738001,0.03508622516799566,0.03505016104215005,0.035003531601868074,0.034947555330075576,0.034883478141827504,0.034812599111199764,0.034736287820742,0.034655989151915145,0.03457321265351127,0.03448950536042658,0.03440640889251258,0.03432540360930416,0.034247844289144506,0.034174893021948566,0.03410745558923771,0.03404612746690087,0.033991154731796064,0.03394241368298548,0.03389941108406673,0.03386130483422575,0.03382694284662253,0.03379491620530142,0.03376362149019944,0.033731326632325136,0.033696234822440385,0.03365654178638818,0.033610483012862104,0.033556369069903454,0.03349260874166534,0.03341772113261218,0.03333033894003965,0.03322920567349602,0.03311316966962136,0.03298117736471207,0.032832267567159415,0.032665567586964185,0.032480291215573893,0.03227573787612262,0.03205129190723125,0.03180642096274917,0.03154067289115729,0.031253671116212974,0.030945109334100846,0.030614747099713027,0.030262408423060872,0.02988798569191835,0.029491450989890432,0.029072876172375896,0.028632461957088302,0.028170574912188967,0.02768778976924836,0.02718493316267185,0.026663123911577397,0.02612380448881407,0.025568758478218864,0.02500010963834793,0.024420299614258196,0.02383204323049362,0.023238262453393624,0.022642002282646515,0.022046333764415,0.021454250778175542,0.02086856805749316,0.02029182795875857,0.019726222779095852,0.01917353802408051,0.01863512009661785,0.01811186963905922,0.01760425946131931,0.01711237387838606,0.016635964581261767,0.01617451704070555,0.015727320985906283,0.015293538723397265,0.014872265901823105,0.014462580657378767,0.01406357871899215,0.013674393814412268,0.013294204402022267,0.012922229184205224,0.012557714902304043,0.012199920487473351,0.01184810171905024,0.011501500149802694,0.011159339269713029,0.010820829806407611,0.01048518483123797,0.010151644091769387,0.00981950585187486,0.009488163597470248,0.00915714433784644,0.008826144944319936,0.008495063029400122,0.00816401925793787,0.007833368646307605,0.007503699275446272,0.007175817834576051,0.006850722436117798,0.0065295641127637175,0.0062135992484505026,0.0059041358437984985,0.00560247692953823,0.005309864594709144,0.005027427987457297,0.004756138292900911,0.004496773131135146,0.004249892100583123,0.004015824379964525,0.003794668464052731,0.003586303311658662,0.003390409490132139,0.003206498358536446,0.0030339469748069787,0.0028720362550547747,0.002719989950545623,0.0025770122165797325,0.002442321889809447,0.0023151820195234383,0.0021949236640659243,0.0020809634189888565,0.001972814550606319,0.0018700919417583251,0.0017725113046804719,0.001679883281690652,0.0015921031519891935,0.0015091369132185237,0.0014310045323554657,0.001357761181606243,0.0012894773035462567,0.0012262183884862584,0.0011680253887523056,0.0011148967240168176,0.0010667728292998195,0.0010235241431301408,0.0009849433127080169,0.0009507421994354601,0.0009205540065175164,0.0008939405364246976,0.0008704042453884991,0.00084940442649988,0.000830376555756288,0.0008127536067379002,0.0007959880022272292,0.0007795728373271605,0.0007630610790948518,0.0007460816118815329,0.0007283512360024451,0.0007096820149666256,0.0006899836763023683,0.000669261077688124,0.0006476070326815693,0.0006251910337996196,0.0006022446062442183,0.0005790441698250854,0.0005558923801139221,0.0005330989651360311,0.0005109620739265169,0.0004897511103212768,0.0004696919406688827,0.0004509552384143407,0.00043364856286476697,0.0004178125668635544,0.0004034214946307102,0.00039038787667853095,0.0003785710676039565,0.0003677890222683074,0.0003578324859798897,0.0003484806043063454,0.0003395168551154127,0.0003307441816369016,0.0003219982663137073,0.00031315802865765986,0.00030415264586637804,0.00029496466495826997,0.0002856290765215269,0.00027622852670533126,0.0002668851294829004,0.0002577495818025017,0.0002489884613882925,0.0002407706887933598,0.00023325415753354197,0.0002265734818276416,0.0002208296901033351,0.00021608251820252598,0.00021234574611184927,0.0002095857938333595,0.00020772356259108325,0.0002066392917341682,0.00020618001147839013,0.00020616901614971904,0.00020641666830967283,0.00020673177525479147,0.0002069327582488495,0.00020685786220387122,0.00020637372845135488,0.00020538177285252932,0.00020382197047437556,0.00020167383821166236,0.00019895461673475327,0.00019571486866377404,0.00019203191425218246,0.00018800170132821054,0.0001837298355934203,0.00017932256599836435,0.00017487851780949778,0.00017048188952760806,0.0001661976829356388,0.00016206933002503699,0.000158118835347016,0.000154349291945613,0.00015074938091707597,0.00014729925612926812,0.00014397707060405846,0.00014076533689631472,0.00013765633901229304,0.00013465592632291455,0.00013178520860665822,0.0001290799148395765,0.00012658744905577637,0.0001243619436129862,0.00012245784298956755,0.00012092272337107176,0.00011979014557421564,0.00011907334162947703,0.00011876044947758088,0.00011881184688309105,0.00011915991472134363,0.0001197113073035333,0.00012035155230739864,0.00012095157346921191,0.00012137554976341166,0.00012148941290546438,0.00012116924966130132,0.0001203089163900309,0.00011882628149137469,0.00011666767079289519,0.00011381028041287311,0.000110262518358825,0.00010606241816603059,0.00010127441697416724,9.59848939085004e-05,9.029691647679634e-05,8.432464370171436e-05,7.818779165261037e-05,7.200649115269522e-05,6.589677244719058e-05,5.996681167179182e-05,5.431398173119908e-05,4.902267543072438e-05,4.4162817353004847e-05,3.978895496053216e-05,3.593981696316503e-05,3.263824342931066e-05,2.9891420870576297e-05,2.7691389264436866e-05,2.6015819659715525e-05,2.4829084747520727e-05,2.4083656444045934e-05,2.3721862075966834e-05,2.3678014290322133e-05,2.3880901419585173e-05,2.4256588437258216e-05,2.473143868400461e-05,2.5235228603752337e-05,2.570419707135937e-05,2.6083852059998872e-05,2.6331353663338648e-05,2.6417305467678375e-05,2.6326815708541093e-05,2.6059733445391764e-05,2.5630019450378103e-05,2.506427178100786e-05,2.4399486661652852e-05,2.368019094674083e-05,2.2955128313723483e-05,2.227371374971389e-05,2.1682487525219895e-05,2.1221799811869416e-05,2.092294087816003e-05,2.0805901013436456e-05,2.0877901479781933e-05,2.1132785959737763e-05,2.155130459752397e-05,2.2102263451051488e-05,2.2744454675241194e-05,2.34292307027276e-05,2.4103542578252976e-05,2.4713231607993515e-05,2.5206347199808904e-05,2.5536263922106548e-05,2.566438795877804e-05],\"yaxis\":\"y\",\"type\":\"scatter\"}],                        {\"barmode\":\"overlay\",\"hovermode\":\"closest\",\"legend\":{\"traceorder\":\"reversed\"},\"xaxis\":{\"anchor\":\"y2\",\"domain\":[0.0,1.0],\"zeroline\":false,\"title\":{\"text\":\"Length of a headline\"}},\"yaxis\":{\"anchor\":\"free\",\"domain\":[0.0,1],\"position\":0.0,\"title\":{\"text\":\"probability\"}},\"template\":{\"data\":{\"histogram2dcontour\":[{\"type\":\"histogram2dcontour\",\"colorbar\":{\"outlinewidth\":0,\"ticks\":\"\"},\"colorscale\":[[0.0,\"#0d0887\"],[0.1111111111111111,\"#46039f\"],[0.2222222222222222,\"#7201a8\"],[0.3333333333333333,\"#9c179e\"],[0.4444444444444444,\"#bd3786\"],[0.5555555555555556,\"#d8576b\"],[0.6666666666666666,\"#ed7953\"],[0.7777777777777778,\"#fb9f3a\"],[0.8888888888888888,\"#fdca26\"],[1.0,\"#f0f921\"]]}],\"choropleth\":[{\"type\":\"choropleth\",\"colorbar\":{\"outlinewidth\":0,\"ticks\":\"\"}}],\"histogram2d\":[{\"type\":\"histogram2d\",\"colorbar\":{\"outlinewidth\":0,\"ticks\":\"\"},\"colorscale\":[[0.0,\"#0d0887\"],[0.1111111111111111,\"#46039f\"],[0.2222222222222222,\"#7201a8\"],[0.3333333333333333,\"#9c179e\"],[0.4444444444444444,\"#bd3786\"],[0.5555555555555556,\"#d8576b\"],[0.6666666666666666,\"#ed7953\"],[0.7777777777777778,\"#fb9f3a\"],[0.8888888888888888,\"#fdca26\"],[1.0,\"#f0f921\"]]}],\"heatmap\":[{\"type\":\"heatmap\",\"colorbar\":{\"outlinewidth\":0,\"ticks\":\"\"},\"colorscale\":[[0.0,\"#0d0887\"],[0.1111111111111111,\"#46039f\"],[0.2222222222222222,\"#7201a8\"],[0.3333333333333333,\"#9c179e\"],[0.4444444444444444,\"#bd3786\"],[0.5555555555555556,\"#d8576b\"],[0.6666666666666666,\"#ed7953\"],[0.7777777777777778,\"#fb9f3a\"],[0.8888888888888888,\"#fdca26\"],[1.0,\"#f0f921\"]]}],\"heatmapgl\":[{\"type\":\"heatmapgl\",\"colorbar\":{\"outlinewidth\":0,\"ticks\":\"\"},\"colorscale\":[[0.0,\"#0d0887\"],[0.1111111111111111,\"#46039f\"],[0.2222222222222222,\"#7201a8\"],[0.3333333333333333,\"#9c179e\"],[0.4444444444444444,\"#bd3786\"],[0.5555555555555556,\"#d8576b\"],[0.6666666666666666,\"#ed7953\"],[0.7777777777777778,\"#fb9f3a\"],[0.8888888888888888,\"#fdca26\"],[1.0,\"#f0f921\"]]}],\"contourcarpet\":[{\"type\":\"contourcarpet\",\"colorbar\":{\"outlinewidth\":0,\"ticks\":\"\"}}],\"contour\":[{\"type\":\"contour\",\"colorbar\":{\"outlinewidth\":0,\"ticks\":\"\"},\"colorscale\":[[0.0,\"#0d0887\"],[0.1111111111111111,\"#46039f\"],[0.2222222222222222,\"#7201a8\"],[0.3333333333333333,\"#9c179e\"],[0.4444444444444444,\"#bd3786\"],[0.5555555555555556,\"#d8576b\"],[0.6666666666666666,\"#ed7953\"],[0.7777777777777778,\"#fb9f3a\"],[0.8888888888888888,\"#fdca26\"],[1.0,\"#f0f921\"]]}],\"surface\":[{\"type\":\"surface\",\"colorbar\":{\"outlinewidth\":0,\"ticks\":\"\"},\"colorscale\":[[0.0,\"#0d0887\"],[0.1111111111111111,\"#46039f\"],[0.2222222222222222,\"#7201a8\"],[0.3333333333333333,\"#9c179e\"],[0.4444444444444444,\"#bd3786\"],[0.5555555555555556,\"#d8576b\"],[0.6666666666666666,\"#ed7953\"],[0.7777777777777778,\"#fb9f3a\"],[0.8888888888888888,\"#fdca26\"],[1.0,\"#f0f921\"]]}],\"mesh3d\":[{\"type\":\"mesh3d\",\"colorbar\":{\"outlinewidth\":0,\"ticks\":\"\"}}],\"scatter\":[{\"fillpattern\":{\"fillmode\":\"overlay\",\"size\":10,\"solidity\":0.2},\"type\":\"scatter\"}],\"parcoords\":[{\"type\":\"parcoords\",\"line\":{\"colorbar\":{\"outlinewidth\":0,\"ticks\":\"\"}}}],\"scatterpolargl\":[{\"type\":\"scatterpolargl\",\"marker\":{\"colorbar\":{\"outlinewidth\":0,\"ticks\":\"\"}}}],\"bar\":[{\"error_x\":{\"color\":\"#2a3f5f\"},\"error_y\":{\"color\":\"#2a3f5f\"},\"marker\":{\"line\":{\"color\":\"#E5ECF6\",\"width\":0.5},\"pattern\":{\"fillmode\":\"overlay\",\"size\":10,\"solidity\":0.2}},\"type\":\"bar\"}],\"scattergeo\":[{\"type\":\"scattergeo\",\"marker\":{\"colorbar\":{\"outlinewidth\":0,\"ticks\":\"\"}}}],\"scatterpolar\":[{\"type\":\"scatterpolar\",\"marker\":{\"colorbar\":{\"outlinewidth\":0,\"ticks\":\"\"}}}],\"histogram\":[{\"marker\":{\"pattern\":{\"fillmode\":\"overlay\",\"size\":10,\"solidity\":0.2}},\"type\":\"histogram\"}],\"scattergl\":[{\"type\":\"scattergl\",\"marker\":{\"colorbar\":{\"outlinewidth\":0,\"ticks\":\"\"}}}],\"scatter3d\":[{\"type\":\"scatter3d\",\"line\":{\"colorbar\":{\"outlinewidth\":0,\"ticks\":\"\"}},\"marker\":{\"colorbar\":{\"outlinewidth\":0,\"ticks\":\"\"}}}],\"scattermapbox\":[{\"type\":\"scattermapbox\",\"marker\":{\"colorbar\":{\"outlinewidth\":0,\"ticks\":\"\"}}}],\"scatterternary\":[{\"type\":\"scatterternary\",\"marker\":{\"colorbar\":{\"outlinewidth\":0,\"ticks\":\"\"}}}],\"scattercarpet\":[{\"type\":\"scattercarpet\",\"marker\":{\"colorbar\":{\"outlinewidth\":0,\"ticks\":\"\"}}}],\"carpet\":[{\"aaxis\":{\"endlinecolor\":\"#2a3f5f\",\"gridcolor\":\"white\",\"linecolor\":\"white\",\"minorgridcolor\":\"white\",\"startlinecolor\":\"#2a3f5f\"},\"baxis\":{\"endlinecolor\":\"#2a3f5f\",\"gridcolor\":\"white\",\"linecolor\":\"white\",\"minorgridcolor\":\"white\",\"startlinecolor\":\"#2a3f5f\"},\"type\":\"carpet\"}],\"table\":[{\"cells\":{\"fill\":{\"color\":\"#EBF0F8\"},\"line\":{\"color\":\"white\"}},\"header\":{\"fill\":{\"color\":\"#C8D4E3\"},\"line\":{\"color\":\"white\"}},\"type\":\"table\"}],\"barpolar\":[{\"marker\":{\"line\":{\"color\":\"#E5ECF6\",\"width\":0.5},\"pattern\":{\"fillmode\":\"overlay\",\"size\":10,\"solidity\":0.2}},\"type\":\"barpolar\"}],\"pie\":[{\"automargin\":true,\"type\":\"pie\"}]},\"layout\":{\"autotypenumbers\":\"strict\",\"colorway\":[\"#636efa\",\"#EF553B\",\"#00cc96\",\"#ab63fa\",\"#FFA15A\",\"#19d3f3\",\"#FF6692\",\"#B6E880\",\"#FF97FF\",\"#FECB52\"],\"font\":{\"color\":\"#2a3f5f\"},\"hovermode\":\"closest\",\"hoverlabel\":{\"align\":\"left\"},\"paper_bgcolor\":\"white\",\"plot_bgcolor\":\"#E5ECF6\",\"polar\":{\"bgcolor\":\"#E5ECF6\",\"angularaxis\":{\"gridcolor\":\"white\",\"linecolor\":\"white\",\"ticks\":\"\"},\"radialaxis\":{\"gridcolor\":\"white\",\"linecolor\":\"white\",\"ticks\":\"\"}},\"ternary\":{\"bgcolor\":\"#E5ECF6\",\"aaxis\":{\"gridcolor\":\"white\",\"linecolor\":\"white\",\"ticks\":\"\"},\"baxis\":{\"gridcolor\":\"white\",\"linecolor\":\"white\",\"ticks\":\"\"},\"caxis\":{\"gridcolor\":\"white\",\"linecolor\":\"white\",\"ticks\":\"\"}},\"coloraxis\":{\"colorbar\":{\"outlinewidth\":0,\"ticks\":\"\"}},\"colorscale\":{\"sequential\":[[0.0,\"#0d0887\"],[0.1111111111111111,\"#46039f\"],[0.2222222222222222,\"#7201a8\"],[0.3333333333333333,\"#9c179e\"],[0.4444444444444444,\"#bd3786\"],[0.5555555555555556,\"#d8576b\"],[0.6666666666666666,\"#ed7953\"],[0.7777777777777778,\"#fb9f3a\"],[0.8888888888888888,\"#fdca26\"],[1.0,\"#f0f921\"]],\"sequentialminus\":[[0.0,\"#0d0887\"],[0.1111111111111111,\"#46039f\"],[0.2222222222222222,\"#7201a8\"],[0.3333333333333333,\"#9c179e\"],[0.4444444444444444,\"#bd3786\"],[0.5555555555555556,\"#d8576b\"],[0.6666666666666666,\"#ed7953\"],[0.7777777777777778,\"#fb9f3a\"],[0.8888888888888888,\"#fdca26\"],[1.0,\"#f0f921\"]],\"diverging\":[[0,\"#8e0152\"],[0.1,\"#c51b7d\"],[0.2,\"#de77ae\"],[0.3,\"#f1b6da\"],[0.4,\"#fde0ef\"],[0.5,\"#f7f7f7\"],[0.6,\"#e6f5d0\"],[0.7,\"#b8e186\"],[0.8,\"#7fbc41\"],[0.9,\"#4d9221\"],[1,\"#276419\"]]},\"xaxis\":{\"gridcolor\":\"white\",\"linecolor\":\"white\",\"ticks\":\"\",\"title\":{\"standoff\":15},\"zerolinecolor\":\"white\",\"automargin\":true,\"zerolinewidth\":2},\"yaxis\":{\"gridcolor\":\"white\",\"linecolor\":\"white\",\"ticks\":\"\",\"title\":{\"standoff\":15},\"zerolinecolor\":\"white\",\"automargin\":true,\"zerolinewidth\":2},\"scene\":{\"xaxis\":{\"backgroundcolor\":\"#E5ECF6\",\"gridcolor\":\"white\",\"linecolor\":\"white\",\"showbackground\":true,\"ticks\":\"\",\"zerolinecolor\":\"white\",\"gridwidth\":2},\"yaxis\":{\"backgroundcolor\":\"#E5ECF6\",\"gridcolor\":\"white\",\"linecolor\":\"white\",\"showbackground\":true,\"ticks\":\"\",\"zerolinecolor\":\"white\",\"gridwidth\":2},\"zaxis\":{\"backgroundcolor\":\"#E5ECF6\",\"gridcolor\":\"white\",\"linecolor\":\"white\",\"showbackground\":true,\"ticks\":\"\",\"zerolinecolor\":\"white\",\"gridwidth\":2}},\"shapedefaults\":{\"line\":{\"color\":\"#2a3f5f\"}},\"annotationdefaults\":{\"arrowcolor\":\"#2a3f5f\",\"arrowhead\":0,\"arrowwidth\":1},\"geo\":{\"bgcolor\":\"white\",\"landcolor\":\"#E5ECF6\",\"subunitcolor\":\"white\",\"showland\":true,\"showlakes\":true,\"lakecolor\":\"white\"},\"title\":{\"x\":0.05},\"mapbox\":{\"style\":\"light\"}}},\"title\":{\"text\":\"PDF\",\"y\":0.9,\"x\":0.5,\"xanchor\":\"center\",\"yanchor\":\"top\"},\"showlegend\":false,\"width\":500,\"height\":500},                        {\"responsive\": true}                    ).then(function(){\n",
              "                            \n",
              "var gd = document.getElementById('8c4e4a26-15d4-465d-b986-a9535563c0f8');\n",
              "var x = new MutationObserver(function (mutations, observer) {{\n",
              "        var display = window.getComputedStyle(gd).display;\n",
              "        if (!display || display === 'none') {{\n",
              "            console.log([gd, 'removed!']);\n",
              "            Plotly.purge(gd);\n",
              "            observer.disconnect();\n",
              "        }}\n",
              "}});\n",
              "\n",
              "// Listen for the removal of the full notebook cells\n",
              "var notebookContainer = gd.closest('#notebook-container');\n",
              "if (notebookContainer) {{\n",
              "    x.observe(notebookContainer, {childList: true});\n",
              "}}\n",
              "\n",
              "// Listen for the clearing of the current output cell\n",
              "var outputEl = gd.closest('.output');\n",
              "if (outputEl) {{\n",
              "    x.observe(outputEl, {childList: true});\n",
              "}}\n",
              "\n",
              "                        })                };                            </script>        </div>\n",
              "</body>\n",
              "</html>"
            ]
          },
          "metadata": {}
        }
      ]
    },
    {
      "cell_type": "markdown",
      "source": [
        "The probability distribution function of headline length is almost similar to a **Guassian distribution**, where most of the headlines are 58 to 80 words long in length. "
      ],
      "metadata": {
        "id": "3w0byM_w3yT1"
      }
    },
    {
      "cell_type": "markdown",
      "source": [
        "By Data processing in Step 2, we get a subset of original dataset which has different index labels so let's make the indices uniform ranging from 0 to total number of articles. "
      ],
      "metadata": {
        "id": "jl1RUNjs3yT1"
      }
    },
    {
      "cell_type": "code",
      "source": [
        "news_articles.index = range(news_articles.shape[0])"
      ],
      "metadata": {
        "execution": {
          "iopub.status.busy": "2022-10-11T11:04:12.541998Z",
          "iopub.execute_input": "2022-10-11T11:04:12.542402Z",
          "iopub.status.idle": "2022-10-11T11:04:12.550675Z",
          "shell.execute_reply.started": "2022-10-11T11:04:12.542335Z",
          "shell.execute_reply": "2022-10-11T11:04:12.548732Z"
        },
        "trusted": true,
        "id": "tBUIhsHs3yT1"
      },
      "execution_count": 17,
      "outputs": []
    },
    {
      "cell_type": "code",
      "source": [
        "# Adding a new column containing both day of the week and month, it will be required later while recommending based on day of the week and month\n",
        "news_articles[\"day and month\"] = news_articles[\"date\"].dt.strftime(\"%a\") + \"_\" + news_articles[\"date\"].dt.strftime(\"%b\")"
      ],
      "metadata": {
        "execution": {
          "iopub.status.busy": "2022-10-11T11:04:12.552842Z",
          "iopub.execute_input": "2022-10-11T11:04:12.553312Z",
          "iopub.status.idle": "2022-10-11T11:04:12.668783Z",
          "shell.execute_reply.started": "2022-10-11T11:04:12.553244Z",
          "shell.execute_reply": "2022-10-11T11:04:12.667628Z"
        },
        "trusted": true,
        "id": "awkSs3Tw3yT1"
      },
      "execution_count": 18,
      "outputs": []
    },
    {
      "cell_type": "markdown",
      "source": [
        "Since after text preprocessing the original headlines will be modified and it doesn't make sense to recommend articles by displaying modified headlines so let's copy the dataset into some other dataset and perform text preprocessing on the later."
      ],
      "metadata": {
        "id": "Tr4gqSCq3yT1"
      }
    },
    {
      "cell_type": "code",
      "source": [
        "news_articles_temp = news_articles.copy()"
      ],
      "metadata": {
        "execution": {
          "iopub.status.busy": "2022-10-11T11:04:12.670873Z",
          "iopub.execute_input": "2022-10-11T11:04:12.671244Z",
          "iopub.status.idle": "2022-10-11T11:04:12.693767Z",
          "shell.execute_reply.started": "2022-10-11T11:04:12.671176Z",
          "shell.execute_reply": "2022-10-11T11:04:12.691896Z"
        },
        "trusted": true,
        "id": "alVmKf3q3yT1"
      },
      "execution_count": 19,
      "outputs": []
    },
    {
      "cell_type": "markdown",
      "source": [
        "## 5. Text Preprocessing"
      ],
      "metadata": {
        "id": "4qIABbgr3yT1"
      }
    },
    {
      "cell_type": "markdown",
      "source": [
        "### 5.a Stopwords removal"
      ],
      "metadata": {
        "id": "SNKUpclh3yT1"
      }
    },
    {
      "cell_type": "markdown",
      "source": [
        "Stop words are not much helpful in analyis and also their inclusion consumes much time during processing so let's remove these. "
      ],
      "metadata": {
        "id": "0tin2Djz3yT1"
      }
    },
    {
      "cell_type": "code",
      "source": [
        "nltk.download('stopwords')\n",
        "stop_words = set(stopwords.words('english'))"
      ],
      "metadata": {
        "execution": {
          "iopub.status.busy": "2022-10-11T11:04:12.696026Z",
          "iopub.execute_input": "2022-10-11T11:04:12.696473Z",
          "iopub.status.idle": "2022-10-11T11:04:12.709675Z",
          "shell.execute_reply.started": "2022-10-11T11:04:12.696385Z",
          "shell.execute_reply": "2022-10-11T11:04:12.708325Z"
        },
        "trusted": true,
        "colab": {
          "base_uri": "https://localhost:8080/"
        },
        "id": "XH7qO_fW3yT1",
        "outputId": "0e2e41c4-f834-45ce-830b-77a68494aaf6"
      },
      "execution_count": 20,
      "outputs": [
        {
          "output_type": "stream",
          "name": "stderr",
          "text": [
            "[nltk_data] Downloading package stopwords to /root/nltk_data...\n",
            "[nltk_data]   Unzipping corpora/stopwords.zip.\n"
          ]
        }
      ]
    },
    {
      "cell_type": "code",
      "source": [
        "for i in range(len(news_articles_temp[\"headline\"])):\n",
        "    string = \"\"\n",
        "    for word in news_articles_temp[\"headline\"][i].split():\n",
        "        word = (\"\".join(e for e in word if e.isalnum()))\n",
        "        word = word.lower()\n",
        "        if not word in stop_words:\n",
        "          string += word + \" \"  \n",
        "    if(i%1000==0):\n",
        "      print(i)           # To track number of records processed\n",
        "    news_articles_temp.at[i,\"headline\"] = string.strip()"
      ],
      "metadata": {
        "execution": {
          "iopub.status.busy": "2022-10-11T11:04:12.711804Z",
          "iopub.execute_input": "2022-10-11T11:04:12.712187Z",
          "iopub.status.idle": "2022-10-11T11:04:13.189068Z",
          "shell.execute_reply.started": "2022-10-11T11:04:12.712126Z",
          "shell.execute_reply": "2022-10-11T11:04:13.18787Z"
        },
        "trusted": true,
        "colab": {
          "base_uri": "https://localhost:8080/"
        },
        "id": "sLgX6PAr3yT2",
        "outputId": "e7802916-a5a8-44b4-9f3c-4a0b0267d8c3"
      },
      "execution_count": 21,
      "outputs": [
        {
          "output_type": "stream",
          "name": "stdout",
          "text": [
            "0\n",
            "1000\n",
            "2000\n",
            "3000\n",
            "4000\n",
            "5000\n",
            "6000\n",
            "7000\n",
            "8000\n"
          ]
        }
      ]
    },
    {
      "cell_type": "markdown",
      "source": [
        "### 5.b Lemmatization"
      ],
      "metadata": {
        "id": "2fMWA83L3yT2"
      }
    },
    {
      "cell_type": "markdown",
      "source": [
        "Let's find the base form(lemma) of words to consider different inflections of a word same as lemma."
      ],
      "metadata": {
        "id": "1mbx2XxQ3yT2"
      }
    },
    {
      "cell_type": "code",
      "source": [
        "lemmatizer = WordNetLemmatizer()\n",
        "nltk.download('punkt')\n",
        "nltk.download('wordnet')\n",
        "nltk.download('omw-1.4')"
      ],
      "metadata": {
        "execution": {
          "iopub.status.busy": "2022-10-11T11:04:13.190931Z",
          "iopub.execute_input": "2022-10-11T11:04:13.191306Z",
          "iopub.status.idle": "2022-10-11T11:04:13.197062Z",
          "shell.execute_reply.started": "2022-10-11T11:04:13.191241Z",
          "shell.execute_reply": "2022-10-11T11:04:13.195755Z"
        },
        "trusted": true,
        "colab": {
          "base_uri": "https://localhost:8080/"
        },
        "id": "2qduPdmc3yT2",
        "outputId": "79ee454a-1850-4370-9e08-6b0cee06780c"
      },
      "execution_count": 22,
      "outputs": [
        {
          "output_type": "stream",
          "name": "stderr",
          "text": [
            "[nltk_data] Downloading package punkt to /root/nltk_data...\n",
            "[nltk_data]   Unzipping tokenizers/punkt.zip.\n",
            "[nltk_data] Downloading package wordnet to /root/nltk_data...\n",
            "[nltk_data] Downloading package omw-1.4 to /root/nltk_data...\n"
          ]
        },
        {
          "output_type": "execute_result",
          "data": {
            "text/plain": [
              "True"
            ]
          },
          "metadata": {},
          "execution_count": 22
        }
      ]
    },
    {
      "cell_type": "code",
      "source": [
        "for i in range(len(news_articles_temp[\"headline\"])):\n",
        "    string = \"\"\n",
        "    for w in word_tokenize(news_articles_temp[\"headline\"][i]):\n",
        "        string += lemmatizer.lemmatize(w,pos = \"v\") + \" \"\n",
        "    news_articles_temp.at[i, \"headline\"] = string.strip()\n",
        "    if(i%1000==0):\n",
        "        print(i)           # To track number of records processed"
      ],
      "metadata": {
        "execution": {
          "iopub.status.busy": "2022-10-11T11:04:13.199099Z",
          "iopub.execute_input": "2022-10-11T11:04:13.199507Z",
          "iopub.status.idle": "2022-10-11T11:04:17.899663Z",
          "shell.execute_reply.started": "2022-10-11T11:04:13.199435Z",
          "shell.execute_reply": "2022-10-11T11:04:17.898489Z"
        },
        "trusted": true,
        "colab": {
          "base_uri": "https://localhost:8080/"
        },
        "id": "PfRIjIic3yT2",
        "outputId": "cf1f8818-0dfd-4421-bb52-a95c9d31dd2f"
      },
      "execution_count": 23,
      "outputs": [
        {
          "output_type": "stream",
          "name": "stdout",
          "text": [
            "0\n",
            "1000\n",
            "2000\n",
            "3000\n",
            "4000\n",
            "5000\n",
            "6000\n",
            "7000\n",
            "8000\n"
          ]
        }
      ]
    },
    {
      "cell_type": "markdown",
      "source": [
        "## BOW model"
      ],
      "metadata": {
        "id": "wnt_xgUQceBw"
      }
    },
    {
      "cell_type": "code",
      "source": [
        "headline_vectorizer = CountVectorizer()\n",
        "headline_features   = headline_vectorizer.fit_transform(news_articles_temp['headline'])"
      ],
      "metadata": {
        "execution": {
          "iopub.status.busy": "2022-10-11T11:04:17.901854Z",
          "iopub.execute_input": "2022-10-11T11:04:17.902304Z",
          "iopub.status.idle": "2022-10-11T11:04:18.044682Z",
          "shell.execute_reply.started": "2022-10-11T11:04:17.902224Z",
          "shell.execute_reply": "2022-10-11T11:04:18.043698Z"
        },
        "trusted": true,
        "id": "9ALVJlYp3yT2"
      },
      "execution_count": 24,
      "outputs": []
    },
    {
      "cell_type": "markdown",
      "source": [
        "#### Saving the model"
      ],
      "metadata": {
        "id": "5V1NptJBT1Tw"
      }
    },
    {
      "cell_type": "code",
      "source": [
        "# save the model to disk\n",
        "filename = 'Count-Vectorizer features.sav'\n",
        "pickle.dump(headline_features, open(filename, 'wb'))"
      ],
      "metadata": {
        "id": "i3xhXx32T1Tx"
      },
      "execution_count": 25,
      "outputs": []
    },
    {
      "cell_type": "code",
      "source": [
        "headline_features.get_shape()"
      ],
      "metadata": {
        "execution": {
          "iopub.status.busy": "2022-10-11T11:04:18.046419Z",
          "iopub.execute_input": "2022-10-11T11:04:18.046733Z",
          "iopub.status.idle": "2022-10-11T11:04:18.05363Z",
          "shell.execute_reply.started": "2022-10-11T11:04:18.046681Z",
          "shell.execute_reply": "2022-10-11T11:04:18.052602Z"
        },
        "trusted": true,
        "colab": {
          "base_uri": "https://localhost:8080/"
        },
        "id": "4IchPsul3yT2",
        "outputId": "e8753c28-8287-471d-832d-a6d2804fda9c"
      },
      "execution_count": 26,
      "outputs": [
        {
          "output_type": "execute_result",
          "data": {
            "text/plain": [
              "(8485, 11122)"
            ]
          },
          "metadata": {},
          "execution_count": 26
        }
      ]
    },
    {
      "cell_type": "markdown",
      "source": [
        "The output **BoW matrix**(headline_features) is a sparse matrix."
      ],
      "metadata": {
        "id": "jARRKpT33yT3"
      }
    },
    {
      "cell_type": "code",
      "source": [
        "pd.set_option('display.max_colwidth', -1)  # To display a very long headline completely"
      ],
      "metadata": {
        "execution": {
          "iopub.status.busy": "2022-10-11T11:04:18.055792Z",
          "iopub.execute_input": "2022-10-11T11:04:18.05616Z",
          "iopub.status.idle": "2022-10-11T11:04:18.066335Z",
          "shell.execute_reply.started": "2022-10-11T11:04:18.056089Z",
          "shell.execute_reply": "2022-10-11T11:04:18.064723Z"
        },
        "trusted": true,
        "colab": {
          "base_uri": "https://localhost:8080/"
        },
        "id": "OmhsRUee3yT3",
        "outputId": "09e981ba-f7b1-450c-b9a5-01f8f75f0639"
      },
      "execution_count": 27,
      "outputs": [
        {
          "output_type": "stream",
          "name": "stderr",
          "text": [
            "<ipython-input-27-bc6d054540ec>:1: FutureWarning:\n",
            "\n",
            "Passing a negative integer is deprecated in version 1.0 and will not be supported in future version. Instead, use None to not limit the column width.\n",
            "\n"
          ]
        }
      ]
    },
    {
      "cell_type": "code",
      "source": [
        "def bag_of_words_based_model(row_index, num_similar_items):\n",
        "    couple_dist = pairwise_distances(headline_features,headline_features[row_index])\n",
        "    indices = np.argsort(couple_dist.ravel())[0:num_similar_items]\n",
        "    df = pd.DataFrame({'publish_date': news_articles['date'][indices].values,\n",
        "               'headline':news_articles['headline'][indices].values,\n",
        "                'Euclidean similarity with the queried article': couple_dist[indices].ravel(),'Category':news_articles['category'][indices].values})\n",
        "    print(\"=\"*30,\"Queried article details\",\"=\"*30)\n",
        "    print('headline : ',news_articles['headline'][indices[0]])\n",
        "    print(\"\\n\",\"=\"*25,\"Recommended articles : \",\"=\"*23)\n",
        "    #return df.iloc[1:,1]\n",
        "    return df.iloc[1:,], indices\n",
        "\n",
        "article_list_bow_1, indices_bow_1=bag_of_words_based_model(133, 11) # Change the row index for any other queried article\n",
        "article_list_bow_1"
      ],
      "metadata": {
        "execution": {
          "iopub.status.busy": "2022-10-11T11:04:18.068041Z",
          "iopub.execute_input": "2022-10-11T11:04:18.068408Z",
          "iopub.status.idle": "2022-10-11T11:04:18.101326Z",
          "shell.execute_reply.started": "2022-10-11T11:04:18.068335Z",
          "shell.execute_reply": "2022-10-11T11:04:18.100463Z"
        },
        "trusted": true,
        "colab": {
          "base_uri": "https://localhost:8080/",
          "height": 432
        },
        "id": "mPLMacB23yT3",
        "outputId": "99184957-eef6-4b63-eff2-76fe57464299"
      },
      "execution_count": 28,
      "outputs": [
        {
          "output_type": "stream",
          "name": "stdout",
          "text": [
            "============================== Queried article details ==============================\n",
            "headline :  Woman Fired After Flipping Off Trump's Motorcade Sues Former Employer\n",
            "\n",
            " ========================= Recommended articles :  =======================\n"
          ]
        },
        {
          "output_type": "execute_result",
          "data": {
            "text/plain": [
              "   publish_date                                                     headline  \\\n",
              "1  2018-04-02    The Trump Administration Is Suing California Again            \n",
              "2  2018-05-01    Texas Sues Trump Administration To End DACA                   \n",
              "3  2018-03-07    Stormy Daniels Suing Trump Over Nondisclosure Agreement       \n",
              "4  2018-04-28    Trump: Mueller Should Never Have Been Appointed               \n",
              "5  2018-04-24    Spanish Woman Looks More Like Trump Than The Donald Himself   \n",
              "6  2018-02-12    What You Should Know About Trump's Nihilist Budget            \n",
              "7  2018-05-09    The Caliphate Of Trump And A Planet In Ruins                  \n",
              "8  2018-03-26    Trump Ally Sues Qatar For Hacking His Email                   \n",
              "9  2018-02-21    All They Will Call You Will Be Deportees                      \n",
              "10 2018-04-11    Pursuing Desegregation In The Trump Era                       \n",
              "\n",
              "    Euclidean similarity with the queried article       Category  \n",
              "1   2.828427                                       POLITICS       \n",
              "2   3.162278                                       POLITICS       \n",
              "3   3.162278                                       POLITICS       \n",
              "4   3.162278                                       POLITICS       \n",
              "5   3.162278                                       WEIRD NEWS     \n",
              "6   3.162278                                       POLITICS       \n",
              "7   3.162278                                       POLITICS       \n",
              "8   3.162278                                       POLITICS       \n",
              "9   3.162278                                       LATINO VOICES  \n",
              "10  3.162278                                       POLITICS       "
            ],
            "text/html": [
              "\n",
              "  <div id=\"df-cd59a0a8-cd9f-47d7-bbd0-d8befa2ec485\">\n",
              "    <div class=\"colab-df-container\">\n",
              "      <div>\n",
              "<style scoped>\n",
              "    .dataframe tbody tr th:only-of-type {\n",
              "        vertical-align: middle;\n",
              "    }\n",
              "\n",
              "    .dataframe tbody tr th {\n",
              "        vertical-align: top;\n",
              "    }\n",
              "\n",
              "    .dataframe thead th {\n",
              "        text-align: right;\n",
              "    }\n",
              "</style>\n",
              "<table border=\"1\" class=\"dataframe\">\n",
              "  <thead>\n",
              "    <tr style=\"text-align: right;\">\n",
              "      <th></th>\n",
              "      <th>publish_date</th>\n",
              "      <th>headline</th>\n",
              "      <th>Euclidean similarity with the queried article</th>\n",
              "      <th>Category</th>\n",
              "    </tr>\n",
              "  </thead>\n",
              "  <tbody>\n",
              "    <tr>\n",
              "      <th>1</th>\n",
              "      <td>2018-04-02</td>\n",
              "      <td>The Trump Administration Is Suing California Again</td>\n",
              "      <td>2.828427</td>\n",
              "      <td>POLITICS</td>\n",
              "    </tr>\n",
              "    <tr>\n",
              "      <th>2</th>\n",
              "      <td>2018-05-01</td>\n",
              "      <td>Texas Sues Trump Administration To End DACA</td>\n",
              "      <td>3.162278</td>\n",
              "      <td>POLITICS</td>\n",
              "    </tr>\n",
              "    <tr>\n",
              "      <th>3</th>\n",
              "      <td>2018-03-07</td>\n",
              "      <td>Stormy Daniels Suing Trump Over Nondisclosure Agreement</td>\n",
              "      <td>3.162278</td>\n",
              "      <td>POLITICS</td>\n",
              "    </tr>\n",
              "    <tr>\n",
              "      <th>4</th>\n",
              "      <td>2018-04-28</td>\n",
              "      <td>Trump: Mueller Should Never Have Been Appointed</td>\n",
              "      <td>3.162278</td>\n",
              "      <td>POLITICS</td>\n",
              "    </tr>\n",
              "    <tr>\n",
              "      <th>5</th>\n",
              "      <td>2018-04-24</td>\n",
              "      <td>Spanish Woman Looks More Like Trump Than The Donald Himself</td>\n",
              "      <td>3.162278</td>\n",
              "      <td>WEIRD NEWS</td>\n",
              "    </tr>\n",
              "    <tr>\n",
              "      <th>6</th>\n",
              "      <td>2018-02-12</td>\n",
              "      <td>What You Should Know About Trump's Nihilist Budget</td>\n",
              "      <td>3.162278</td>\n",
              "      <td>POLITICS</td>\n",
              "    </tr>\n",
              "    <tr>\n",
              "      <th>7</th>\n",
              "      <td>2018-05-09</td>\n",
              "      <td>The Caliphate Of Trump And A Planet In Ruins</td>\n",
              "      <td>3.162278</td>\n",
              "      <td>POLITICS</td>\n",
              "    </tr>\n",
              "    <tr>\n",
              "      <th>8</th>\n",
              "      <td>2018-03-26</td>\n",
              "      <td>Trump Ally Sues Qatar For Hacking His Email</td>\n",
              "      <td>3.162278</td>\n",
              "      <td>POLITICS</td>\n",
              "    </tr>\n",
              "    <tr>\n",
              "      <th>9</th>\n",
              "      <td>2018-02-21</td>\n",
              "      <td>All They Will Call You Will Be Deportees</td>\n",
              "      <td>3.162278</td>\n",
              "      <td>LATINO VOICES</td>\n",
              "    </tr>\n",
              "    <tr>\n",
              "      <th>10</th>\n",
              "      <td>2018-04-11</td>\n",
              "      <td>Pursuing Desegregation In The Trump Era</td>\n",
              "      <td>3.162278</td>\n",
              "      <td>POLITICS</td>\n",
              "    </tr>\n",
              "  </tbody>\n",
              "</table>\n",
              "</div>\n",
              "      <button class=\"colab-df-convert\" onclick=\"convertToInteractive('df-cd59a0a8-cd9f-47d7-bbd0-d8befa2ec485')\"\n",
              "              title=\"Convert this dataframe to an interactive table.\"\n",
              "              style=\"display:none;\">\n",
              "        \n",
              "  <svg xmlns=\"http://www.w3.org/2000/svg\" height=\"24px\"viewBox=\"0 0 24 24\"\n",
              "       width=\"24px\">\n",
              "    <path d=\"M0 0h24v24H0V0z\" fill=\"none\"/>\n",
              "    <path d=\"M18.56 5.44l.94 2.06.94-2.06 2.06-.94-2.06-.94-.94-2.06-.94 2.06-2.06.94zm-11 1L8.5 8.5l.94-2.06 2.06-.94-2.06-.94L8.5 2.5l-.94 2.06-2.06.94zm10 10l.94 2.06.94-2.06 2.06-.94-2.06-.94-.94-2.06-.94 2.06-2.06.94z\"/><path d=\"M17.41 7.96l-1.37-1.37c-.4-.4-.92-.59-1.43-.59-.52 0-1.04.2-1.43.59L10.3 9.45l-7.72 7.72c-.78.78-.78 2.05 0 2.83L4 21.41c.39.39.9.59 1.41.59.51 0 1.02-.2 1.41-.59l7.78-7.78 2.81-2.81c.8-.78.8-2.07 0-2.86zM5.41 20L4 18.59l7.72-7.72 1.47 1.35L5.41 20z\"/>\n",
              "  </svg>\n",
              "      </button>\n",
              "      \n",
              "  <style>\n",
              "    .colab-df-container {\n",
              "      display:flex;\n",
              "      flex-wrap:wrap;\n",
              "      gap: 12px;\n",
              "    }\n",
              "\n",
              "    .colab-df-convert {\n",
              "      background-color: #E8F0FE;\n",
              "      border: none;\n",
              "      border-radius: 50%;\n",
              "      cursor: pointer;\n",
              "      display: none;\n",
              "      fill: #1967D2;\n",
              "      height: 32px;\n",
              "      padding: 0 0 0 0;\n",
              "      width: 32px;\n",
              "    }\n",
              "\n",
              "    .colab-df-convert:hover {\n",
              "      background-color: #E2EBFA;\n",
              "      box-shadow: 0px 1px 2px rgba(60, 64, 67, 0.3), 0px 1px 3px 1px rgba(60, 64, 67, 0.15);\n",
              "      fill: #174EA6;\n",
              "    }\n",
              "\n",
              "    [theme=dark] .colab-df-convert {\n",
              "      background-color: #3B4455;\n",
              "      fill: #D2E3FC;\n",
              "    }\n",
              "\n",
              "    [theme=dark] .colab-df-convert:hover {\n",
              "      background-color: #434B5C;\n",
              "      box-shadow: 0px 1px 3px 1px rgba(0, 0, 0, 0.15);\n",
              "      filter: drop-shadow(0px 1px 2px rgba(0, 0, 0, 0.3));\n",
              "      fill: #FFFFFF;\n",
              "    }\n",
              "  </style>\n",
              "\n",
              "      <script>\n",
              "        const buttonEl =\n",
              "          document.querySelector('#df-cd59a0a8-cd9f-47d7-bbd0-d8befa2ec485 button.colab-df-convert');\n",
              "        buttonEl.style.display =\n",
              "          google.colab.kernel.accessAllowed ? 'block' : 'none';\n",
              "\n",
              "        async function convertToInteractive(key) {\n",
              "          const element = document.querySelector('#df-cd59a0a8-cd9f-47d7-bbd0-d8befa2ec485');\n",
              "          const dataTable =\n",
              "            await google.colab.kernel.invokeFunction('convertToInteractive',\n",
              "                                                     [key], {});\n",
              "          if (!dataTable) return;\n",
              "\n",
              "          const docLinkHtml = 'Like what you see? Visit the ' +\n",
              "            '<a target=\"_blank\" href=https://colab.research.google.com/notebooks/data_table.ipynb>data table notebook</a>'\n",
              "            + ' to learn more about interactive tables.';\n",
              "          element.innerHTML = '';\n",
              "          dataTable['output_type'] = 'display_data';\n",
              "          await google.colab.output.renderOutput(dataTable, element);\n",
              "          const docLink = document.createElement('div');\n",
              "          docLink.innerHTML = docLinkHtml;\n",
              "          element.appendChild(docLink);\n",
              "        }\n",
              "      </script>\n",
              "    </div>\n",
              "  </div>\n",
              "  "
            ]
          },
          "metadata": {},
          "execution_count": 28
        }
      ]
    },
    {
      "cell_type": "code",
      "source": [
        "article_list_bow_2, indices_bow_2=bag_of_words_based_model(143, 11)\n",
        "article_list_bow_2"
      ],
      "metadata": {
        "colab": {
          "base_uri": "https://localhost:8080/",
          "height": 476
        },
        "id": "A21ioPajJUcR",
        "outputId": "73a29b13-c362-41fe-ab84-799f8730517e"
      },
      "execution_count": 29,
      "outputs": [
        {
          "output_type": "stream",
          "name": "stdout",
          "text": [
            "============================== Queried article details ==============================\n",
            "headline :  Woman Allegedly Blows Up Pee Sample In A 7-Eleven Microwave\n",
            "\n",
            " ========================= Recommended articles :  =======================\n"
          ]
        },
        {
          "output_type": "execute_result",
          "data": {
            "text/plain": [
              "   publish_date  \\\n",
              "1  2018-05-21     \n",
              "2  2018-02-21     \n",
              "3  2018-01-25     \n",
              "4  2018-04-27     \n",
              "5  2018-01-19     \n",
              "6  2018-01-29     \n",
              "7  2018-02-01     \n",
              "8  2018-01-11     \n",
              "9  2018-05-01     \n",
              "10 2018-01-23     \n",
              "\n",
              "                                                                         headline  \\\n",
              "1   Airline Passenger Arrested After Allegedly Harassing Woman And Peeing On Seat   \n",
              "2   All They Will Call You Will Be Deportees                                        \n",
              "3   Where The Work-For-Welfare Movement Is Heading                                  \n",
              "4   Pets Are 'The 1 Percent' Of Animals                                             \n",
              "5   How We Arrived At A 'Shithole' Shutdown                                         \n",
              "6   Here Are All The 2018 Grammy Winners                                            \n",
              "7   The Next Financial Crisis -- Not If, But When                                   \n",
              "8   Governor Accused Of Blackmail Allegedly Slapped Woman He Had Affair With        \n",
              "9   Pizza Rat Has Returned. Or Has He?                                              \n",
              "10  The 2018 Oscar Nominations Are Here                                             \n",
              "\n",
              "    Euclidean similarity with the queried article       Category  \n",
              "1   3.000000                                       WEIRD NEWS     \n",
              "2   3.000000                                       LATINO VOICES  \n",
              "3   3.162278                                       POLITICS       \n",
              "4   3.162278                                       WEIRD NEWS     \n",
              "5   3.162278                                       POLITICS       \n",
              "6   3.162278                                       ENTERTAINMENT  \n",
              "7   3.162278                                       POLITICS       \n",
              "8   3.162278                                       POLITICS       \n",
              "9   3.162278                                       WEIRD NEWS     \n",
              "10  3.162278                                       ENTERTAINMENT  "
            ],
            "text/html": [
              "\n",
              "  <div id=\"df-8920c3b6-2183-4509-9f61-703cf428c814\">\n",
              "    <div class=\"colab-df-container\">\n",
              "      <div>\n",
              "<style scoped>\n",
              "    .dataframe tbody tr th:only-of-type {\n",
              "        vertical-align: middle;\n",
              "    }\n",
              "\n",
              "    .dataframe tbody tr th {\n",
              "        vertical-align: top;\n",
              "    }\n",
              "\n",
              "    .dataframe thead th {\n",
              "        text-align: right;\n",
              "    }\n",
              "</style>\n",
              "<table border=\"1\" class=\"dataframe\">\n",
              "  <thead>\n",
              "    <tr style=\"text-align: right;\">\n",
              "      <th></th>\n",
              "      <th>publish_date</th>\n",
              "      <th>headline</th>\n",
              "      <th>Euclidean similarity with the queried article</th>\n",
              "      <th>Category</th>\n",
              "    </tr>\n",
              "  </thead>\n",
              "  <tbody>\n",
              "    <tr>\n",
              "      <th>1</th>\n",
              "      <td>2018-05-21</td>\n",
              "      <td>Airline Passenger Arrested After Allegedly Harassing Woman And Peeing On Seat</td>\n",
              "      <td>3.000000</td>\n",
              "      <td>WEIRD NEWS</td>\n",
              "    </tr>\n",
              "    <tr>\n",
              "      <th>2</th>\n",
              "      <td>2018-02-21</td>\n",
              "      <td>All They Will Call You Will Be Deportees</td>\n",
              "      <td>3.000000</td>\n",
              "      <td>LATINO VOICES</td>\n",
              "    </tr>\n",
              "    <tr>\n",
              "      <th>3</th>\n",
              "      <td>2018-01-25</td>\n",
              "      <td>Where The Work-For-Welfare Movement Is Heading</td>\n",
              "      <td>3.162278</td>\n",
              "      <td>POLITICS</td>\n",
              "    </tr>\n",
              "    <tr>\n",
              "      <th>4</th>\n",
              "      <td>2018-04-27</td>\n",
              "      <td>Pets Are 'The 1 Percent' Of Animals</td>\n",
              "      <td>3.162278</td>\n",
              "      <td>WEIRD NEWS</td>\n",
              "    </tr>\n",
              "    <tr>\n",
              "      <th>5</th>\n",
              "      <td>2018-01-19</td>\n",
              "      <td>How We Arrived At A 'Shithole' Shutdown</td>\n",
              "      <td>3.162278</td>\n",
              "      <td>POLITICS</td>\n",
              "    </tr>\n",
              "    <tr>\n",
              "      <th>6</th>\n",
              "      <td>2018-01-29</td>\n",
              "      <td>Here Are All The 2018 Grammy Winners</td>\n",
              "      <td>3.162278</td>\n",
              "      <td>ENTERTAINMENT</td>\n",
              "    </tr>\n",
              "    <tr>\n",
              "      <th>7</th>\n",
              "      <td>2018-02-01</td>\n",
              "      <td>The Next Financial Crisis -- Not If, But When</td>\n",
              "      <td>3.162278</td>\n",
              "      <td>POLITICS</td>\n",
              "    </tr>\n",
              "    <tr>\n",
              "      <th>8</th>\n",
              "      <td>2018-01-11</td>\n",
              "      <td>Governor Accused Of Blackmail Allegedly Slapped Woman He Had Affair With</td>\n",
              "      <td>3.162278</td>\n",
              "      <td>POLITICS</td>\n",
              "    </tr>\n",
              "    <tr>\n",
              "      <th>9</th>\n",
              "      <td>2018-05-01</td>\n",
              "      <td>Pizza Rat Has Returned. Or Has He?</td>\n",
              "      <td>3.162278</td>\n",
              "      <td>WEIRD NEWS</td>\n",
              "    </tr>\n",
              "    <tr>\n",
              "      <th>10</th>\n",
              "      <td>2018-01-23</td>\n",
              "      <td>The 2018 Oscar Nominations Are Here</td>\n",
              "      <td>3.162278</td>\n",
              "      <td>ENTERTAINMENT</td>\n",
              "    </tr>\n",
              "  </tbody>\n",
              "</table>\n",
              "</div>\n",
              "      <button class=\"colab-df-convert\" onclick=\"convertToInteractive('df-8920c3b6-2183-4509-9f61-703cf428c814')\"\n",
              "              title=\"Convert this dataframe to an interactive table.\"\n",
              "              style=\"display:none;\">\n",
              "        \n",
              "  <svg xmlns=\"http://www.w3.org/2000/svg\" height=\"24px\"viewBox=\"0 0 24 24\"\n",
              "       width=\"24px\">\n",
              "    <path d=\"M0 0h24v24H0V0z\" fill=\"none\"/>\n",
              "    <path d=\"M18.56 5.44l.94 2.06.94-2.06 2.06-.94-2.06-.94-.94-2.06-.94 2.06-2.06.94zm-11 1L8.5 8.5l.94-2.06 2.06-.94-2.06-.94L8.5 2.5l-.94 2.06-2.06.94zm10 10l.94 2.06.94-2.06 2.06-.94-2.06-.94-.94-2.06-.94 2.06-2.06.94z\"/><path d=\"M17.41 7.96l-1.37-1.37c-.4-.4-.92-.59-1.43-.59-.52 0-1.04.2-1.43.59L10.3 9.45l-7.72 7.72c-.78.78-.78 2.05 0 2.83L4 21.41c.39.39.9.59 1.41.59.51 0 1.02-.2 1.41-.59l7.78-7.78 2.81-2.81c.8-.78.8-2.07 0-2.86zM5.41 20L4 18.59l7.72-7.72 1.47 1.35L5.41 20z\"/>\n",
              "  </svg>\n",
              "      </button>\n",
              "      \n",
              "  <style>\n",
              "    .colab-df-container {\n",
              "      display:flex;\n",
              "      flex-wrap:wrap;\n",
              "      gap: 12px;\n",
              "    }\n",
              "\n",
              "    .colab-df-convert {\n",
              "      background-color: #E8F0FE;\n",
              "      border: none;\n",
              "      border-radius: 50%;\n",
              "      cursor: pointer;\n",
              "      display: none;\n",
              "      fill: #1967D2;\n",
              "      height: 32px;\n",
              "      padding: 0 0 0 0;\n",
              "      width: 32px;\n",
              "    }\n",
              "\n",
              "    .colab-df-convert:hover {\n",
              "      background-color: #E2EBFA;\n",
              "      box-shadow: 0px 1px 2px rgba(60, 64, 67, 0.3), 0px 1px 3px 1px rgba(60, 64, 67, 0.15);\n",
              "      fill: #174EA6;\n",
              "    }\n",
              "\n",
              "    [theme=dark] .colab-df-convert {\n",
              "      background-color: #3B4455;\n",
              "      fill: #D2E3FC;\n",
              "    }\n",
              "\n",
              "    [theme=dark] .colab-df-convert:hover {\n",
              "      background-color: #434B5C;\n",
              "      box-shadow: 0px 1px 3px 1px rgba(0, 0, 0, 0.15);\n",
              "      filter: drop-shadow(0px 1px 2px rgba(0, 0, 0, 0.3));\n",
              "      fill: #FFFFFF;\n",
              "    }\n",
              "  </style>\n",
              "\n",
              "      <script>\n",
              "        const buttonEl =\n",
              "          document.querySelector('#df-8920c3b6-2183-4509-9f61-703cf428c814 button.colab-df-convert');\n",
              "        buttonEl.style.display =\n",
              "          google.colab.kernel.accessAllowed ? 'block' : 'none';\n",
              "\n",
              "        async function convertToInteractive(key) {\n",
              "          const element = document.querySelector('#df-8920c3b6-2183-4509-9f61-703cf428c814');\n",
              "          const dataTable =\n",
              "            await google.colab.kernel.invokeFunction('convertToInteractive',\n",
              "                                                     [key], {});\n",
              "          if (!dataTable) return;\n",
              "\n",
              "          const docLinkHtml = 'Like what you see? Visit the ' +\n",
              "            '<a target=\"_blank\" href=https://colab.research.google.com/notebooks/data_table.ipynb>data table notebook</a>'\n",
              "            + ' to learn more about interactive tables.';\n",
              "          element.innerHTML = '';\n",
              "          dataTable['output_type'] = 'display_data';\n",
              "          await google.colab.output.renderOutput(dataTable, element);\n",
              "          const docLink = document.createElement('div');\n",
              "          docLink.innerHTML = docLinkHtml;\n",
              "          element.appendChild(docLink);\n",
              "        }\n",
              "      </script>\n",
              "    </div>\n",
              "  </div>\n",
              "  "
            ]
          },
          "metadata": {},
          "execution_count": 29
        }
      ]
    },
    {
      "cell_type": "markdown",
      "source": [
        "### 6.b Using TF -IDF method"
      ],
      "metadata": {
        "id": "liahF_C2ZPFX"
      }
    },
    {
      "cell_type": "code",
      "source": [
        "tfidf_headline_vectorizer = TfidfVectorizer(min_df = 0)\n",
        "tfidf_headline_features = tfidf_headline_vectorizer.fit_transform(news_articles_temp['headline'])"
      ],
      "metadata": {
        "execution": {
          "iopub.status.busy": "2022-10-11T11:04:18.10255Z",
          "iopub.execute_input": "2022-10-11T11:04:18.103061Z",
          "iopub.status.idle": "2022-10-11T11:04:18.244956Z",
          "shell.execute_reply.started": "2022-10-11T11:04:18.103007Z",
          "shell.execute_reply": "2022-10-11T11:04:18.243794Z"
        },
        "trusted": true,
        "id": "UY37smn43yT3"
      },
      "execution_count": 30,
      "outputs": []
    },
    {
      "cell_type": "markdown",
      "source": [
        "#### Saving the model"
      ],
      "metadata": {
        "id": "g6gYjnZ_Sk2r"
      }
    },
    {
      "cell_type": "code",
      "source": [
        "# save the model to disk\n",
        "filename = 'tf-idf_vectorizer features.sav'\n",
        "pickle.dump(tfidf_headline_features, open(filename, 'wb'))"
      ],
      "metadata": {
        "id": "OLDllf0lJjuY"
      },
      "execution_count": 31,
      "outputs": []
    },
    {
      "cell_type": "code",
      "source": [
        "news_articles"
      ],
      "metadata": {
        "colab": {
          "base_uri": "https://localhost:8080/",
          "height": 1000
        },
        "id": "tg6EZmHsSfDH",
        "outputId": "15aac1e7-a812-4b3c-b0aa-3261f6b652df"
      },
      "execution_count": 32,
      "outputs": [
        {
          "output_type": "execute_result",
          "data": {
            "text/plain": [
              "           category  \\\n",
              "0     QUEER VOICES    \n",
              "1     QUEER VOICES    \n",
              "2     QUEER VOICES    \n",
              "3     COMEDY          \n",
              "4     ENTERTAINMENT   \n",
              "...             ...   \n",
              "8480  BLACK VOICES    \n",
              "8481  BLACK VOICES    \n",
              "8482  COMEDY          \n",
              "8483  ENTERTAINMENT   \n",
              "8484  POLITICS        \n",
              "\n",
              "                                                                              headline  \\\n",
              "0     ‘Will & Grace’ Creator To Donate Gay Bunny Book To Every Grade School In Indiana   \n",
              "1     ‘The Voice’ Blind Auditions Make History With First Trans Contestant               \n",
              "2     ‘The Penumbra’ Is The Queer Audio Drama You Didn’t Know You Needed                 \n",
              "3     ‘The Opposition’ Gives Trump A Hot Lawyer Of His Own                               \n",
              "4     ‘Stranger Things’ Fans Will Be Able To Visit The Upside Down IRL                   \n",
              "...                                                                ...                   \n",
              "8480  #JanetJacksonAppreciationDay Takes Over Twitter Ahead Of Super Bowl                \n",
              "8481  #InWakanda Hashtag Brings The Blackest Of Nations To Life                          \n",
              "8482  #IfMomWroteCandyHearts Is The Sweet And Sassy Valentine's Day Hashtag We Needed    \n",
              "8483  #BlackHogwarts Magically Takes Twitter By Storm                                    \n",
              "8484  #BackfireTrump Will Tweet Every Gun Death At The President                         \n",
              "\n",
              "                                            authors  \\\n",
              "0     Elyse Wanshel                                   \n",
              "1     Lyndsey Parker, Yahoo Entertainment             \n",
              "2     Sarah Emily Baum, ContributorFreelance Writer   \n",
              "3     Ed Mazza                                        \n",
              "4     Elyse Wanshel                                   \n",
              "...             ...                                   \n",
              "8480  Hayley Miller                                   \n",
              "8481  Princess-India Alexander                        \n",
              "8482  Jenna Amatulli                                  \n",
              "8483  Mary Papenfuss                                  \n",
              "8484  Jenna Amatulli                                  \n",
              "\n",
              "                                                                                                                                                              link  \\\n",
              "0     https://www.huffingtonpost.com/entry/will-grace-creator-donate-john-olivers-gay-bunny-book-to-every-elementary-school-in-indiana_us_5ac28265e4b00fa46f854225   \n",
              "1     https://www.huffingtonpost.com/entry/the-voice-blind-auditions-make-history-with-first-trans-contestant_us_5a9ece6ee4b002df2c5e39c2                            \n",
              "2     https://www.huffingtonpost.com/entry/the-penumbra-is-the-queer-audio-drama-you-didnt_us_5a48f900e4b0df0de8b06b29                                               \n",
              "3     https://www.huffingtonpost.com/entry/trump-hot-lawyer_us_5af5381ee4b0e57cd9f7fe84                                                                              \n",
              "4     https://www.huffingtonpost.com/entry/stranger-things-fans-will-be-able-to-visit-the-upside-down-irl_us_5ac3e3a6e4b063ce2e56c26a                                \n",
              "...                                                                                                                               ...                                \n",
              "8480  https://www.huffingtonpost.com/entry/janet-jackson-twitter-super-bowl_us_5a774f4ce4b01ce33eb3f3f6                                                              \n",
              "8481  https://www.huffingtonpost.com/entry/inwakanda-hashtag-black-twitter_us_5a821662e4b0892a035202e5                                                               \n",
              "8482  https://www.huffingtonpost.com/entry/ifmomwrotecandyhearts-valentines-day-twitter-hashtag_us_5a844132e4b0adbaf3d96903                                          \n",
              "8483  https://www.huffingtonpost.com/entry/blackhogwarts-takes-twitter_us_5a58041ce4b04df054f778db                                                                   \n",
              "8484  https://www.huffingtonpost.com/entry/backfiretrump-tweet-gun-death_us_5a943314e4b02cb368c447c4                                                                 \n",
              "\n",
              "                                                                                                                    short_description  \\\n",
              "0     It's about to be a lot easier for kids in Mike Pence's home state to read “A Day in the Life of Marlon Bundo.”                    \n",
              "1     Austin Giorgio, 21: “How Sweet It Is (To Be Loved by You)” Young crooners have appeared on singing competitions since “American   \n",
              "2     Young, fun, fantastical and, most notably, inclusive, the show is a must-listen for young queer people.                           \n",
              "3     He's here to make a \"strong case\" for the president.                                                                              \n",
              "4     Hawkins is headed to Hollywood, Orlando and Singapore this fall.                                                                  \n",
              "...                                                                ...                                                                  \n",
              "8480  \"A Queen. An Icon. Black History. Black Present. Black Future.\"                                                                   \n",
              "8481  \" #InWakanda ashiness does not exist! There is jojoba oil in the wind.\"                                                           \n",
              "8482  \"Don't eat this candy heart. It has too much sugar and it's almost time for bed.\"                                                 \n",
              "8483  Expecto something very different.                                                                                                 \n",
              "8484  An anti-violence group is harnessing Trump's favorite social media platform to show him the gun-related death toll.               \n",
              "\n",
              "           date day and month  \n",
              "0    2018-04-02  Mon_Apr       \n",
              "1    2018-03-06  Tue_Mar       \n",
              "2    2018-01-05  Fri_Jan       \n",
              "3    2018-05-11  Fri_May       \n",
              "4    2018-04-03  Tue_Apr       \n",
              "...         ...      ...       \n",
              "8480 2018-02-04  Sun_Feb       \n",
              "8481 2018-02-13  Tue_Feb       \n",
              "8482 2018-02-14  Wed_Feb       \n",
              "8483 2018-01-12  Fri_Jan       \n",
              "8484 2018-02-26  Mon_Feb       \n",
              "\n",
              "[8485 rows x 7 columns]"
            ],
            "text/html": [
              "\n",
              "  <div id=\"df-7fe349fc-ed64-4ef2-96ff-21014232bbb8\">\n",
              "    <div class=\"colab-df-container\">\n",
              "      <div>\n",
              "<style scoped>\n",
              "    .dataframe tbody tr th:only-of-type {\n",
              "        vertical-align: middle;\n",
              "    }\n",
              "\n",
              "    .dataframe tbody tr th {\n",
              "        vertical-align: top;\n",
              "    }\n",
              "\n",
              "    .dataframe thead th {\n",
              "        text-align: right;\n",
              "    }\n",
              "</style>\n",
              "<table border=\"1\" class=\"dataframe\">\n",
              "  <thead>\n",
              "    <tr style=\"text-align: right;\">\n",
              "      <th></th>\n",
              "      <th>category</th>\n",
              "      <th>headline</th>\n",
              "      <th>authors</th>\n",
              "      <th>link</th>\n",
              "      <th>short_description</th>\n",
              "      <th>date</th>\n",
              "      <th>day and month</th>\n",
              "    </tr>\n",
              "  </thead>\n",
              "  <tbody>\n",
              "    <tr>\n",
              "      <th>0</th>\n",
              "      <td>QUEER VOICES</td>\n",
              "      <td>‘Will &amp; Grace’ Creator To Donate Gay Bunny Book To Every Grade School In Indiana</td>\n",
              "      <td>Elyse Wanshel</td>\n",
              "      <td>https://www.huffingtonpost.com/entry/will-grace-creator-donate-john-olivers-gay-bunny-book-to-every-elementary-school-in-indiana_us_5ac28265e4b00fa46f854225</td>\n",
              "      <td>It's about to be a lot easier for kids in Mike Pence's home state to read “A Day in the Life of Marlon Bundo.”</td>\n",
              "      <td>2018-04-02</td>\n",
              "      <td>Mon_Apr</td>\n",
              "    </tr>\n",
              "    <tr>\n",
              "      <th>1</th>\n",
              "      <td>QUEER VOICES</td>\n",
              "      <td>‘The Voice’ Blind Auditions Make History With First Trans Contestant</td>\n",
              "      <td>Lyndsey Parker, Yahoo Entertainment</td>\n",
              "      <td>https://www.huffingtonpost.com/entry/the-voice-blind-auditions-make-history-with-first-trans-contestant_us_5a9ece6ee4b002df2c5e39c2</td>\n",
              "      <td>Austin Giorgio, 21: “How Sweet It Is (To Be Loved by You)” Young crooners have appeared on singing competitions since “American</td>\n",
              "      <td>2018-03-06</td>\n",
              "      <td>Tue_Mar</td>\n",
              "    </tr>\n",
              "    <tr>\n",
              "      <th>2</th>\n",
              "      <td>QUEER VOICES</td>\n",
              "      <td>‘The Penumbra’ Is The Queer Audio Drama You Didn’t Know You Needed</td>\n",
              "      <td>Sarah Emily Baum, ContributorFreelance Writer</td>\n",
              "      <td>https://www.huffingtonpost.com/entry/the-penumbra-is-the-queer-audio-drama-you-didnt_us_5a48f900e4b0df0de8b06b29</td>\n",
              "      <td>Young, fun, fantastical and, most notably, inclusive, the show is a must-listen for young queer people.</td>\n",
              "      <td>2018-01-05</td>\n",
              "      <td>Fri_Jan</td>\n",
              "    </tr>\n",
              "    <tr>\n",
              "      <th>3</th>\n",
              "      <td>COMEDY</td>\n",
              "      <td>‘The Opposition’ Gives Trump A Hot Lawyer Of His Own</td>\n",
              "      <td>Ed Mazza</td>\n",
              "      <td>https://www.huffingtonpost.com/entry/trump-hot-lawyer_us_5af5381ee4b0e57cd9f7fe84</td>\n",
              "      <td>He's here to make a \"strong case\" for the president.</td>\n",
              "      <td>2018-05-11</td>\n",
              "      <td>Fri_May</td>\n",
              "    </tr>\n",
              "    <tr>\n",
              "      <th>4</th>\n",
              "      <td>ENTERTAINMENT</td>\n",
              "      <td>‘Stranger Things’ Fans Will Be Able To Visit The Upside Down IRL</td>\n",
              "      <td>Elyse Wanshel</td>\n",
              "      <td>https://www.huffingtonpost.com/entry/stranger-things-fans-will-be-able-to-visit-the-upside-down-irl_us_5ac3e3a6e4b063ce2e56c26a</td>\n",
              "      <td>Hawkins is headed to Hollywood, Orlando and Singapore this fall.</td>\n",
              "      <td>2018-04-03</td>\n",
              "      <td>Tue_Apr</td>\n",
              "    </tr>\n",
              "    <tr>\n",
              "      <th>...</th>\n",
              "      <td>...</td>\n",
              "      <td>...</td>\n",
              "      <td>...</td>\n",
              "      <td>...</td>\n",
              "      <td>...</td>\n",
              "      <td>...</td>\n",
              "      <td>...</td>\n",
              "    </tr>\n",
              "    <tr>\n",
              "      <th>8480</th>\n",
              "      <td>BLACK VOICES</td>\n",
              "      <td>#JanetJacksonAppreciationDay Takes Over Twitter Ahead Of Super Bowl</td>\n",
              "      <td>Hayley Miller</td>\n",
              "      <td>https://www.huffingtonpost.com/entry/janet-jackson-twitter-super-bowl_us_5a774f4ce4b01ce33eb3f3f6</td>\n",
              "      <td>\"A Queen. An Icon. Black History. Black Present. Black Future.\"</td>\n",
              "      <td>2018-02-04</td>\n",
              "      <td>Sun_Feb</td>\n",
              "    </tr>\n",
              "    <tr>\n",
              "      <th>8481</th>\n",
              "      <td>BLACK VOICES</td>\n",
              "      <td>#InWakanda Hashtag Brings The Blackest Of Nations To Life</td>\n",
              "      <td>Princess-India Alexander</td>\n",
              "      <td>https://www.huffingtonpost.com/entry/inwakanda-hashtag-black-twitter_us_5a821662e4b0892a035202e5</td>\n",
              "      <td>\" #InWakanda ashiness does not exist! There is jojoba oil in the wind.\"</td>\n",
              "      <td>2018-02-13</td>\n",
              "      <td>Tue_Feb</td>\n",
              "    </tr>\n",
              "    <tr>\n",
              "      <th>8482</th>\n",
              "      <td>COMEDY</td>\n",
              "      <td>#IfMomWroteCandyHearts Is The Sweet And Sassy Valentine's Day Hashtag We Needed</td>\n",
              "      <td>Jenna Amatulli</td>\n",
              "      <td>https://www.huffingtonpost.com/entry/ifmomwrotecandyhearts-valentines-day-twitter-hashtag_us_5a844132e4b0adbaf3d96903</td>\n",
              "      <td>\"Don't eat this candy heart. It has too much sugar and it's almost time for bed.\"</td>\n",
              "      <td>2018-02-14</td>\n",
              "      <td>Wed_Feb</td>\n",
              "    </tr>\n",
              "    <tr>\n",
              "      <th>8483</th>\n",
              "      <td>ENTERTAINMENT</td>\n",
              "      <td>#BlackHogwarts Magically Takes Twitter By Storm</td>\n",
              "      <td>Mary Papenfuss</td>\n",
              "      <td>https://www.huffingtonpost.com/entry/blackhogwarts-takes-twitter_us_5a58041ce4b04df054f778db</td>\n",
              "      <td>Expecto something very different.</td>\n",
              "      <td>2018-01-12</td>\n",
              "      <td>Fri_Jan</td>\n",
              "    </tr>\n",
              "    <tr>\n",
              "      <th>8484</th>\n",
              "      <td>POLITICS</td>\n",
              "      <td>#BackfireTrump Will Tweet Every Gun Death At The President</td>\n",
              "      <td>Jenna Amatulli</td>\n",
              "      <td>https://www.huffingtonpost.com/entry/backfiretrump-tweet-gun-death_us_5a943314e4b02cb368c447c4</td>\n",
              "      <td>An anti-violence group is harnessing Trump's favorite social media platform to show him the gun-related death toll.</td>\n",
              "      <td>2018-02-26</td>\n",
              "      <td>Mon_Feb</td>\n",
              "    </tr>\n",
              "  </tbody>\n",
              "</table>\n",
              "<p>8485 rows × 7 columns</p>\n",
              "</div>\n",
              "      <button class=\"colab-df-convert\" onclick=\"convertToInteractive('df-7fe349fc-ed64-4ef2-96ff-21014232bbb8')\"\n",
              "              title=\"Convert this dataframe to an interactive table.\"\n",
              "              style=\"display:none;\">\n",
              "        \n",
              "  <svg xmlns=\"http://www.w3.org/2000/svg\" height=\"24px\"viewBox=\"0 0 24 24\"\n",
              "       width=\"24px\">\n",
              "    <path d=\"M0 0h24v24H0V0z\" fill=\"none\"/>\n",
              "    <path d=\"M18.56 5.44l.94 2.06.94-2.06 2.06-.94-2.06-.94-.94-2.06-.94 2.06-2.06.94zm-11 1L8.5 8.5l.94-2.06 2.06-.94-2.06-.94L8.5 2.5l-.94 2.06-2.06.94zm10 10l.94 2.06.94-2.06 2.06-.94-2.06-.94-.94-2.06-.94 2.06-2.06.94z\"/><path d=\"M17.41 7.96l-1.37-1.37c-.4-.4-.92-.59-1.43-.59-.52 0-1.04.2-1.43.59L10.3 9.45l-7.72 7.72c-.78.78-.78 2.05 0 2.83L4 21.41c.39.39.9.59 1.41.59.51 0 1.02-.2 1.41-.59l7.78-7.78 2.81-2.81c.8-.78.8-2.07 0-2.86zM5.41 20L4 18.59l7.72-7.72 1.47 1.35L5.41 20z\"/>\n",
              "  </svg>\n",
              "      </button>\n",
              "      \n",
              "  <style>\n",
              "    .colab-df-container {\n",
              "      display:flex;\n",
              "      flex-wrap:wrap;\n",
              "      gap: 12px;\n",
              "    }\n",
              "\n",
              "    .colab-df-convert {\n",
              "      background-color: #E8F0FE;\n",
              "      border: none;\n",
              "      border-radius: 50%;\n",
              "      cursor: pointer;\n",
              "      display: none;\n",
              "      fill: #1967D2;\n",
              "      height: 32px;\n",
              "      padding: 0 0 0 0;\n",
              "      width: 32px;\n",
              "    }\n",
              "\n",
              "    .colab-df-convert:hover {\n",
              "      background-color: #E2EBFA;\n",
              "      box-shadow: 0px 1px 2px rgba(60, 64, 67, 0.3), 0px 1px 3px 1px rgba(60, 64, 67, 0.15);\n",
              "      fill: #174EA6;\n",
              "    }\n",
              "\n",
              "    [theme=dark] .colab-df-convert {\n",
              "      background-color: #3B4455;\n",
              "      fill: #D2E3FC;\n",
              "    }\n",
              "\n",
              "    [theme=dark] .colab-df-convert:hover {\n",
              "      background-color: #434B5C;\n",
              "      box-shadow: 0px 1px 3px 1px rgba(0, 0, 0, 0.15);\n",
              "      filter: drop-shadow(0px 1px 2px rgba(0, 0, 0, 0.3));\n",
              "      fill: #FFFFFF;\n",
              "    }\n",
              "  </style>\n",
              "\n",
              "      <script>\n",
              "        const buttonEl =\n",
              "          document.querySelector('#df-7fe349fc-ed64-4ef2-96ff-21014232bbb8 button.colab-df-convert');\n",
              "        buttonEl.style.display =\n",
              "          google.colab.kernel.accessAllowed ? 'block' : 'none';\n",
              "\n",
              "        async function convertToInteractive(key) {\n",
              "          const element = document.querySelector('#df-7fe349fc-ed64-4ef2-96ff-21014232bbb8');\n",
              "          const dataTable =\n",
              "            await google.colab.kernel.invokeFunction('convertToInteractive',\n",
              "                                                     [key], {});\n",
              "          if (!dataTable) return;\n",
              "\n",
              "          const docLinkHtml = 'Like what you see? Visit the ' +\n",
              "            '<a target=\"_blank\" href=https://colab.research.google.com/notebooks/data_table.ipynb>data table notebook</a>'\n",
              "            + ' to learn more about interactive tables.';\n",
              "          element.innerHTML = '';\n",
              "          dataTable['output_type'] = 'display_data';\n",
              "          await google.colab.output.renderOutput(dataTable, element);\n",
              "          const docLink = document.createElement('div');\n",
              "          docLink.innerHTML = docLinkHtml;\n",
              "          element.appendChild(docLink);\n",
              "        }\n",
              "      </script>\n",
              "    </div>\n",
              "  </div>\n",
              "  "
            ]
          },
          "metadata": {},
          "execution_count": 32
        }
      ]
    },
    {
      "cell_type": "code",
      "source": [
        "def tfidf_based_model(row_index, num_similar_items):\n",
        "    couple_dist = pairwise_distances(tfidf_headline_features,tfidf_headline_features[row_index])\n",
        "    indices = np.argsort(couple_dist.ravel())[0:num_similar_items]\n",
        "    df = pd.DataFrame({'publish_date': news_articles['date'][indices].values,\n",
        "               'headline':news_articles['headline'][indices].values,\n",
        "                'Euclidean similarity with the queried article': couple_dist[indices].ravel(),\n",
        "                'Category':news_articles['category'][indices].values})\n",
        "    print(\"=\"*30,\"Queried article details\",\"=\"*30)\n",
        "    print('headline : ',news_articles['headline'][indices[0]])\n",
        "    print(\"\\n\",\"=\"*25,\"Recommended articles : \",\"=\"*23)\n",
        "    \n",
        "    #return df.iloc[1:,1]\n",
        "    return df.iloc[1:,], indices\n",
        "article_list_tfidf_1, indices_tfidf_1 = tfidf_based_model(133, 11)\n",
        "article_list_tfidf_1"
      ],
      "metadata": {
        "execution": {
          "iopub.status.busy": "2022-10-11T11:04:18.246865Z",
          "iopub.execute_input": "2022-10-11T11:04:18.247643Z",
          "iopub.status.idle": "2022-10-11T11:04:18.277066Z",
          "shell.execute_reply.started": "2022-10-11T11:04:18.24756Z",
          "shell.execute_reply": "2022-10-11T11:04:18.275681Z"
        },
        "trusted": true,
        "colab": {
          "base_uri": "https://localhost:8080/",
          "height": 476
        },
        "id": "WC31hcM23yT3",
        "outputId": "832cd0c0-efdb-42d1-9c66-9914cd9b7817"
      },
      "execution_count": 34,
      "outputs": [
        {
          "output_type": "stream",
          "name": "stdout",
          "text": [
            "============================== Queried article details ==============================\n",
            "headline :  Woman Fired After Flipping Off Trump's Motorcade Sues Former Employer\n",
            "\n",
            " ========================= Recommended articles :  =======================\n"
          ]
        },
        {
          "output_type": "execute_result",
          "data": {
            "text/plain": [
              "   publish_date  \\\n",
              "1  2018-05-21     \n",
              "2  2018-04-02     \n",
              "3  2018-04-10     \n",
              "4  2018-04-26     \n",
              "5  2018-04-03     \n",
              "6  2018-02-24     \n",
              "7  2018-01-16     \n",
              "8  2018-02-21     \n",
              "9  2018-01-09     \n",
              "10 2018-02-28     \n",
              "\n",
              "                                                                        headline  \\\n",
              "1   The Supreme Court Just Made It A Lot Harder For You To Sue Your Employer       \n",
              "2   The Trump Administration Is Suing California Again                             \n",
              "3   Lou Dobbs Flips Out On Live TV, Urges Trump To 'Fire The SOB' Robert Mueller   \n",
              "4   Cardi B's Former Manager Sues Her For $10 Million                              \n",
              "5   A Third Woman Is Suing To Break A Trump-Related Nondisclosure Agreement        \n",
              "6   Former RNC Chair Fires Back At Claim He Was Only Hired Because He Was Black    \n",
              "7   State Employer Side Payroll Taxes And Loser Liberalism                         \n",
              "8   Democrats Flip Kentucky State House Seat Where Trump Won Overwhelmingly        \n",
              "9   Big Tax Game Hunting: Employer Side Payroll Taxes                              \n",
              "10  Democrats Flip 2 More GOP-Held State House Seats                               \n",
              "\n",
              "    Euclidean similarity with the queried article      Category  \n",
              "1   1.164067                                       POLITICS      \n",
              "2   1.253867                                       POLITICS      \n",
              "3   1.258810                                       MEDIA         \n",
              "4   1.268704                                       BLACK VOICES  \n",
              "5   1.274264                                       POLITICS      \n",
              "6   1.274847                                       POLITICS      \n",
              "7   1.276696                                       POLITICS      \n",
              "8   1.282008                                       POLITICS      \n",
              "9   1.285147                                       POLITICS      \n",
              "10  1.287403                                       POLITICS      "
            ],
            "text/html": [
              "\n",
              "  <div id=\"df-16202a2b-2ae6-4797-a2a5-bc07c13aa6e2\">\n",
              "    <div class=\"colab-df-container\">\n",
              "      <div>\n",
              "<style scoped>\n",
              "    .dataframe tbody tr th:only-of-type {\n",
              "        vertical-align: middle;\n",
              "    }\n",
              "\n",
              "    .dataframe tbody tr th {\n",
              "        vertical-align: top;\n",
              "    }\n",
              "\n",
              "    .dataframe thead th {\n",
              "        text-align: right;\n",
              "    }\n",
              "</style>\n",
              "<table border=\"1\" class=\"dataframe\">\n",
              "  <thead>\n",
              "    <tr style=\"text-align: right;\">\n",
              "      <th></th>\n",
              "      <th>publish_date</th>\n",
              "      <th>headline</th>\n",
              "      <th>Euclidean similarity with the queried article</th>\n",
              "      <th>Category</th>\n",
              "    </tr>\n",
              "  </thead>\n",
              "  <tbody>\n",
              "    <tr>\n",
              "      <th>1</th>\n",
              "      <td>2018-05-21</td>\n",
              "      <td>The Supreme Court Just Made It A Lot Harder For You To Sue Your Employer</td>\n",
              "      <td>1.164067</td>\n",
              "      <td>POLITICS</td>\n",
              "    </tr>\n",
              "    <tr>\n",
              "      <th>2</th>\n",
              "      <td>2018-04-02</td>\n",
              "      <td>The Trump Administration Is Suing California Again</td>\n",
              "      <td>1.253867</td>\n",
              "      <td>POLITICS</td>\n",
              "    </tr>\n",
              "    <tr>\n",
              "      <th>3</th>\n",
              "      <td>2018-04-10</td>\n",
              "      <td>Lou Dobbs Flips Out On Live TV, Urges Trump To 'Fire The SOB' Robert Mueller</td>\n",
              "      <td>1.258810</td>\n",
              "      <td>MEDIA</td>\n",
              "    </tr>\n",
              "    <tr>\n",
              "      <th>4</th>\n",
              "      <td>2018-04-26</td>\n",
              "      <td>Cardi B's Former Manager Sues Her For $10 Million</td>\n",
              "      <td>1.268704</td>\n",
              "      <td>BLACK VOICES</td>\n",
              "    </tr>\n",
              "    <tr>\n",
              "      <th>5</th>\n",
              "      <td>2018-04-03</td>\n",
              "      <td>A Third Woman Is Suing To Break A Trump-Related Nondisclosure Agreement</td>\n",
              "      <td>1.274264</td>\n",
              "      <td>POLITICS</td>\n",
              "    </tr>\n",
              "    <tr>\n",
              "      <th>6</th>\n",
              "      <td>2018-02-24</td>\n",
              "      <td>Former RNC Chair Fires Back At Claim He Was Only Hired Because He Was Black</td>\n",
              "      <td>1.274847</td>\n",
              "      <td>POLITICS</td>\n",
              "    </tr>\n",
              "    <tr>\n",
              "      <th>7</th>\n",
              "      <td>2018-01-16</td>\n",
              "      <td>State Employer Side Payroll Taxes And Loser Liberalism</td>\n",
              "      <td>1.276696</td>\n",
              "      <td>POLITICS</td>\n",
              "    </tr>\n",
              "    <tr>\n",
              "      <th>8</th>\n",
              "      <td>2018-02-21</td>\n",
              "      <td>Democrats Flip Kentucky State House Seat Where Trump Won Overwhelmingly</td>\n",
              "      <td>1.282008</td>\n",
              "      <td>POLITICS</td>\n",
              "    </tr>\n",
              "    <tr>\n",
              "      <th>9</th>\n",
              "      <td>2018-01-09</td>\n",
              "      <td>Big Tax Game Hunting: Employer Side Payroll Taxes</td>\n",
              "      <td>1.285147</td>\n",
              "      <td>POLITICS</td>\n",
              "    </tr>\n",
              "    <tr>\n",
              "      <th>10</th>\n",
              "      <td>2018-02-28</td>\n",
              "      <td>Democrats Flip 2 More GOP-Held State House Seats</td>\n",
              "      <td>1.287403</td>\n",
              "      <td>POLITICS</td>\n",
              "    </tr>\n",
              "  </tbody>\n",
              "</table>\n",
              "</div>\n",
              "      <button class=\"colab-df-convert\" onclick=\"convertToInteractive('df-16202a2b-2ae6-4797-a2a5-bc07c13aa6e2')\"\n",
              "              title=\"Convert this dataframe to an interactive table.\"\n",
              "              style=\"display:none;\">\n",
              "        \n",
              "  <svg xmlns=\"http://www.w3.org/2000/svg\" height=\"24px\"viewBox=\"0 0 24 24\"\n",
              "       width=\"24px\">\n",
              "    <path d=\"M0 0h24v24H0V0z\" fill=\"none\"/>\n",
              "    <path d=\"M18.56 5.44l.94 2.06.94-2.06 2.06-.94-2.06-.94-.94-2.06-.94 2.06-2.06.94zm-11 1L8.5 8.5l.94-2.06 2.06-.94-2.06-.94L8.5 2.5l-.94 2.06-2.06.94zm10 10l.94 2.06.94-2.06 2.06-.94-2.06-.94-.94-2.06-.94 2.06-2.06.94z\"/><path d=\"M17.41 7.96l-1.37-1.37c-.4-.4-.92-.59-1.43-.59-.52 0-1.04.2-1.43.59L10.3 9.45l-7.72 7.72c-.78.78-.78 2.05 0 2.83L4 21.41c.39.39.9.59 1.41.59.51 0 1.02-.2 1.41-.59l7.78-7.78 2.81-2.81c.8-.78.8-2.07 0-2.86zM5.41 20L4 18.59l7.72-7.72 1.47 1.35L5.41 20z\"/>\n",
              "  </svg>\n",
              "      </button>\n",
              "      \n",
              "  <style>\n",
              "    .colab-df-container {\n",
              "      display:flex;\n",
              "      flex-wrap:wrap;\n",
              "      gap: 12px;\n",
              "    }\n",
              "\n",
              "    .colab-df-convert {\n",
              "      background-color: #E8F0FE;\n",
              "      border: none;\n",
              "      border-radius: 50%;\n",
              "      cursor: pointer;\n",
              "      display: none;\n",
              "      fill: #1967D2;\n",
              "      height: 32px;\n",
              "      padding: 0 0 0 0;\n",
              "      width: 32px;\n",
              "    }\n",
              "\n",
              "    .colab-df-convert:hover {\n",
              "      background-color: #E2EBFA;\n",
              "      box-shadow: 0px 1px 2px rgba(60, 64, 67, 0.3), 0px 1px 3px 1px rgba(60, 64, 67, 0.15);\n",
              "      fill: #174EA6;\n",
              "    }\n",
              "\n",
              "    [theme=dark] .colab-df-convert {\n",
              "      background-color: #3B4455;\n",
              "      fill: #D2E3FC;\n",
              "    }\n",
              "\n",
              "    [theme=dark] .colab-df-convert:hover {\n",
              "      background-color: #434B5C;\n",
              "      box-shadow: 0px 1px 3px 1px rgba(0, 0, 0, 0.15);\n",
              "      filter: drop-shadow(0px 1px 2px rgba(0, 0, 0, 0.3));\n",
              "      fill: #FFFFFF;\n",
              "    }\n",
              "  </style>\n",
              "\n",
              "      <script>\n",
              "        const buttonEl =\n",
              "          document.querySelector('#df-16202a2b-2ae6-4797-a2a5-bc07c13aa6e2 button.colab-df-convert');\n",
              "        buttonEl.style.display =\n",
              "          google.colab.kernel.accessAllowed ? 'block' : 'none';\n",
              "\n",
              "        async function convertToInteractive(key) {\n",
              "          const element = document.querySelector('#df-16202a2b-2ae6-4797-a2a5-bc07c13aa6e2');\n",
              "          const dataTable =\n",
              "            await google.colab.kernel.invokeFunction('convertToInteractive',\n",
              "                                                     [key], {});\n",
              "          if (!dataTable) return;\n",
              "\n",
              "          const docLinkHtml = 'Like what you see? Visit the ' +\n",
              "            '<a target=\"_blank\" href=https://colab.research.google.com/notebooks/data_table.ipynb>data table notebook</a>'\n",
              "            + ' to learn more about interactive tables.';\n",
              "          element.innerHTML = '';\n",
              "          dataTable['output_type'] = 'display_data';\n",
              "          await google.colab.output.renderOutput(dataTable, element);\n",
              "          const docLink = document.createElement('div');\n",
              "          docLink.innerHTML = docLinkHtml;\n",
              "          element.appendChild(docLink);\n",
              "        }\n",
              "      </script>\n",
              "    </div>\n",
              "  </div>\n",
              "  "
            ]
          },
          "metadata": {},
          "execution_count": 34
        }
      ]
    },
    {
      "cell_type": "code",
      "source": [
        "article_list_2,indices_tfidf_2 = tfidf_based_model(143, 11)\n",
        "article_list_2"
      ],
      "metadata": {
        "colab": {
          "base_uri": "https://localhost:8080/",
          "height": 511
        },
        "id": "QVnX7zVkJaxe",
        "outputId": "2cbc0821-423f-4045-d7ce-9dc6387e8c0d"
      },
      "execution_count": 35,
      "outputs": [
        {
          "output_type": "stream",
          "name": "stdout",
          "text": [
            "============================== Queried article details ==============================\n",
            "headline :  Woman Allegedly Blows Up Pee Sample In A 7-Eleven Microwave\n",
            "\n",
            " ========================= Recommended articles :  =======================\n"
          ]
        },
        {
          "output_type": "execute_result",
          "data": {
            "text/plain": [
              "   publish_date  \\\n",
              "1  2018-05-21     \n",
              "2  2018-01-24     \n",
              "3  2018-01-11     \n",
              "4  2018-02-02     \n",
              "5  2018-01-11     \n",
              "6  2018-05-03     \n",
              "7  2018-05-17     \n",
              "8  2018-03-09     \n",
              "9  2018-04-18     \n",
              "10 2018-03-29     \n",
              "\n",
              "                                                                          headline  \\\n",
              "1   Airline Passenger Arrested After Allegedly Harassing Woman And Peeing On Seat    \n",
              "2   Stephen Colbert Thinks He's Found Proof: 'There Is Definitely A Pee Pee Tape'    \n",
              "3   Governor Accused Of Blackmail Allegedly Slapped Woman He Had Affair With         \n",
              "4   Sean Hannity's Pee Pee Tape Discussion Goes Completely Off The Rails             \n",
              "5   Immigration Agents Raid Nearly 100 7-Eleven Stores Nationwide In Show Of Force   \n",
              "6   You Can't Unsee Jim Carrey's Naked Trump 'Urine Sample' Artwork                  \n",
              "7   The Farm Bill Could Be A Huge Blow To Animals                                    \n",
              "8   'Stand Down': How The Obama Team Blew The Response To Russian Meddling           \n",
              "9   Trevor Noah Has A Mind Blowing Theory About Sean Hannity                         \n",
              "10  Huge Debate Blows Up Over Which 'Friends' Character Would Have Voted For Trump   \n",
              "\n",
              "    Euclidean similarity with the queried article       Category  \n",
              "1   1.173314                                       WEIRD NEWS     \n",
              "2   1.253339                                       COMEDY         \n",
              "3   1.257262                                       POLITICS       \n",
              "4   1.259004                                       MEDIA          \n",
              "5   1.288777                                       POLITICS       \n",
              "6   1.290432                                       ENTERTAINMENT  \n",
              "7   1.301425                                       POLITICS       \n",
              "8   1.306652                                       POLITICS       \n",
              "9   1.307164                                       COMEDY         \n",
              "10  1.308664                                       ENTERTAINMENT  "
            ],
            "text/html": [
              "\n",
              "  <div id=\"df-17eaa723-ed99-43a6-8900-5a66903a23cc\">\n",
              "    <div class=\"colab-df-container\">\n",
              "      <div>\n",
              "<style scoped>\n",
              "    .dataframe tbody tr th:only-of-type {\n",
              "        vertical-align: middle;\n",
              "    }\n",
              "\n",
              "    .dataframe tbody tr th {\n",
              "        vertical-align: top;\n",
              "    }\n",
              "\n",
              "    .dataframe thead th {\n",
              "        text-align: right;\n",
              "    }\n",
              "</style>\n",
              "<table border=\"1\" class=\"dataframe\">\n",
              "  <thead>\n",
              "    <tr style=\"text-align: right;\">\n",
              "      <th></th>\n",
              "      <th>publish_date</th>\n",
              "      <th>headline</th>\n",
              "      <th>Euclidean similarity with the queried article</th>\n",
              "      <th>Category</th>\n",
              "    </tr>\n",
              "  </thead>\n",
              "  <tbody>\n",
              "    <tr>\n",
              "      <th>1</th>\n",
              "      <td>2018-05-21</td>\n",
              "      <td>Airline Passenger Arrested After Allegedly Harassing Woman And Peeing On Seat</td>\n",
              "      <td>1.173314</td>\n",
              "      <td>WEIRD NEWS</td>\n",
              "    </tr>\n",
              "    <tr>\n",
              "      <th>2</th>\n",
              "      <td>2018-01-24</td>\n",
              "      <td>Stephen Colbert Thinks He's Found Proof: 'There Is Definitely A Pee Pee Tape'</td>\n",
              "      <td>1.253339</td>\n",
              "      <td>COMEDY</td>\n",
              "    </tr>\n",
              "    <tr>\n",
              "      <th>3</th>\n",
              "      <td>2018-01-11</td>\n",
              "      <td>Governor Accused Of Blackmail Allegedly Slapped Woman He Had Affair With</td>\n",
              "      <td>1.257262</td>\n",
              "      <td>POLITICS</td>\n",
              "    </tr>\n",
              "    <tr>\n",
              "      <th>4</th>\n",
              "      <td>2018-02-02</td>\n",
              "      <td>Sean Hannity's Pee Pee Tape Discussion Goes Completely Off The Rails</td>\n",
              "      <td>1.259004</td>\n",
              "      <td>MEDIA</td>\n",
              "    </tr>\n",
              "    <tr>\n",
              "      <th>5</th>\n",
              "      <td>2018-01-11</td>\n",
              "      <td>Immigration Agents Raid Nearly 100 7-Eleven Stores Nationwide In Show Of Force</td>\n",
              "      <td>1.288777</td>\n",
              "      <td>POLITICS</td>\n",
              "    </tr>\n",
              "    <tr>\n",
              "      <th>6</th>\n",
              "      <td>2018-05-03</td>\n",
              "      <td>You Can't Unsee Jim Carrey's Naked Trump 'Urine Sample' Artwork</td>\n",
              "      <td>1.290432</td>\n",
              "      <td>ENTERTAINMENT</td>\n",
              "    </tr>\n",
              "    <tr>\n",
              "      <th>7</th>\n",
              "      <td>2018-05-17</td>\n",
              "      <td>The Farm Bill Could Be A Huge Blow To Animals</td>\n",
              "      <td>1.301425</td>\n",
              "      <td>POLITICS</td>\n",
              "    </tr>\n",
              "    <tr>\n",
              "      <th>8</th>\n",
              "      <td>2018-03-09</td>\n",
              "      <td>'Stand Down': How The Obama Team Blew The Response To Russian Meddling</td>\n",
              "      <td>1.306652</td>\n",
              "      <td>POLITICS</td>\n",
              "    </tr>\n",
              "    <tr>\n",
              "      <th>9</th>\n",
              "      <td>2018-04-18</td>\n",
              "      <td>Trevor Noah Has A Mind Blowing Theory About Sean Hannity</td>\n",
              "      <td>1.307164</td>\n",
              "      <td>COMEDY</td>\n",
              "    </tr>\n",
              "    <tr>\n",
              "      <th>10</th>\n",
              "      <td>2018-03-29</td>\n",
              "      <td>Huge Debate Blows Up Over Which 'Friends' Character Would Have Voted For Trump</td>\n",
              "      <td>1.308664</td>\n",
              "      <td>ENTERTAINMENT</td>\n",
              "    </tr>\n",
              "  </tbody>\n",
              "</table>\n",
              "</div>\n",
              "      <button class=\"colab-df-convert\" onclick=\"convertToInteractive('df-17eaa723-ed99-43a6-8900-5a66903a23cc')\"\n",
              "              title=\"Convert this dataframe to an interactive table.\"\n",
              "              style=\"display:none;\">\n",
              "        \n",
              "  <svg xmlns=\"http://www.w3.org/2000/svg\" height=\"24px\"viewBox=\"0 0 24 24\"\n",
              "       width=\"24px\">\n",
              "    <path d=\"M0 0h24v24H0V0z\" fill=\"none\"/>\n",
              "    <path d=\"M18.56 5.44l.94 2.06.94-2.06 2.06-.94-2.06-.94-.94-2.06-.94 2.06-2.06.94zm-11 1L8.5 8.5l.94-2.06 2.06-.94-2.06-.94L8.5 2.5l-.94 2.06-2.06.94zm10 10l.94 2.06.94-2.06 2.06-.94-2.06-.94-.94-2.06-.94 2.06-2.06.94z\"/><path d=\"M17.41 7.96l-1.37-1.37c-.4-.4-.92-.59-1.43-.59-.52 0-1.04.2-1.43.59L10.3 9.45l-7.72 7.72c-.78.78-.78 2.05 0 2.83L4 21.41c.39.39.9.59 1.41.59.51 0 1.02-.2 1.41-.59l7.78-7.78 2.81-2.81c.8-.78.8-2.07 0-2.86zM5.41 20L4 18.59l7.72-7.72 1.47 1.35L5.41 20z\"/>\n",
              "  </svg>\n",
              "      </button>\n",
              "      \n",
              "  <style>\n",
              "    .colab-df-container {\n",
              "      display:flex;\n",
              "      flex-wrap:wrap;\n",
              "      gap: 12px;\n",
              "    }\n",
              "\n",
              "    .colab-df-convert {\n",
              "      background-color: #E8F0FE;\n",
              "      border: none;\n",
              "      border-radius: 50%;\n",
              "      cursor: pointer;\n",
              "      display: none;\n",
              "      fill: #1967D2;\n",
              "      height: 32px;\n",
              "      padding: 0 0 0 0;\n",
              "      width: 32px;\n",
              "    }\n",
              "\n",
              "    .colab-df-convert:hover {\n",
              "      background-color: #E2EBFA;\n",
              "      box-shadow: 0px 1px 2px rgba(60, 64, 67, 0.3), 0px 1px 3px 1px rgba(60, 64, 67, 0.15);\n",
              "      fill: #174EA6;\n",
              "    }\n",
              "\n",
              "    [theme=dark] .colab-df-convert {\n",
              "      background-color: #3B4455;\n",
              "      fill: #D2E3FC;\n",
              "    }\n",
              "\n",
              "    [theme=dark] .colab-df-convert:hover {\n",
              "      background-color: #434B5C;\n",
              "      box-shadow: 0px 1px 3px 1px rgba(0, 0, 0, 0.15);\n",
              "      filter: drop-shadow(0px 1px 2px rgba(0, 0, 0, 0.3));\n",
              "      fill: #FFFFFF;\n",
              "    }\n",
              "  </style>\n",
              "\n",
              "      <script>\n",
              "        const buttonEl =\n",
              "          document.querySelector('#df-17eaa723-ed99-43a6-8900-5a66903a23cc button.colab-df-convert');\n",
              "        buttonEl.style.display =\n",
              "          google.colab.kernel.accessAllowed ? 'block' : 'none';\n",
              "\n",
              "        async function convertToInteractive(key) {\n",
              "          const element = document.querySelector('#df-17eaa723-ed99-43a6-8900-5a66903a23cc');\n",
              "          const dataTable =\n",
              "            await google.colab.kernel.invokeFunction('convertToInteractive',\n",
              "                                                     [key], {});\n",
              "          if (!dataTable) return;\n",
              "\n",
              "          const docLinkHtml = 'Like what you see? Visit the ' +\n",
              "            '<a target=\"_blank\" href=https://colab.research.google.com/notebooks/data_table.ipynb>data table notebook</a>'\n",
              "            + ' to learn more about interactive tables.';\n",
              "          element.innerHTML = '';\n",
              "          dataTable['output_type'] = 'display_data';\n",
              "          await google.colab.output.renderOutput(dataTable, element);\n",
              "          const docLink = document.createElement('div');\n",
              "          docLink.innerHTML = docLinkHtml;\n",
              "          element.appendChild(docLink);\n",
              "        }\n",
              "      </script>\n",
              "    </div>\n",
              "  </div>\n",
              "  "
            ]
          },
          "metadata": {},
          "execution_count": 35
        }
      ]
    },
    {
      "cell_type": "markdown",
      "source": [
        "##**Diversity Measure**\n"
      ],
      "metadata": {
        "id": "InuT_wW4gI27"
      }
    },
    {
      "cell_type": "markdown",
      "source": [
        "**1. Calculating ILD scores for recommendations**"
      ],
      "metadata": {
        "id": "DrZjI13Ulu4L"
      }
    },
    {
      "cell_type": "code",
      "source": [
        "articles_bow_1 = news_articles.iloc[indices_bow_1]\n",
        "articles_bow_2 = news_articles.iloc[indices_bow_2]\n",
        "articles_tfidf_1 = news_articles.iloc[indices_tfidf_1]\n",
        "articles_tfidf_2 = news_articles.iloc[indices_tfidf_2]"
      ],
      "metadata": {
        "id": "TRSuZkowbl8x"
      },
      "execution_count": 69,
      "outputs": []
    },
    {
      "cell_type": "code",
      "source": [
        "from sys import platlibdir\n",
        "plt.figure().set_figwidth(10)\n",
        "plt.hist(articles_bow_1.category, alpha=0.5, label='BOW Q1', edgecolor = 'red')\n",
        "\n",
        "plt.hist(articles_tfidf_1.category, alpha=0.5, label='TF-IDF Q1', edgecolor = 'black')\n",
        "\n",
        "plt.legend(loc='upper right')\n",
        "plt.show()"
      ],
      "metadata": {
        "colab": {
          "base_uri": "https://localhost:8080/",
          "height": 265
        },
        "id": "b_u1kAm0tknT",
        "outputId": "1c48f4de-f6c0-404b-8c7a-89ce5ce0fe5b"
      },
      "execution_count": 80,
      "outputs": [
        {
          "output_type": "display_data",
          "data": {
            "text/plain": [
              "<Figure size 720x288 with 1 Axes>"
            ],
            "image/png": "[encoded data removed]"
          },
          "metadata": {
            "needs_background": "light"
          }
        }
      ]
    },
    {
      "cell_type": "code",
      "source": [
        "plt.figure().set_figwidth(10)\n",
        "plt.hist(articles_bow_2.category, alpha=0.5, label='BOW Q2', edgecolor = 'red')\n",
        "plt.hist(articles_tfidf_2.category, alpha=0.5, label='TF-idf Q2', edgecolor = 'black')\n",
        "plt.legend(loc='upper right')\n",
        "plt.show()"
      ],
      "metadata": {
        "colab": {
          "base_uri": "https://localhost:8080/",
          "height": 265
        },
        "id": "rsCnYX1Ivy-5",
        "outputId": "6bf981aa-fafa-4c6f-d59f-0e17f32f564c"
      },
      "execution_count": 81,
      "outputs": [
        {
          "output_type": "display_data",
          "data": {
            "text/plain": [
              "<Figure size 720x288 with 1 Axes>"
            ],
            "image/png": "[encoded data removed]"
          },
          "metadata": {
            "needs_background": "light"
          }
        }
      ]
    },
    {
      "cell_type": "code",
      "source": [
        "headline_vectorizer_bow_1 = CountVectorizer()\n",
        "headline_features_bow_1   = headline_vectorizer_bow_1.fit_transform(articles_bow_1['category'])\n",
        "headline_features_bow_1"
      ],
      "metadata": {
        "colab": {
          "base_uri": "https://localhost:8080/"
        },
        "id": "JUrQPgAucRng",
        "outputId": "9104a4f2-8b06-49b9-a190-fe731ea41ad0"
      },
      "execution_count": 82,
      "outputs": [
        {
          "output_type": "execute_result",
          "data": {
            "text/plain": [
              "<11x6 sparse matrix of type '<class 'numpy.int64'>'\n",
              "\twith 12 stored elements in Compressed Sparse Row format>"
            ]
          },
          "metadata": {},
          "execution_count": 82
        }
      ]
    },
    {
      "cell_type": "code",
      "source": [
        "articles_bow_1['category']"
      ],
      "metadata": {
        "colab": {
          "base_uri": "https://localhost:8080/"
        },
        "id": "RPqJTrzqnt4W",
        "outputId": "670391b8-d63e-4e63-b03f-a2b464fd0afd"
      },
      "execution_count": 39,
      "outputs": [
        {
          "output_type": "execute_result",
          "data": {
            "text/plain": [
              "133     POLITICS     \n",
              "1588    POLITICS     \n",
              "1842    POLITICS     \n",
              "2051    POLITICS     \n",
              "748     POLITICS     \n",
              "2206    WEIRD NEWS   \n",
              "308     POLITICS     \n",
              "1775    POLITICS     \n",
              "1142    POLITICS     \n",
              "7681    LATINO VOICES\n",
              "3019    POLITICS     \n",
              "Name: category, dtype: object"
            ]
          },
          "metadata": {},
          "execution_count": 39
        }
      ]
    },
    {
      "cell_type": "code",
      "source": [
        "headline_vectorizer_bow_2 = CountVectorizer()\n",
        "headline_features_bow_2  = headline_vectorizer_bow_2.fit_transform(articles_bow_2['category'])\n",
        "headline_features_bow_2"
      ],
      "metadata": {
        "colab": {
          "base_uri": "https://localhost:8080/"
        },
        "outputId": "c4cd7a3a-22c7-4f6b-ea45-61344f5673da",
        "id": "XO9LTCKXc-Gf"
      },
      "execution_count": 83,
      "outputs": [
        {
          "output_type": "execute_result",
          "data": {
            "text/plain": [
              "<11x6 sparse matrix of type '<class 'numpy.int64'>'\n",
              "\twith 16 stored elements in Compressed Sparse Row format>"
            ]
          },
          "metadata": {},
          "execution_count": 83
        }
      ]
    },
    {
      "cell_type": "code",
      "source": [
        "articles_bow_2['category']"
      ],
      "metadata": {
        "colab": {
          "base_uri": "https://localhost:8080/"
        },
        "id": "U3DRvF6TnxQA",
        "outputId": "ffbb3830-d559-4068-8b9a-7567fde62e14"
      },
      "execution_count": 84,
      "outputs": [
        {
          "output_type": "execute_result",
          "data": {
            "text/plain": [
              "143     WEIRD NEWS   \n",
              "7727    WEIRD NEWS   \n",
              "7681    LATINO VOICES\n",
              "301     POLITICS     \n",
              "3181    WEIRD NEWS   \n",
              "5253    POLITICS     \n",
              "5488    ENTERTAINMENT\n",
              "1665    POLITICS     \n",
              "5587    POLITICS     \n",
              "3151    WEIRD NEWS   \n",
              "1812    ENTERTAINMENT\n",
              "Name: category, dtype: object"
            ]
          },
          "metadata": {},
          "execution_count": 84
        }
      ]
    },
    {
      "cell_type": "code",
      "source": [
        "headline_vectorizer_tfidf_1 = TfidfVectorizer(min_df = 0)\n",
        "headline_features_tfidf_1   = headline_vectorizer_tfidf_1.fit_transform(articles_tfidf_1['category'])\n",
        "headline_features_tfidf_1"
      ],
      "metadata": {
        "colab": {
          "base_uri": "https://localhost:8080/"
        },
        "outputId": "efa47af3-9dbe-48ce-fbee-d076573ed6f1",
        "id": "ofu5sLHbc9qk"
      },
      "execution_count": 85,
      "outputs": [
        {
          "output_type": "execute_result",
          "data": {
            "text/plain": [
              "<11x4 sparse matrix of type '<class 'numpy.float64'>'\n",
              "\twith 12 stored elements in Compressed Sparse Row format>"
            ]
          },
          "metadata": {},
          "execution_count": 85
        }
      ]
    },
    {
      "cell_type": "code",
      "source": [
        "articles_tfidf_1['category']"
      ],
      "metadata": {
        "colab": {
          "base_uri": "https://localhost:8080/"
        },
        "id": "foy3_HqLn0y7",
        "outputId": "8370d9b7-9ac5-4736-f562-fe8d3088b978"
      },
      "execution_count": 43,
      "outputs": [
        {
          "output_type": "execute_result",
          "data": {
            "text/plain": [
              "133     POLITICS    \n",
              "1600    POLITICS    \n",
              "1588    POLITICS    \n",
              "4238    MEDIA       \n",
              "7056    BLACK VOICES\n",
              "7839    POLITICS    \n",
              "5875    POLITICS    \n",
              "2173    POLITICS    \n",
              "6576    POLITICS    \n",
              "7317    POLITICS    \n",
              "6577    POLITICS    \n",
              "Name: category, dtype: object"
            ]
          },
          "metadata": {},
          "execution_count": 43
        }
      ]
    },
    {
      "cell_type": "code",
      "source": [
        "headline_vectorizer_tfidf_2 = TfidfVectorizer(min_df = 0)\n",
        "headline_features_tfidf_2  = headline_vectorizer_tfidf_2.fit_transform(articles_tfidf_2['category'])\n",
        "headline_features_tfidf_2"
      ],
      "metadata": {
        "colab": {
          "base_uri": "https://localhost:8080/"
        },
        "outputId": "fb7754a3-d698-4d8d-9a07-e2419b150d9b",
        "id": "GxR-OgZVc-1i"
      },
      "execution_count": 86,
      "outputs": [
        {
          "output_type": "execute_result",
          "data": {
            "text/plain": [
              "<11x6 sparse matrix of type '<class 'numpy.float64'>'\n",
              "\twith 13 stored elements in Compressed Sparse Row format>"
            ]
          },
          "metadata": {},
          "execution_count": 86
        }
      ]
    },
    {
      "cell_type": "code",
      "source": [
        "articles_tfidf_2['category']"
      ],
      "metadata": {
        "colab": {
          "base_uri": "https://localhost:8080/"
        },
        "id": "oqyrbREbn4JX",
        "outputId": "c0202d67-4915-486f-b004-5acab1cfa609"
      },
      "execution_count": 45,
      "outputs": [
        {
          "output_type": "execute_result",
          "data": {
            "text/plain": [
              "143     WEIRD NEWS   \n",
              "7727    WEIRD NEWS   \n",
              "2117    COMEDY       \n",
              "5587    POLITICS     \n",
              "2503    MEDIA        \n",
              "5175    POLITICS     \n",
              "82      ENTERTAINMENT\n",
              "1747    POLITICS     \n",
              "8211    POLITICS     \n",
              "1236    COMEDY       \n",
              "5238    ENTERTAINMENT\n",
              "Name: category, dtype: object"
            ]
          },
          "metadata": {},
          "execution_count": 45
        }
      ]
    },
    {
      "cell_type": "code",
      "source": [
        "vectors_bow_1 =pd.DataFrame(headline_features_bow_1.toarray())\n",
        "cosine_similarities_bow_1 = cosine_similarity(vectors_bow_1, vectors_bow_1)\n",
        "\n",
        "\n",
        "#calculatig average of all rows in the cosine similarity matrix\n",
        "row_avg = []\n",
        "for ind in range(len(cosine_similarities_bow_1)):\n",
        "  avg = sum(cosine_similarities_bow_1[ind])/cosine_similarities_bow_1[ind].shape[0]\n",
        "  row_avg.append(avg)\n",
        "\n",
        "ILD_bow_1 = 1-(sum(row_avg)/len(row_avg))\n",
        "ILD_bow_1"
      ],
      "metadata": {
        "colab": {
          "base_uri": "https://localhost:8080/"
        },
        "id": "PmDBZGJ5c9RN",
        "outputId": "0df047b7-b881-4c76-dfc2-911eaf9e557f"
      },
      "execution_count": 130,
      "outputs": [
        {
          "output_type": "execute_result",
          "data": {
            "text/plain": [
              "0.43801652892561976"
            ]
          },
          "metadata": {},
          "execution_count": 130
        }
      ]
    },
    {
      "cell_type": "code",
      "source": [
        "vectors_bow_2 =pd.DataFrame(headline_features_bow_2.toarray())\n",
        "cosine_similarities_bow_2 = cosine_similarity(vectors_bow_2, vectors_bow_2)\n",
        "\n",
        "\n",
        "#calculatig average of all rows in the cosine similarity matrix\n",
        "row_avg = []\n",
        "for ind in range(len(cosine_similarities_bow_2)):\n",
        "  avg = sum(cosine_similarities_bow_2[ind])/cosine_similarities_bow_2[ind].shape[0]\n",
        "  row_avg.append(avg)\n",
        "\n",
        "ILD_bow_2 = 1-(sum(row_avg)/len(row_avg))\n",
        "ILD_bow_2"
      ],
      "metadata": {
        "colab": {
          "base_uri": "https://localhost:8080/"
        },
        "id": "B46rIHV6fQcT",
        "outputId": "3f8b58e8-4cc2-4503-d681-f13f2376c47c"
      },
      "execution_count": 129,
      "outputs": [
        {
          "output_type": "execute_result",
          "data": {
            "text/plain": [
              "0.30578512396694213"
            ]
          },
          "metadata": {},
          "execution_count": 129
        }
      ]
    },
    {
      "cell_type": "code",
      "source": [
        "vectors_tfidf_1 =pd.DataFrame(headline_features_tfidf_1.toarray())\n",
        "cosine_similarities_tfidf_1 = cosine_similarity(vectors_tfidf_1, vectors_tfidf_1)\n",
        "\n",
        "\n",
        "#calculating average of all rows in the cosine similarity matrix\n",
        "row_avg = []\n",
        "for ind in range(len(cosine_similarities_tfidf_1)):\n",
        "  avg = sum(cosine_similarities_tfidf_1[ind])/cosine_similarities_tfidf_1[ind].shape[0]\n",
        "  row_avg.append(avg)\n",
        "\n",
        "ILD_tfidf_1 = 1-(sum(row_avg)/len(row_avg))\n",
        "ILD_tfidf_1"
      ],
      "metadata": {
        "colab": {
          "base_uri": "https://localhost:8080/"
        },
        "id": "Y7PIsv-rfQnO",
        "outputId": "ef05f3b1-1fd2-4dc0-e1be-f68d5b327815"
      },
      "execution_count": 89,
      "outputs": [
        {
          "output_type": "execute_result",
          "data": {
            "text/plain": [
              "0.31404958677685946"
            ]
          },
          "metadata": {},
          "execution_count": 89
        }
      ]
    },
    {
      "cell_type": "code",
      "source": [
        "vectors_tfidf_2 =pd.DataFrame(headline_features_tfidf_2.toarray())\n",
        "cosine_similarities_tfidf_2 = cosine_similarity(vectors_tfidf_2, vectors_tfidf_2)\n",
        "\n",
        "\n",
        "#calculating average of all rows in the cosine similarity matrix\n",
        "row_avg = []\n",
        "for ind in range(len(cosine_similarities_tfidf_2)):\n",
        "  avg = sum(cosine_similarities_tfidf_2[ind])/cosine_similarities_tfidf_2[ind].shape[0]\n",
        "  row_avg.append(avg)\n",
        "\n",
        "ILD_tfidf_2 = 1-(sum(row_avg)/len(row_avg))\n",
        "ILD_tfidf_2"
      ],
      "metadata": {
        "colab": {
          "base_uri": "https://localhost:8080/"
        },
        "id": "0xihph0FfQ0x",
        "outputId": "7a406265-ac08-4fa9-f8cd-b747f06fbb3e"
      },
      "execution_count": 128,
      "outputs": [
        {
          "output_type": "execute_result",
          "data": {
            "text/plain": [
              "0.23966942148760328"
            ]
          },
          "metadata": {},
          "execution_count": 128
        }
      ]
    },
    {
      "cell_type": "code",
      "source": [
        "\n",
        "vectors =pd.DataFrame(tfidf_headline_features.toarray())\n",
        "# vectors"
      ],
      "metadata": {
        "id": "V9qKu07CmCeT"
      },
      "execution_count": 91,
      "outputs": []
    },
    {
      "cell_type": "code",
      "source": [
        "!pip install beautifultable"
      ],
      "metadata": {
        "colab": {
          "base_uri": "https://localhost:8080/"
        },
        "id": "aiV0WacRwYVH",
        "outputId": "99f5776b-6b80-4be8-cc03-1330f97fbc97"
      },
      "execution_count": 101,
      "outputs": [
        {
          "output_type": "stream",
          "name": "stdout",
          "text": [
            "Looking in indexes: https://pypi.org/simple, https://us-python.pkg.dev/colab-wheels/public/simple/\n",
            "Requirement already satisfied: beautifultable in /usr/local/lib/python3.9/dist-packages (1.1.0)\n",
            "Requirement already satisfied: wcwidth in /usr/local/lib/python3.9/dist-packages (from beautifultable) (0.2.6)\n"
          ]
        }
      ]
    },
    {
      "cell_type": "markdown",
      "source": [
        "### Introducing diversity into the topics "
      ],
      "metadata": {
        "id": "s1KzJs_6hv-G"
      }
    },
    {
      "cell_type": "code",
      "source": [
        "# random_values = []\n",
        "# while(len(random_values)<3):\n",
        "random_values=random.sample(range(0, 1000), 8)\n",
        "random_values"
      ],
      "metadata": {
        "colab": {
          "base_uri": "https://localhost:8080/"
        },
        "id": "nIfM_CFHWaV2",
        "outputId": "7da15aaf-1a82-4dfc-9808-0616d44f7c5b"
      },
      "execution_count": 120,
      "outputs": [
        {
          "output_type": "execute_result",
          "data": {
            "text/plain": [
              "[726, 451, 608, 850, 196, 556, 382, 61]"
            ]
          },
          "metadata": {},
          "execution_count": 120
        }
      ]
    },
    {
      "cell_type": "code",
      "source": [
        "indices_bow_1_diverse = indices_bow_1\n",
        "\n",
        "for i in range(3,11):\n",
        "  indices_bow_1_diverse[i] = random_values[i-8]\n",
        "\n",
        "indices_bow_1_diverse"
      ],
      "metadata": {
        "colab": {
          "base_uri": "https://localhost:8080/"
        },
        "id": "ey2KojFJjQmr",
        "outputId": "b99e263b-6d55-4bdb-aa53-c8823cbc7bc3"
      },
      "execution_count": 121,
      "outputs": [
        {
          "output_type": "execute_result",
          "data": {
            "text/plain": [
              "array([ 133, 1588, 1842,  850,  196,  556,  382,   61,  726,  451,  608])"
            ]
          },
          "metadata": {},
          "execution_count": 121
        }
      ]
    },
    {
      "cell_type": "code",
      "source": [
        "articles_bow_1_diverse = news_articles.iloc[indices_bow_1_diverse]"
      ],
      "metadata": {
        "id": "qjsuYDLUj_Z4"
      },
      "execution_count": 122,
      "outputs": []
    },
    {
      "cell_type": "code",
      "source": [
        "plt.hist(articles_bow_1_diverse.category)"
      ],
      "metadata": {
        "colab": {
          "base_uri": "https://localhost:8080/",
          "height": 317
        },
        "id": "T_oLAAJ_zUpv",
        "outputId": "f444c14e-2f2e-44d7-d52c-7540fe5afc8e"
      },
      "execution_count": 123,
      "outputs": [
        {
          "output_type": "execute_result",
          "data": {
            "text/plain": [
              "(array([5., 0., 1., 0., 2., 0., 1., 0., 1., 1.]),\n",
              " array([0. , 0.5, 1. , 1.5, 2. , 2.5, 3. , 3.5, 4. , 4.5, 5. ]),\n",
              " <BarContainer object of 10 artists>)"
            ]
          },
          "metadata": {},
          "execution_count": 123
        },
        {
          "output_type": "display_data",
          "data": {
            "text/plain": [
              "<Figure size 432x288 with 1 Axes>"
            ],
            "image/png": "[encoded data removed]"
          },
          "metadata": {
            "needs_background": "light"
          }
        }
      ]
    },
    {
      "cell_type": "code",
      "source": [
        "headline_vectorizer_bow_1_diverse = CountVectorizer()\n",
        "headline_features_bow_1_diverse   = headline_vectorizer_bow_1_diverse.fit_transform(articles_bow_1_diverse['category'])\n",
        "headline_features_bow_1_diverse"
      ],
      "metadata": {
        "colab": {
          "base_uri": "https://localhost:8080/"
        },
        "id": "HJ5k6cNzkI3g",
        "outputId": "b8fa7176-2957-460d-fc3a-f56f750a6e5a"
      },
      "execution_count": 124,
      "outputs": [
        {
          "output_type": "execute_result",
          "data": {
            "text/plain": [
              "<11x8 sparse matrix of type '<class 'numpy.int64'>'\n",
              "\twith 14 stored elements in Compressed Sparse Row format>"
            ]
          },
          "metadata": {},
          "execution_count": 124
        }
      ]
    },
    {
      "cell_type": "code",
      "source": [
        "vectors_bow_1_diverse =pd.DataFrame(headline_features_bow_1_diverse.toarray())\n",
        "cosine_similarities_bow_1_diverse = cosine_similarity(vectors_bow_1_diverse, vectors_bow_1_diverse)\n",
        "\n",
        "\n",
        "#calculatig average of all rows in the cosine similarity matrix\n",
        "row_avg = []\n",
        "for ind in range(len(cosine_similarities_bow_1_diverse)):\n",
        "  avg = sum(cosine_similarities_bow_1_diverse[ind])/cosine_similarities_bow_1_diverse[ind].shape[0]\n",
        "  row_avg.append(avg)\n",
        "\n",
        "ILD_bow_1_diverse = 1-(sum(row_avg)/len(row_avg))\n",
        "ILD_bow_1_diverse"
      ],
      "metadata": {
        "colab": {
          "base_uri": "https://localhost:8080/"
        },
        "id": "EEKcVcRnkI5j",
        "outputId": "5d36cbc1-7d7f-4934-9f89-2080535be28b"
      },
      "execution_count": 125,
      "outputs": [
        {
          "output_type": "execute_result",
          "data": {
            "text/plain": [
              "0.7272727272727273"
            ]
          },
          "metadata": {},
          "execution_count": 125
        }
      ]
    },
    {
      "cell_type": "code",
      "source": [
        "print(\"The ILD score after introducing random diversity in the recmmended articles:\",ILD_bow_1_diverse)"
      ],
      "metadata": {
        "colab": {
          "base_uri": "https://localhost:8080/"
        },
        "id": "9YeIx9BVkI9C",
        "outputId": "b0d01a76-4407-425c-da45-17434be9fb76"
      },
      "execution_count": 126,
      "outputs": [
        {
          "output_type": "stream",
          "name": "stdout",
          "text": [
            "The ILD score after introducing random diversity in the recmmended articles: 0.7272727272727273\n"
          ]
        }
      ]
    },
    {
      "cell_type": "code",
      "source": [
        "from beautifultable import BeautifulTable\n",
        "table = BeautifulTable()\n",
        "table.rows.append([ILD_bow_1, ILD_bow_2, ILD_tfidf_1, ILD_tfidf_2, ILD_bow_1_diverse])\n",
        "table.rows.header = [\"Intra-List Similarity\"]\n",
        "table.columns.header = [\"BOW Query 1\", \"BOW Query 2\", \"Tf-Idf Query 1\", \"Tf-Idf Query 2\", \"BOW with random function\"]\n",
        "print(table)"
      ],
      "metadata": {
        "colab": {
          "base_uri": "https://localhost:8080/"
        },
        "id": "-4Wu8mAo1OUL",
        "outputId": "dfbca397-871c-4a63-de49-7f48b7008599"
      },
      "execution_count": 131,
      "outputs": [
        {
          "output_type": "stream",
          "name": "stdout",
          "text": [
            "+---------------+---------+---------+-----------+-----------+------------------+\n",
            "|               | BOW Que | BOW Que | Tf-Idf Qu | Tf-Idf Qu | BOW with random  |\n",
            "|               |  ry 1   |  ry 2   |   ery 1   |   ery 2   |     function     |\n",
            "+---------------+---------+---------+-----------+-----------+------------------+\n",
            "| Intra-List Si |  0.438  |  0.306  |   0.314   |   0.24    |      0.727       |\n",
            "|   milarity    |         |         |           |           |                  |\n",
            "+---------------+---------+---------+-----------+-----------+------------------+\n"
          ]
        }
      ]
    },
    {
      "cell_type": "markdown",
      "source": [
        "**2. Intra List Diversity (ILD)**"
      ],
      "metadata": {
        "id": "oILq0qegtBXj"
      }
    },
    {
      "cell_type": "code",
      "source": [
        "from sklearn.metrics.pairwise import linear_kernel"
      ],
      "metadata": {
        "id": "BogkO7wurqkW"
      },
      "execution_count": 57,
      "outputs": []
    },
    {
      "cell_type": "code",
      "source": [
        "cosine_similarities = linear_kernel(vectors, vectors)"
      ],
      "metadata": {
        "id": "tXZ-rerQra2i"
      },
      "execution_count": 58,
      "outputs": []
    },
    {
      "cell_type": "code",
      "source": [
        "cosine_similarities"
      ],
      "metadata": {
        "colab": {
          "base_uri": "https://localhost:8080/"
        },
        "id": "9OD3FEtKr6_k",
        "outputId": "da655bfc-1f99-41f4-a247-7a788587fcc2"
      },
      "execution_count": 59,
      "outputs": [
        {
          "output_type": "execute_result",
          "data": {
            "text/plain": [
              "array([[1.        , 0.        , 0.        , ..., 0.        , 0.        ,\n",
              "        0.13390773],\n",
              "       [0.        , 1.        , 0.        , ..., 0.        , 0.        ,\n",
              "        0.        ],\n",
              "       [0.        , 0.        , 1.        , ..., 0.08671627, 0.        ,\n",
              "        0.        ],\n",
              "       ...,\n",
              "       [0.        , 0.        , 0.08671627, ..., 1.        , 0.        ,\n",
              "        0.        ],\n",
              "       [0.        , 0.        , 0.        , ..., 0.        , 1.        ,\n",
              "        0.        ],\n",
              "       [0.13390773, 0.        , 0.        , ..., 0.        , 0.        ,\n",
              "        1.        ]])"
            ]
          },
          "metadata": {},
          "execution_count": 59
        }
      ]
    },
    {
      "cell_type": "code",
      "source": [
        "#calculatig average of all rows in the cosine similarity matrix\n",
        "row_avg = []\n",
        "for ind in range(len(cosine_similarities)):\n",
        "  avg = sum(cosine_similarities[ind])/cosine_similarities[ind].shape[0]\n",
        "  row_avg.append(avg)\n",
        "\n",
        "ILD = sum(row_avg)/len(row_avg)\n",
        "ILD\n"
      ],
      "metadata": {
        "colab": {
          "base_uri": "https://localhost:8080/"
        },
        "id": "JYEHYYRAsBWA",
        "outputId": "ef20ac61-f11a-4e40-a215-20c59cb5fb8b"
      },
      "execution_count": 60,
      "outputs": [
        {
          "output_type": "execute_result",
          "data": {
            "text/plain": [
              "0.0043452074701240346"
            ]
          },
          "metadata": {},
          "execution_count": 60
        }
      ]
    },
    {
      "cell_type": "markdown",
      "source": [
        "### Diversity measure of list recommended by BOW"
      ],
      "metadata": {
        "id": "DFOwxs6sXOQK"
      }
    },
    {
      "cell_type": "code",
      "source": [
        "\n",
        "\n",
        "vectors_bow =pd.DataFrame(headline_features.toarray())"
      ],
      "metadata": {
        "id": "HOgq_1RmXVr5"
      },
      "execution_count": 61,
      "outputs": []
    },
    {
      "cell_type": "code",
      "source": [
        "cosine_similarities_bow = linear_kernel(vectors_bow, vectors_bow)"
      ],
      "metadata": {
        "id": "nClw1jz7XVty"
      },
      "execution_count": 62,
      "outputs": []
    },
    {
      "cell_type": "code",
      "source": [
        "#calculatig average of all rows in the cosine similarity matrix\n",
        "row_avg = []\n",
        "for ind in range(len(cosine_similarities_bow)):\n",
        "  avg = sum(cosine_similarities_bow[ind])/cosine_similarities_bow[ind].shape[0]\n",
        "  row_avg.append(avg)\n",
        "\n",
        "ILD = sum(row_avg)/len(row_avg)\n",
        "ILD\n"
      ],
      "metadata": {
        "colab": {
          "base_uri": "https://localhost:8080/"
        },
        "id": "fyw8-XfLXVxl",
        "outputId": "bd4c7fa0-b9d8-4a6f-9475-35aa0d55fd46"
      },
      "execution_count": 63,
      "outputs": [
        {
          "output_type": "execute_result",
          "data": {
            "text/plain": [
              "0.08542745716816685"
            ]
          },
          "metadata": {},
          "execution_count": 63
        }
      ]
    },
    {
      "cell_type": "markdown",
      "source": [
        "**3. Individual Diversity (ID)**"
      ],
      "metadata": {
        "id": "YUees9f-uIBa"
      }
    },
    {
      "cell_type": "code",
      "source": [
        "#ID = ( 1/(n*(n-1)) ) * (sum of pairwise distances)\n",
        "\n",
        "ID = sum(sum(cosine_similarities))/(len(cosine_similarities)*(len(cosine_similarities)-1))\n",
        "ID\n"
      ],
      "metadata": {
        "colab": {
          "base_uri": "https://localhost:8080/"
        },
        "id": "wu4cOffcgxfE",
        "outputId": "5b42526f-f294-48d3-a450-41806b37a94e"
      },
      "execution_count": 64,
      "outputs": [
        {
          "output_type": "execute_result",
          "data": {
            "text/plain": [
              "0.004345719635078083"
            ]
          },
          "metadata": {},
          "execution_count": 64
        }
      ]
    },
    {
      "cell_type": "code",
      "source": [
        "sum(cosine_similarities)"
      ],
      "metadata": {
        "colab": {
          "base_uri": "https://localhost:8080/"
        },
        "id": "WnIaLFCvuVrQ",
        "outputId": "6168373f-2f7f-4c22-fe11-a0c4f678b8a9"
      },
      "execution_count": 65,
      "outputs": [
        {
          "output_type": "execute_result",
          "data": {
            "text/plain": [
              "array([28.76910675, 36.4818606 , 29.1708502 , ..., 18.18750957,\n",
              "       25.1816208 , 41.55833352])"
            ]
          },
          "metadata": {},
          "execution_count": 65
        }
      ]
    },
    {
      "cell_type": "code",
      "source": [
        "#ID = ( 1/(n*(n-1)) ) * (sum of pairwise distances)\n",
        "\n",
        "ID = sum(sum(cosine_similarities))/(len(cosine_similarities)*(len(cosine_similarities)-1))\n",
        "ID\n"
      ],
      "metadata": {
        "colab": {
          "base_uri": "https://localhost:8080/"
        },
        "outputId": "831d4efe-67a3-474f-e3fb-d2df544eab18",
        "id": "IyQ2tMKkX2Pm"
      },
      "execution_count": 66,
      "outputs": [
        {
          "output_type": "execute_result",
          "data": {
            "text/plain": [
              "0.004345719635078083"
            ]
          },
          "metadata": {},
          "execution_count": 66
        }
      ]
    },
    {
      "cell_type": "code",
      "source": [
        "sum(cosine_similarities)"
      ],
      "metadata": {
        "colab": {
          "base_uri": "https://localhost:8080/"
        },
        "outputId": "93c2044b-1647-4a6b-fbea-719847423005",
        "id": "XQDdCeldX7oc"
      },
      "execution_count": 67,
      "outputs": [
        {
          "output_type": "execute_result",
          "data": {
            "text/plain": [
              "array([28.76910675, 36.4818606 , 29.1708502 , ..., 18.18750957,\n",
              "       25.1816208 , 41.55833352])"
            ]
          },
          "metadata": {},
          "execution_count": 67
        }
      ]
    },
    {
      "cell_type": "code",
      "source": [
        "#calculating fir the first 10 articles\n",
        "\n",
        "# couple_dist_matrix=[]\n",
        "# for index in range(10):\n",
        "#   couple_dist_temp = pairwise_distances(vectorizer_features[:10],vectorizer_features[index])\n",
        "#   couple_dist_matrix.append(couple_dist_temp)\n",
        "\n",
        "# # print(couple_dist_matrix)\n",
        "# couple_dist_matrix\n",
        "\n"
      ],
      "metadata": {
        "id": "0QFYqOio6zlp"
      },
      "execution_count": 103,
      "outputs": []
    }
  ]
}